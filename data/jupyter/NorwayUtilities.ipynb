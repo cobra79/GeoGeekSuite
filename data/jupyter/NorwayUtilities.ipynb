{
 "cells": [
  {
   "cell_type": "code",
   "execution_count": 1,
   "id": "e5a101dc-6e32-4a80-aa7d-5c3df42dd82f",
   "metadata": {},
   "outputs": [],
   "source": [
    "import geopandas as gpd\n",
    "import cobra.postgres.interface as pgi\n",
    "import cobra.utils.filehandling as fh\n",
    "import cobra.utils.jobhandling as jh\n",
    "import geopandas as gpd\n",
    "import cobra.utils.geodatahandling as gdh"
   ]
  },
  {
   "cell_type": "code",
   "execution_count": 2,
   "id": "72166f80-a472-4cbb-83c2-457dbcf4dd2f",
   "metadata": {},
   "outputs": [],
   "source": [
    "fileman = fh.Filemanager()\n",
    "jobman = jh.Jobmanager()"
   ]
  },
  {
   "cell_type": "code",
   "execution_count": null,
   "id": "d1d98ada-ecd3-44c3-a1ce-fbefcf3c847a",
   "metadata": {},
   "outputs": [],
   "source": [
    "#jobman.delete_jobs()"
   ]
  },
  {
   "cell_type": "code",
   "execution_count": null,
   "id": "6c1b4e58-9865-45a7-a3f6-9a078b48eb43",
   "metadata": {},
   "outputs": [],
   "source": [
    "#fileman.download_plain_file('https://download.geofabrik.de/europe/norway-latest.osm.pbf','Norway')"
   ]
  },
  {
   "cell_type": "code",
   "execution_count": null,
   "id": "1993b180-7e70-4f6d-9062-e4e605a5fc4c",
   "metadata": {},
   "outputs": [],
   "source": [
    "! ls /download/Norway"
   ]
  },
  {
   "cell_type": "code",
   "execution_count": null,
   "id": "1140568a-beab-4321-b711-1e9405928573",
   "metadata": {},
   "outputs": [],
   "source": [
    "datasets = fileman.get_data(datatype='OSM PBF')\n",
    "datasets.head()"
   ]
  },
  {
   "cell_type": "code",
   "execution_count": null,
   "id": "8561d57e-800c-4272-85bb-4b584e234110",
   "metadata": {},
   "outputs": [],
   "source": [
    "norway = datasets.iloc[0]"
   ]
  },
  {
   "cell_type": "code",
   "execution_count": null,
   "id": "912453a1-b66e-4acb-8187-6cbad8b66d2b",
   "metadata": {},
   "outputs": [],
   "source": [
    "norway"
   ]
  },
  {
   "cell_type": "code",
   "execution_count": null,
   "id": "6679fada-8791-4898-a9f8-3d50813a21b7",
   "metadata": {},
   "outputs": [],
   "source": [
    "jobman.create_import_job_from_dataset(norway, 'norwaypower', style='/styles/power.style')"
   ]
  },
  {
   "cell_type": "code",
   "execution_count": null,
   "id": "5d0cca40-df7b-4702-8601-5893cfcd0cf5",
   "metadata": {},
   "outputs": [],
   "source": [
    "! ls /styles"
   ]
  },
  {
   "cell_type": "code",
   "execution_count": null,
   "id": "160a4cf8-872f-4fb1-a730-acc7ff16d679",
   "metadata": {},
   "outputs": [],
   "source": [
    "jobman.get_jobs(df=True)"
   ]
  },
  {
   "cell_type": "code",
   "execution_count": null,
   "id": "22b40e2a-8cec-49ab-bf12-f8154ac3c8d5",
   "metadata": {},
   "outputs": [],
   "source": [
    "#sql = 'SELECT osm.way AS geom, osm.* FROM man2.planet_osm_line osm WHERE power IS NOT NULL'\n",
    "sql = \"SELECT osm.way AS geom, osm.* FROM man2.planet_osm_line osm WHERE power IS NOT NULL AND operator like 'Lede'\"\n",
    "pg_interface = pgi.PgInterface()\n",
    "conn = pg_interface.get_connection()\n",
    "powerlines = gpd.GeoDataFrame.from_postgis(sql, conn)"
   ]
  },
  {
   "cell_type": "code",
   "execution_count": null,
   "id": "5b91e271-6639-46c1-8111-8fd642c82fa7",
   "metadata": {},
   "outputs": [],
   "source": [
    "powerlines.head()"
   ]
  },
  {
   "cell_type": "code",
   "execution_count": null,
   "id": "54e7fa96-fc6c-49a2-b5de-33b85600dc98",
   "metadata": {},
   "outputs": [],
   "source": [
    "powerlines.plot(figsize=(16, 16))"
   ]
  },
  {
   "cell_type": "code",
   "execution_count": 9,
   "id": "fd891c83-1fa7-4db2-b4a3-6c321019f5be",
   "metadata": {},
   "outputs": [],
   "source": [
    "sql = \"SELECT osm.way AS geom, osm.* FROM man2.planet_osm_line osm WHERE power = 'line'\"\n",
    "jobman.create_new_pg_to_x(sql=sql, format='GPKG', filename='norway_powerline.gpkg')"
   ]
  },
  {
   "cell_type": "code",
   "execution_count": 10,
   "id": "ad1c3182-bd6e-43dd-8c32-7763cc074951",
   "metadata": {},
   "outputs": [
    {
     "data": {
      "text/html": [
       "<div>\n",
       "<style scoped>\n",
       "    .dataframe tbody tr th:only-of-type {\n",
       "        vertical-align: middle;\n",
       "    }\n",
       "\n",
       "    .dataframe tbody tr th {\n",
       "        vertical-align: top;\n",
       "    }\n",
       "\n",
       "    .dataframe thead th {\n",
       "        text-align: right;\n",
       "    }\n",
       "</style>\n",
       "<table border=\"1\" class=\"dataframe\">\n",
       "  <thead>\n",
       "    <tr style=\"text-align: right;\">\n",
       "      <th></th>\n",
       "      <th>UUID</th>\n",
       "      <th>Name</th>\n",
       "      <th>Job Type</th>\n",
       "      <th>Date created</th>\n",
       "      <th>Date started</th>\n",
       "      <th>Date finished</th>\n",
       "      <th>Priority</th>\n",
       "      <th>Status</th>\n",
       "    </tr>\n",
       "  </thead>\n",
       "  <tbody>\n",
       "    <tr>\n",
       "      <th>0</th>\n",
       "      <td>c0f11530-3600-419a-94e3-4318ff041bfd</td>\n",
       "      <td>Export PG</td>\n",
       "      <td>pg2x</td>\n",
       "      <td>Thu, 20 Jan 2022 20:38:12 GMT</td>\n",
       "      <td>None</td>\n",
       "      <td>None</td>\n",
       "      <td>42</td>\n",
       "      <td>Failed - no details</td>\n",
       "    </tr>\n",
       "    <tr>\n",
       "      <th>1</th>\n",
       "      <td>7bfe3a33-c173-4adb-99ae-5d2600ff6f10</td>\n",
       "      <td>Export PG</td>\n",
       "      <td>pg2x</td>\n",
       "      <td>Thu, 20 Jan 2022 22:41:16 GMT</td>\n",
       "      <td>None</td>\n",
       "      <td>Thu, 20 Jan 2022 22:41:22 GMT</td>\n",
       "      <td>42</td>\n",
       "      <td>Finished</td>\n",
       "    </tr>\n",
       "    <tr>\n",
       "      <th>2</th>\n",
       "      <td>0ecbc056-c33b-4203-9a46-1fee0e28305f</td>\n",
       "      <td>Export PG</td>\n",
       "      <td>pg2x</td>\n",
       "      <td>Thu, 20 Jan 2022 22:44:22 GMT</td>\n",
       "      <td>None</td>\n",
       "      <td>Thu, 20 Jan 2022 22:44:23 GMT</td>\n",
       "      <td>42</td>\n",
       "      <td>Finished</td>\n",
       "    </tr>\n",
       "  </tbody>\n",
       "</table>\n",
       "</div>"
      ],
      "text/plain": [
       "                                   UUID       Name Job Type  \\\n",
       "0  c0f11530-3600-419a-94e3-4318ff041bfd  Export PG     pg2x   \n",
       "1  7bfe3a33-c173-4adb-99ae-5d2600ff6f10  Export PG     pg2x   \n",
       "2  0ecbc056-c33b-4203-9a46-1fee0e28305f  Export PG     pg2x   \n",
       "\n",
       "                    Date created Date started                  Date finished  \\\n",
       "0  Thu, 20 Jan 2022 20:38:12 GMT         None                           None   \n",
       "1  Thu, 20 Jan 2022 22:41:16 GMT         None  Thu, 20 Jan 2022 22:41:22 GMT   \n",
       "2  Thu, 20 Jan 2022 22:44:22 GMT         None  Thu, 20 Jan 2022 22:44:23 GMT   \n",
       "\n",
       "   Priority               Status  \n",
       "0        42  Failed - no details  \n",
       "1        42             Finished  \n",
       "2        42             Finished  "
      ]
     },
     "execution_count": 10,
     "metadata": {},
     "output_type": "execute_result"
    }
   ],
   "source": [
    "jobman.get_jobs(df=True)"
   ]
  },
  {
   "cell_type": "code",
   "execution_count": null,
   "id": "3b1c80c0-de63-4a7d-a9c3-dfb2dba1da41",
   "metadata": {},
   "outputs": [],
   "source": [
    "jobman.delete_jobs()"
   ]
  },
  {
   "cell_type": "code",
   "execution_count": 11,
   "id": "1b5668c6-aa7f-4c63-9b61-ab8d32933238",
   "metadata": {},
   "outputs": [
    {
     "name": "stdout",
     "output_type": "stream",
     "text": [
      "total 6208\n",
      "-rw-r--r-- 1 root root  344064 Jan 20 22:41 lede3.gpkg\n",
      "-rw-r--r-- 1 root root 6012928 Jan 20 22:44 norway_powerline.gpkg\n"
     ]
    }
   ],
   "source": [
    "! ls /export -l"
   ]
  },
  {
   "cell_type": "code",
   "execution_count": null,
   "id": "e7b0b1a7-caea-4857-869c-8d7741eadd1f",
   "metadata": {},
   "outputs": [],
   "source": []
  }
 ],
 "metadata": {
  "kernelspec": {
   "display_name": "Python 3 (ipykernel)",
   "language": "python",
   "name": "python3"
  },
  "language_info": {
   "codemirror_mode": {
    "name": "ipython",
    "version": 3
   },
   "file_extension": ".py",
   "mimetype": "text/x-python",
   "name": "python",
   "nbconvert_exporter": "python",
   "pygments_lexer": "ipython3",
   "version": "3.9.7"
  }
 },
 "nbformat": 4,
 "nbformat_minor": 5
}
