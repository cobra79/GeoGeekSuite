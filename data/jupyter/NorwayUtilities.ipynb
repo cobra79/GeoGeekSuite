{
 "cells": [
  {
   "cell_type": "code",
   "execution_count": 1,
   "id": "e5a101dc-6e32-4a80-aa7d-5c3df42dd82f",
   "metadata": {},
   "outputs": [],
   "source": [
    "import geopandas as gpd\n",
    "import cobra.postgres.interface as pgi\n",
    "import cobra.utils.filehandling as fh\n",
    "import cobra.utils.jobhandling as jh\n",
    "import geopandas as gpd\n",
    "import cobra.utils.geodatahandling as gdh"
   ]
  },
  {
   "cell_type": "code",
   "execution_count": 2,
   "id": "72166f80-a472-4cbb-83c2-457dbcf4dd2f",
   "metadata": {},
   "outputs": [],
   "source": [
    "fileman = fh.Filemanager()\n",
    "jobman = jh.Jobmanager()"
   ]
  },
  {
   "cell_type": "code",
   "execution_count": 3,
   "id": "d1d98ada-ecd3-44c3-a1ce-fbefcf3c847a",
   "metadata": {},
   "outputs": [],
   "source": [
    "#jobman.delete_jobs()"
   ]
  },
  {
   "cell_type": "code",
   "execution_count": null,
   "id": "6c1b4e58-9865-45a7-a3f6-9a078b48eb43",
   "metadata": {},
   "outputs": [],
   "source": [
    "#fileman.download_plain_file('https://download.geofabrik.de/europe/norway-latest.osm.pbf','Norway')"
   ]
  },
  {
   "cell_type": "code",
   "execution_count": null,
   "id": "1993b180-7e70-4f6d-9062-e4e605a5fc4c",
   "metadata": {},
   "outputs": [],
   "source": [
    "! ls /download/Norway"
   ]
  },
  {
   "cell_type": "code",
   "execution_count": 4,
   "id": "1140568a-beab-4321-b711-1e9405928573",
   "metadata": {},
   "outputs": [
    {
     "data": {
      "text/html": [
       "<div>\n",
       "<style scoped>\n",
       "    .dataframe tbody tr th:only-of-type {\n",
       "        vertical-align: middle;\n",
       "    }\n",
       "\n",
       "    .dataframe tbody tr th {\n",
       "        vertical-align: top;\n",
       "    }\n",
       "\n",
       "    .dataframe thead th {\n",
       "        text-align: right;\n",
       "    }\n",
       "</style>\n",
       "<table border=\"1\" class=\"dataframe\">\n",
       "  <thead>\n",
       "    <tr style=\"text-align: right;\">\n",
       "      <th></th>\n",
       "      <th>Type</th>\n",
       "      <th>Dataset</th>\n",
       "      <th>File</th>\n",
       "      <th>Path</th>\n",
       "      <th>Size (MB)</th>\n",
       "    </tr>\n",
       "  </thead>\n",
       "  <tbody>\n",
       "    <tr>\n",
       "      <th>41</th>\n",
       "      <td>OSM PBF</td>\n",
       "      <td>Norway</td>\n",
       "      <td>norway-latest.osm.pbf</td>\n",
       "      <td>/download/Norway</td>\n",
       "      <td>1032.52</td>\n",
       "    </tr>\n",
       "    <tr>\n",
       "      <th>42</th>\n",
       "      <td>OSM PBF</td>\n",
       "      <td>rbzddorf</td>\n",
       "      <td>duesseldorf-regbez-latest.osm.pbf</td>\n",
       "      <td>/download/rbzddorf</td>\n",
       "      <td>171.87</td>\n",
       "    </tr>\n",
       "    <tr>\n",
       "      <th>43</th>\n",
       "      <td>OSM PBF</td>\n",
       "      <td>Faroe</td>\n",
       "      <td>faroe-islands-latest.osm.pbf</td>\n",
       "      <td>/download/Faroe</td>\n",
       "      <td>4.59</td>\n",
       "    </tr>\n",
       "  </tbody>\n",
       "</table>\n",
       "</div>"
      ],
      "text/plain": [
       "       Type   Dataset                               File                Path  \\\n",
       "41  OSM PBF    Norway              norway-latest.osm.pbf    /download/Norway   \n",
       "42  OSM PBF  rbzddorf  duesseldorf-regbez-latest.osm.pbf  /download/rbzddorf   \n",
       "43  OSM PBF     Faroe       faroe-islands-latest.osm.pbf     /download/Faroe   \n",
       "\n",
       "    Size (MB)  \n",
       "41    1032.52  \n",
       "42     171.87  \n",
       "43       4.59  "
      ]
     },
     "execution_count": 4,
     "metadata": {},
     "output_type": "execute_result"
    }
   ],
   "source": [
    "datasets = fileman.get_data(datatype='OSM PBF')\n",
    "datasets.head()"
   ]
  },
  {
   "cell_type": "code",
   "execution_count": 5,
   "id": "8561d57e-800c-4272-85bb-4b584e234110",
   "metadata": {},
   "outputs": [],
   "source": [
    "norway = datasets.iloc[0]"
   ]
  },
  {
   "cell_type": "code",
   "execution_count": 6,
   "id": "912453a1-b66e-4acb-8187-6cbad8b66d2b",
   "metadata": {},
   "outputs": [
    {
     "data": {
      "text/plain": [
       "Type                       OSM PBF\n",
       "Dataset                     Norway\n",
       "File         norway-latest.osm.pbf\n",
       "Path              /download/Norway\n",
       "Size (MB)                  1032.52\n",
       "Name: 41, dtype: object"
      ]
     },
     "execution_count": 6,
     "metadata": {},
     "output_type": "execute_result"
    }
   ],
   "source": [
    "norway"
   ]
  },
  {
   "cell_type": "code",
   "execution_count": 7,
   "id": "6679fada-8791-4898-a9f8-3d50813a21b7",
   "metadata": {},
   "outputs": [],
   "source": [
    "jobman.create_import_job_from_dataset(norway, 'norwaypower', style='/styles/power.style')"
   ]
  },
  {
   "cell_type": "code",
   "execution_count": null,
   "id": "5d0cca40-df7b-4702-8601-5893cfcd0cf5",
   "metadata": {},
   "outputs": [],
   "source": [
    "! ls /styles"
   ]
  },
  {
   "cell_type": "code",
   "execution_count": 12,
   "id": "160a4cf8-872f-4fb1-a730-acc7ff16d679",
   "metadata": {},
   "outputs": [
    {
     "data": {
      "text/html": [
       "<div>\n",
       "<style scoped>\n",
       "    .dataframe tbody tr th:only-of-type {\n",
       "        vertical-align: middle;\n",
       "    }\n",
       "\n",
       "    .dataframe tbody tr th {\n",
       "        vertical-align: top;\n",
       "    }\n",
       "\n",
       "    .dataframe thead th {\n",
       "        text-align: right;\n",
       "    }\n",
       "</style>\n",
       "<table border=\"1\" class=\"dataframe\">\n",
       "  <thead>\n",
       "    <tr style=\"text-align: right;\">\n",
       "      <th></th>\n",
       "      <th>UUID</th>\n",
       "      <th>Name</th>\n",
       "      <th>Job Type</th>\n",
       "      <th>Date created</th>\n",
       "      <th>Date started</th>\n",
       "      <th>Date finished</th>\n",
       "      <th>Priority</th>\n",
       "      <th>Status</th>\n",
       "    </tr>\n",
       "  </thead>\n",
       "  <tbody>\n",
       "    <tr>\n",
       "      <th>0</th>\n",
       "      <td>185f0d0f-ba2a-48b2-ae10-50aaaa755670</td>\n",
       "      <td>Load OSM from Norway</td>\n",
       "      <td>osm2pg</td>\n",
       "      <td>Tue, 18 Jan 2022 21:43:55 GMT</td>\n",
       "      <td>None</td>\n",
       "      <td>None</td>\n",
       "      <td>42</td>\n",
       "      <td>Failed</td>\n",
       "    </tr>\n",
       "  </tbody>\n",
       "</table>\n",
       "</div>"
      ],
      "text/plain": [
       "                                   UUID                  Name Job Type  \\\n",
       "0  185f0d0f-ba2a-48b2-ae10-50aaaa755670  Load OSM from Norway   osm2pg   \n",
       "\n",
       "                    Date created Date started Date finished  Priority  Status  \n",
       "0  Tue, 18 Jan 2022 21:43:55 GMT         None          None        42  Failed  "
      ]
     },
     "execution_count": 12,
     "metadata": {},
     "output_type": "execute_result"
    }
   ],
   "source": [
    "jobman.get_jobs(df=True)"
   ]
  },
  {
   "cell_type": "code",
   "execution_count": 21,
   "id": "22b40e2a-8cec-49ab-bf12-f8154ac3c8d5",
   "metadata": {},
   "outputs": [],
   "source": [
    "#sql = 'SELECT osm.way AS geom, osm.* FROM man2.planet_osm_line osm WHERE power IS NOT NULL'\n",
    "sql = \"SELECT osm.way AS geom, osm.* FROM man2.planet_osm_line osm WHERE power IS NOT NULL AND operator like 'Lede'\"\n",
    "pg_interface = pgi.PgInterface()\n",
    "conn = pg_interface.get_connection()\n",
    "powerlines = gpd.GeoDataFrame.from_postgis(sql, conn)"
   ]
  },
  {
   "cell_type": "code",
   "execution_count": 14,
   "id": "5b91e271-6639-46c1-8111-8fd642c82fa7",
   "metadata": {},
   "outputs": [
    {
     "data": {
      "text/html": [
       "<div>\n",
       "<style scoped>\n",
       "    .dataframe tbody tr th:only-of-type {\n",
       "        vertical-align: middle;\n",
       "    }\n",
       "\n",
       "    .dataframe tbody tr th {\n",
       "        vertical-align: top;\n",
       "    }\n",
       "\n",
       "    .dataframe thead th {\n",
       "        text-align: right;\n",
       "    }\n",
       "</style>\n",
       "<table border=\"1\" class=\"dataframe\">\n",
       "  <thead>\n",
       "    <tr style=\"text-align: right;\">\n",
       "      <th></th>\n",
       "      <th>geom</th>\n",
       "      <th>osm_id</th>\n",
       "      <th>power</th>\n",
       "      <th>voltage</th>\n",
       "      <th>cables</th>\n",
       "      <th>circuits</th>\n",
       "      <th>operator</th>\n",
       "      <th>wires</th>\n",
       "      <th>frequency</th>\n",
       "      <th>name</th>\n",
       "      <th>ref</th>\n",
       "      <th>line</th>\n",
       "      <th>way</th>\n",
       "    </tr>\n",
       "  </thead>\n",
       "  <tbody>\n",
       "    <tr>\n",
       "      <th>0</th>\n",
       "      <td>LINESTRING (703979.896 7230046.556, 703067.766...</td>\n",
       "      <td>161363331</td>\n",
       "      <td>cable</td>\n",
       "      <td>450000</td>\n",
       "      <td>2</td>\n",
       "      <td>1</td>\n",
       "      <td>Statnett;TenneT</td>\n",
       "      <td>None</td>\n",
       "      <td>0</td>\n",
       "      <td>NorNed</td>\n",
       "      <td>None</td>\n",
       "      <td>None</td>\n",
       "      <td>0102000020110F0000060000007148F5CAD77B25410615...</td>\n",
       "    </tr>\n",
       "    <tr>\n",
       "      <th>1</th>\n",
       "      <td>LINESTRING (710124.974 7130253.900, 708762.303...</td>\n",
       "      <td>161363331</td>\n",
       "      <td>cable</td>\n",
       "      <td>450000</td>\n",
       "      <td>2</td>\n",
       "      <td>1</td>\n",
       "      <td>Statnett;TenneT</td>\n",
       "      <td>None</td>\n",
       "      <td>0</td>\n",
       "      <td>NorNed</td>\n",
       "      <td>None</td>\n",
       "      <td>None</td>\n",
       "      <td>0102000020110F000006000000073AE3F2D9AB2541E490...</td>\n",
       "    </tr>\n",
       "    <tr>\n",
       "      <th>2</th>\n",
       "      <td>LINESTRING (764868.874 7066022.812, 764889.813...</td>\n",
       "      <td>161363331</td>\n",
       "      <td>cable</td>\n",
       "      <td>450000</td>\n",
       "      <td>2</td>\n",
       "      <td>1</td>\n",
       "      <td>Statnett;TenneT</td>\n",
       "      <td>None</td>\n",
       "      <td>0</td>\n",
       "      <td>NorNed</td>\n",
       "      <td>None</td>\n",
       "      <td>None</td>\n",
       "      <td>0102000020110F00004A000000562391BF89572741542A...</td>\n",
       "    </tr>\n",
       "    <tr>\n",
       "      <th>3</th>\n",
       "      <td>LINESTRING (878881.965 7359727.949, 893625.216...</td>\n",
       "      <td>370147304</td>\n",
       "      <td>cable</td>\n",
       "      <td>525000</td>\n",
       "      <td>2</td>\n",
       "      <td>None</td>\n",
       "      <td>Statnett; TenneT</td>\n",
       "      <td>None</td>\n",
       "      <td>0</td>\n",
       "      <td>NordLink</td>\n",
       "      <td>None</td>\n",
       "      <td>None</td>\n",
       "      <td>0102000020110F000003000000F1A4FFED43D22A411437...</td>\n",
       "    </tr>\n",
       "    <tr>\n",
       "      <th>4</th>\n",
       "      <td>LINESTRING (908325.294 7264162.768, 912963.716...</td>\n",
       "      <td>370147304</td>\n",
       "      <td>cable</td>\n",
       "      <td>525000</td>\n",
       "      <td>2</td>\n",
       "      <td>None</td>\n",
       "      <td>Statnett; TenneT</td>\n",
       "      <td>None</td>\n",
       "      <td>0</td>\n",
       "      <td>NordLink</td>\n",
       "      <td>None</td>\n",
       "      <td>None</td>\n",
       "      <td>0102000020110F00000800000031464C964AB82B41EB00...</td>\n",
       "    </tr>\n",
       "  </tbody>\n",
       "</table>\n",
       "</div>"
      ],
      "text/plain": [
       "                                                geom     osm_id  power  \\\n",
       "0  LINESTRING (703979.896 7230046.556, 703067.766...  161363331  cable   \n",
       "1  LINESTRING (710124.974 7130253.900, 708762.303...  161363331  cable   \n",
       "2  LINESTRING (764868.874 7066022.812, 764889.813...  161363331  cable   \n",
       "3  LINESTRING (878881.965 7359727.949, 893625.216...  370147304  cable   \n",
       "4  LINESTRING (908325.294 7264162.768, 912963.716...  370147304  cable   \n",
       "\n",
       "  voltage cables circuits          operator wires frequency      name   ref  \\\n",
       "0  450000      2        1   Statnett;TenneT  None         0    NorNed  None   \n",
       "1  450000      2        1   Statnett;TenneT  None         0    NorNed  None   \n",
       "2  450000      2        1   Statnett;TenneT  None         0    NorNed  None   \n",
       "3  525000      2     None  Statnett; TenneT  None         0  NordLink  None   \n",
       "4  525000      2     None  Statnett; TenneT  None         0  NordLink  None   \n",
       "\n",
       "   line                                                way  \n",
       "0  None  0102000020110F0000060000007148F5CAD77B25410615...  \n",
       "1  None  0102000020110F000006000000073AE3F2D9AB2541E490...  \n",
       "2  None  0102000020110F00004A000000562391BF89572741542A...  \n",
       "3  None  0102000020110F000003000000F1A4FFED43D22A411437...  \n",
       "4  None  0102000020110F00000800000031464C964AB82B41EB00...  "
      ]
     },
     "execution_count": 14,
     "metadata": {},
     "output_type": "execute_result"
    }
   ],
   "source": [
    "powerlines.head()"
   ]
  },
  {
   "cell_type": "code",
   "execution_count": 22,
   "id": "54e7fa96-fc6c-49a2-b5de-33b85600dc98",
   "metadata": {},
   "outputs": [
    {
     "data": {
      "text/plain": [
       "<AxesSubplot:>"
      ]
     },
     "execution_count": 22,
     "metadata": {},
     "output_type": "execute_result"
    },
    {
     "data": {
      "image/png": "[encoded data removed]",
      "text/plain": [
       "<Figure size 1152x1152 with 1 Axes>"
      ]
     },
     "metadata": {
      "needs_background": "light"
     },
     "output_type": "display_data"
    }
   ],
   "source": [
    "powerlines.plot(figsize=(16, 16))"
   ]
  },
  {
   "cell_type": "code",
   "execution_count": null,
   "id": "fd891c83-1fa7-4db2-b4a3-6c321019f5be",
   "metadata": {},
   "outputs": [],
   "source": []
  }
 ],
 "metadata": {
  "kernelspec": {
   "display_name": "Python 3 (ipykernel)",
   "language": "python",
   "name": "python3"
  },
  "language_info": {
   "codemirror_mode": {
    "name": "ipython",
    "version": 3
   },
   "file_extension": ".py",
   "mimetype": "text/x-python",
   "name": "python",
   "nbconvert_exporter": "python",
   "pygments_lexer": "ipython3",
   "version": "3.9.7"
  }
 },
 "nbformat": 4,
 "nbformat_minor": 5
}
