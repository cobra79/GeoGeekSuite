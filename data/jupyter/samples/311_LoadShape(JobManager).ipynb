{
 "cells": [
  {
   "cell_type": "code",
   "execution_count": null,
   "id": "9da3fe94-ec23-4dcd-ade0-b352fdf695bf",
   "metadata": {},
   "outputs": [],
   "source": [
    "from cobra_jobhandling import Job_Manager\n",
    "import glob"
   ]
  },
  {
   "cell_type": "code",
   "execution_count": null,
   "id": "49cff936-fd5e-4b03-b5a8-5724d39940f7",
   "metadata": {},
   "outputs": [],
   "source": [
    "job_manager = Job_Manager()"
   ]
  },
  {
   "cell_type": "code",
   "execution_count": null,
   "id": "5c5ab9b7-ee12-4ba5-96c8-6296a4474d07",
   "metadata": {},
   "outputs": [],
   "source": [
    "files = glob.glob(\"/download/*.shp\")\n",
    "print(files)"
   ]
  },
  {
   "cell_type": "code",
   "execution_count": null,
   "id": "bc57e405-e434-472e-9ac1-153e490f632e",
   "metadata": {},
   "outputs": [],
   "source": [
    "# job_manager.create_new_shape_to_pg(files[0])\n",
    "\n",
    "for a_file in files:\n",
    "    job_manager.create_new_shape_to_pg(a_file)"
   ]
  },
  {
   "cell_type": "code",
   "execution_count": null,
   "id": "88d278a0-7a58-473e-b07f-c244c3800db3",
   "metadata": {},
   "outputs": [],
   "source": [
    "job_manager.get_jobs(df=True)"
   ]
  },
  {
   "cell_type": "code",
   "execution_count": null,
   "id": "53c25b82-4ca5-4935-96ad-b51384195881",
   "metadata": {},
   "outputs": [],
   "source": []
  }
 ],
 "metadata": {
  "kernelspec": {
   "display_name": "Python 3 (ipykernel)",
   "language": "python",
   "name": "python3"
  },
  "language_info": {
   "codemirror_mode": {
    "name": "ipython",
    "version": 3
   },
   "file_extension": ".py",
   "mimetype": "text/x-python",
   "name": "python",
   "nbconvert_exporter": "python",
   "pygments_lexer": "ipython3",
   "version": "3.9.7"
  }
 },
 "nbformat": 4,
 "nbformat_minor": 5
}
