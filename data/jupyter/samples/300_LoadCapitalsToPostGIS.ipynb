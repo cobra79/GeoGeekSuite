{
 "cells": [
  {
   "cell_type": "markdown",
   "id": "a26f757e-143b-4eda-9d28-79719d684add",
   "metadata": {},
   "source": [
    "# Load point-geometries of European capitals into PostGIS\n",
    "\n",
    "This is a simplified example.\n",
    "Coordinates are extracted form GeoJSON, even if there are other ways to load this more efficient into PostGIS."
   ]
  },
  {
   "cell_type": "code",
   "execution_count": 5,
   "id": "ee9643c0-44f3-4b4f-94e8-70d663fcd9d5",
   "metadata": {},
   "outputs": [],
   "source": [
    "import json\n",
    "import os\n",
    "import psycopg2\n",
    "import requests"
   ]
  },
  {
   "cell_type": "code",
   "execution_count": 7,
   "id": "b9dfdb76-e7c0-433b-814a-f937a660a7d8",
   "metadata": {},
   "outputs": [],
   "source": [
    "url = 'https://raw.githubusercontent.com/Ginden/capitals/master/europe.json'\n",
    "r = requests.get(url)\n",
    "\n",
    "with open('/download/europe.json', 'wb') as f:\n",
    "    f.write(r.content)"
   ]
  },
  {
   "cell_type": "code",
   "execution_count": 8,
   "id": "c4dc2e64-8607-4c02-9c73-a4ad19b33261",
   "metadata": {},
   "outputs": [],
   "source": [
    "host = 'postgres'\n",
    "database = 'postgres'\n",
    "user = 'postgres'\n",
    "password = os.environ['POSTGRES_PASSWORD']\n",
    "connection_string = f'host={host} dbname={database} user={user} password={password}'"
   ]
  },
  {
   "cell_type": "code",
   "execution_count": 9,
   "id": "7d8ff8da-20c7-4597-a941-6d21ec40d5e1",
   "metadata": {},
   "outputs": [],
   "source": [
    "def execute_simple_sql(sql, fetch='None'):\n",
    "    with psycopg2.connect(connection_string) as conn:\n",
    "        with conn.cursor() as curs:\n",
    "            if fetch=='None':\n",
    "                curs.execute(sql)\n",
    "            elif fetch=='One':\n",
    "                curs.execute(sql)\n",
    "                result = curs.fetchone();\n",
    "                return result"
   ]
  },
  {
   "cell_type": "code",
   "execution_count": 10,
   "id": "e76e0111-3c8c-4e01-bb1c-e48fb9c95c32",
   "metadata": {},
   "outputs": [],
   "source": [
    "sql='CREATE TABLE capitals(gid serial PRIMARY KEY, name TEXT, point geography(POINT,4326) );'\n",
    "execute_simple_sql(sql)"
   ]
  },
  {
   "cell_type": "code",
   "execution_count": 11,
   "id": "466fff09-8973-4eb7-a947-fdca8f88d8c4",
   "metadata": {},
   "outputs": [],
   "source": [
    "with open('/download/europe.json') as f:\n",
    "    data = json.load(f)\n",
    "    for a_capital in data:\n",
    "        capital_name = a_capital['properties']['capital']\n",
    "        lon = a_capital['geometry']['coordinates'][0]\n",
    "        lat = a_capital['geometry']['coordinates'][1]\n",
    "        sql = f\"INSERT INTO capitals (name, point) VALUES ('{capital_name}', 'SRID=4326;POINT({lon} {lat})');\"\n",
    "        #Please do not use the following function in a loop over a larger dataset\n",
    "        execute_simple_sql(sql)"
   ]
  },
  {
   "cell_type": "markdown",
   "id": "6a71cdff-a680-4df1-a078-6b48461aa1bb",
   "metadata": {},
   "source": [
    "## Check the result\n",
    "\n",
    "Open [PG Admin](http://pgadmin.localhost)\n",
    "\n",
    "![PgAdminLogin](./images/PgAdminLogin.png)\n",
    "\n",
    "Enter the username and password that was defined in the credentials.yaml\n",
    "\n",
    "Right-click on servers and create a new server.\n",
    "\n",
    "\n",
    "![PgAdminNewServer](./images/PgAdminNewServer.png)\n",
    "\n",
    "Give it a meaningful name and change to the connection tab.\n",
    "\n",
    "Host: Postgres\n",
    "\n",
    "Database: Postgres\n",
    "\n",
    "User: Postgres\n",
    "\n",
    "Password: whatever you defined in the credentials.yaml\n",
    "\n",
    "![PgAdminConnection](./images/PgAdminConnection.png)"
   ]
  },
  {
   "cell_type": "code",
   "execution_count": null,
   "id": "c5005fff-775e-4d34-b357-9b2acb4e980e",
   "metadata": {},
   "outputs": [],
   "source": []
  },
  {
   "cell_type": "code",
   "execution_count": null,
   "id": "1b91fb03-b9b4-4ced-8d1c-f0f6948e7928",
   "metadata": {},
   "outputs": [],
   "source": []
  }
 ],
 "metadata": {
  "kernelspec": {
   "display_name": "Python 3 (ipykernel)",
   "language": "python",
   "name": "python3"
  },
  "language_info": {
   "codemirror_mode": {
    "name": "ipython",
    "version": 3
   },
   "file_extension": ".py",
   "mimetype": "text/x-python",
   "name": "python",
   "nbconvert_exporter": "python",
   "pygments_lexer": "ipython3",
   "version": "3.9.7"
  }
 },
 "nbformat": 4,
 "nbformat_minor": 5
}
