{
 "cells": [
  {
   "cell_type": "markdown",
   "id": "558cb7ce-de35-420d-a368-9709736e42eb",
   "metadata": {},
   "source": [
    "# Logging\n",
    "\n",
    "Logging output that is created with the cobra_logging module is posted to an elastic database.\n",
    "The output can be analysed using the Kibana instance (http://kibana.localhost).\n"
   ]
  },
  {
   "cell_type": "code",
   "execution_count": 2,
   "id": "e980dcb8-99cd-47f7-aef3-87e77c379abb",
   "metadata": {},
   "outputs": [],
   "source": [
    "# Import the cobra_logging module which is part of this repository\n",
    "\n",
    "import cobra_logging"
   ]
  },
  {
   "cell_type": "code",
   "execution_count": 7,
   "id": "ebaadbf0-7d57-492a-b5e1-752e5bbb2429",
   "metadata": {},
   "outputs": [
    {
     "name": "stdout",
     "output_type": "stream",
     "text": [
      "DEBUG\n"
     ]
    }
   ],
   "source": [
    "# The logger requires that an environment variable 'LOG_LEVEL' is set to 'ERROR', 'INFO' or 'DEBUG'\n",
    "# Check the variale:\n",
    "import os\n",
    "print(os.environ['LOG_LEVEL'])"
   ]
  },
  {
   "cell_type": "code",
   "execution_count": 8,
   "id": "b87909db-9af4-46e0-a103-29d6faa1f6ca",
   "metadata": {},
   "outputs": [],
   "source": [
    "# Create a new logger\n",
    "# As argument the constructor takes a class (within a class it could be self) or a string.\n",
    "# The logging output for all statements that are created with this logger will contain the\n",
    "# classname or the string that was provided.\n",
    "\n",
    "logger = cobra_logging.Logger('TestLogging')"
   ]
  },
  {
   "cell_type": "code",
   "execution_count": 9,
   "id": "955dc876-bafe-487b-9633-0badbb70cca5",
   "metadata": {},
   "outputs": [],
   "source": [
    "# Create some logging statements\n",
    "logger.error('unset does not understand size')\n",
    "logger.info('Gerhard Mercator was born in 1512')\n",
    "logger.debug('Last statement in this cell')"
   ]
  },
  {
   "cell_type": "code",
   "execution_count": 10,
   "id": "22667767-9f79-444b-ac39-7e159f6153d1",
   "metadata": {},
   "outputs": [],
   "source": [
    "# the error method also can take an addition Exception object\n",
    "try:\n",
    "    result = 1/0\n",
    "except ZeroDivisionError as e:\n",
    "    logger.error('Cannot divide by zero', e)"
   ]
  },
  {
   "cell_type": "markdown",
   "id": "c0722d11-9f8e-437f-a84e-dab68b7ecb29",
   "metadata": {},
   "source": [
    "Goto [Kibana](http://kibana.localhost) and check the output.\n",
    "\n",
    "When you conntect for the first time you need to create a index pattern for the logs.\n",
    "Open the menu and go to 'Stack Management'.\n",
    "Under Kibana click on 'Index patterns' and 'Create index pattern'\n",
    "\n",
    "![Kibana menu](./images/KibanaCreateIndexPattern.png)\n",
    "\n",
    "Enter the name 'python_logs' and select @timestamp as the timestamp field.\n",
    "\n",
    "![Kibana index name](./images/KibanaIndexName.png)\n",
    "\n",
    "Create the index, open the menu and click 'Discover' in the Analytics section.\n",
    "\n",
    "![Kibana Analytics](./images/KibanaAnalytics.png)\n",
    "\n",
    "You might need to change the time interval to see all logs you created.\n",
    "\n",
    "![Kibana Interval](./images/KibanaInterval.png)"
   ]
  },
  {
   "cell_type": "markdown",
   "id": "160d95ad-1975-49dc-bd80-aebd755779b8",
   "metadata": {},
   "source": [
    "Cobra logging can be used in a Jupyter notebook, but the main intension is to get easy access to logs from python code that is running inside a pod. This becomes handy when several pods are running behind one service and you do not know which pod handled the request you are interested in."
   ]
  },
  {
   "cell_type": "code",
   "execution_count": null,
   "id": "66fc83ae-e6c1-452a-bbdd-89d04d152f1d",
   "metadata": {},
   "outputs": [],
   "source": []
  }
 ],
 "metadata": {
  "kernelspec": {
   "display_name": "Python 3 (ipykernel)",
   "language": "python",
   "name": "python3"
  },
  "language_info": {
   "codemirror_mode": {
    "name": "ipython",
    "version": 3
   },
   "file_extension": ".py",
   "mimetype": "text/x-python",
   "name": "python",
   "nbconvert_exporter": "python",
   "pygments_lexer": "ipython3",
   "version": "3.9.7"
  }
 },
 "nbformat": 4,
 "nbformat_minor": 5
}
