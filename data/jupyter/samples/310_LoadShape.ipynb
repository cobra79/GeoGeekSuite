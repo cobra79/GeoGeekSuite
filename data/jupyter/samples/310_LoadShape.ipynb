{
 "cells": [
  {
   "cell_type": "markdown",
   "id": "8a62b030-5ab0-4d45-9799-9bb9cccbcb9e",
   "metadata": {},
   "source": [
    "# Download and load shape to PostGIS"
   ]
  },
  {
   "cell_type": "code",
   "execution_count": 1,
   "id": "8d211658-b14c-4075-a4d3-7d9fb06cf535",
   "metadata": {},
   "outputs": [],
   "source": [
    "import os"
   ]
  },
  {
   "cell_type": "code",
   "execution_count": 2,
   "id": "cb6b6bc7-2315-4f7b-8898-83bb7e26ca27",
   "metadata": {},
   "outputs": [],
   "source": [
    "! cd /download"
   ]
  },
  {
   "cell_type": "code",
   "execution_count": null,
   "id": "e36eb270-5eb0-4126-bdfb-75cc182c834e",
   "metadata": {},
   "outputs": [],
   "source": [
    "! wget http://download.geofabrik.de/europe/portugal-latest-free.shp.zip"
   ]
  },
  {
   "cell_type": "code",
   "execution_count": 5,
   "id": "2af34090-acf8-4456-8fe4-85d5375d8634",
   "metadata": {},
   "outputs": [
    {
     "name": "stdout",
     "output_type": "stream",
     "text": [
      "--2021-12-19 15:55:07--  https://download.geofabrik.de/europe/isle-of-man-latest-free.shp.zip\n",
      "Resolving download.geofabrik.de (download.geofabrik.de)... 95.216.115.119, 116.202.112.212\n",
      "Connecting to download.geofabrik.de (download.geofabrik.de)|95.216.115.119|:443... connected.\n",
      "HTTP request sent, awaiting response... 200 OK\n",
      "Length: 7738153 (7.4M) [application/zip]\n",
      "Saving to: ‘isle-of-man-latest-free.shp.zip’\n",
      "\n",
      "isle-of-man-latest- 100%[===================>]   7.38M  22.2MB/s    in 0.3s    \n",
      "\n",
      "2021-12-19 15:55:08 (22.2 MB/s) - ‘isle-of-man-latest-free.shp.zip’ saved [7738153/7738153]\n",
      "\n"
     ]
    }
   ],
   "source": [
    "! wget https://download.geofabrik.de/europe/isle-of-man-latest-free.shp.zip"
   ]
  },
  {
   "cell_type": "code",
   "execution_count": null,
   "id": "ce4f147e-bc50-46aa-8983-d048e5d0e558",
   "metadata": {},
   "outputs": [],
   "source": [
    "os.system('unzip portugal-latest-free.shp.zip')"
   ]
  },
  {
   "cell_type": "code",
   "execution_count": 7,
   "id": "8e5b618e-d38c-405e-b780-ad920ef6125e",
   "metadata": {},
   "outputs": [
    {
     "name": "stdout",
     "output_type": "stream",
     "text": [
      "0_ReadMe.md\t\t\t 300_LoadCapitalsToPostGIS.ipynb\n",
      "100_TestLogging.ipynb\t\t 310_LoadShape.ipynb\n",
      "110_TestElasticConnection.ipynb  images\n",
      "200_TestPostGisConnection.ipynb  isle-of-man-latest-free.shp.zip\n"
     ]
    }
   ],
   "source": [
    "! ls"
   ]
  },
  {
   "cell_type": "code",
   "execution_count": 12,
   "id": "db93cbc9-b2b7-4327-acd4-f20b7b288ac8",
   "metadata": {},
   "outputs": [
    {
     "name": "stdout",
     "output_type": "stream",
     "text": [
      "Archive:  /download/isle-of-man-latest-free.shp.zip\n",
      "  inflating: /download/README        \n",
      " extracting: /download/gis_osm_buildings_a_free_1.cpg  \n",
      "  inflating: /download/gis_osm_buildings_a_free_1.dbf  \n",
      "  inflating: /download/gis_osm_buildings_a_free_1.prj  \n",
      "  inflating: /download/gis_osm_buildings_a_free_1.shp  \n",
      "  inflating: /download/gis_osm_buildings_a_free_1.shx  \n",
      " extracting: /download/gis_osm_landuse_a_free_1.cpg  \n",
      "  inflating: /download/gis_osm_landuse_a_free_1.dbf  \n",
      "  inflating: /download/gis_osm_landuse_a_free_1.prj  \n",
      "  inflating: /download/gis_osm_landuse_a_free_1.shp  \n",
      "  inflating: /download/gis_osm_landuse_a_free_1.shx  \n",
      " extracting: /download/gis_osm_natural_a_free_1.cpg  \n",
      "  inflating: /download/gis_osm_natural_a_free_1.dbf  \n",
      "  inflating: /download/gis_osm_natural_a_free_1.prj  \n",
      "  inflating: /download/gis_osm_natural_a_free_1.shp  \n",
      "  inflating: /download/gis_osm_natural_a_free_1.shx  \n",
      " extracting: /download/gis_osm_natural_free_1.cpg  \n",
      "  inflating: /download/gis_osm_natural_free_1.dbf  \n",
      "  inflating: /download/gis_osm_natural_free_1.prj  \n",
      "  inflating: /download/gis_osm_natural_free_1.shp  \n",
      "  inflating: /download/gis_osm_natural_free_1.shx  \n",
      " extracting: /download/gis_osm_places_a_free_1.cpg  \n",
      "  inflating: /download/gis_osm_places_a_free_1.dbf  \n",
      "  inflating: /download/gis_osm_places_a_free_1.prj  \n",
      "  inflating: /download/gis_osm_places_a_free_1.shp  \n",
      "  inflating: /download/gis_osm_places_a_free_1.shx  \n",
      " extracting: /download/gis_osm_places_free_1.cpg  \n",
      "  inflating: /download/gis_osm_places_free_1.dbf  \n",
      "  inflating: /download/gis_osm_places_free_1.prj  \n",
      "  inflating: /download/gis_osm_places_free_1.shp  \n",
      "  inflating: /download/gis_osm_places_free_1.shx  \n",
      " extracting: /download/gis_osm_pofw_a_free_1.cpg  \n",
      "  inflating: /download/gis_osm_pofw_a_free_1.dbf  \n",
      "  inflating: /download/gis_osm_pofw_a_free_1.prj  \n",
      "  inflating: /download/gis_osm_pofw_a_free_1.shp  \n",
      "  inflating: /download/gis_osm_pofw_a_free_1.shx  \n",
      " extracting: /download/gis_osm_pofw_free_1.cpg  \n",
      "  inflating: /download/gis_osm_pofw_free_1.dbf  \n",
      "  inflating: /download/gis_osm_pofw_free_1.prj  \n",
      "  inflating: /download/gis_osm_pofw_free_1.shp  \n",
      "  inflating: /download/gis_osm_pofw_free_1.shx  \n",
      " extracting: /download/gis_osm_pois_a_free_1.cpg  \n",
      "  inflating: /download/gis_osm_pois_a_free_1.dbf  \n",
      "  inflating: /download/gis_osm_pois_a_free_1.prj  \n",
      "  inflating: /download/gis_osm_pois_a_free_1.shp  \n",
      "  inflating: /download/gis_osm_pois_a_free_1.shx  \n",
      " extracting: /download/gis_osm_pois_free_1.cpg  \n",
      "  inflating: /download/gis_osm_pois_free_1.dbf  \n",
      "  inflating: /download/gis_osm_pois_free_1.prj  \n",
      "  inflating: /download/gis_osm_pois_free_1.shp  \n",
      "  inflating: /download/gis_osm_pois_free_1.shx  \n",
      " extracting: /download/gis_osm_railways_free_1.cpg  \n",
      "  inflating: /download/gis_osm_railways_free_1.dbf  \n",
      "  inflating: /download/gis_osm_railways_free_1.prj  \n",
      "  inflating: /download/gis_osm_railways_free_1.shp  \n",
      "  inflating: /download/gis_osm_railways_free_1.shx  \n",
      " extracting: /download/gis_osm_roads_free_1.cpg  \n",
      "  inflating: /download/gis_osm_roads_free_1.dbf  \n",
      "  inflating: /download/gis_osm_roads_free_1.prj  \n",
      "  inflating: /download/gis_osm_roads_free_1.shp  \n",
      "  inflating: /download/gis_osm_roads_free_1.shx  \n",
      " extracting: /download/gis_osm_traffic_a_free_1.cpg  \n",
      "  inflating: /download/gis_osm_traffic_a_free_1.dbf  \n",
      "  inflating: /download/gis_osm_traffic_a_free_1.prj  \n",
      "  inflating: /download/gis_osm_traffic_a_free_1.shp  \n",
      "  inflating: /download/gis_osm_traffic_a_free_1.shx  \n",
      " extracting: /download/gis_osm_traffic_free_1.cpg  \n",
      "  inflating: /download/gis_osm_traffic_free_1.dbf  \n",
      "  inflating: /download/gis_osm_traffic_free_1.prj  \n",
      "  inflating: /download/gis_osm_traffic_free_1.shp  \n",
      "  inflating: /download/gis_osm_traffic_free_1.shx  \n",
      " extracting: /download/gis_osm_transport_a_free_1.cpg  \n",
      "  inflating: /download/gis_osm_transport_a_free_1.dbf  \n",
      "  inflating: /download/gis_osm_transport_a_free_1.prj  \n",
      "  inflating: /download/gis_osm_transport_a_free_1.shp  \n",
      "  inflating: /download/gis_osm_transport_a_free_1.shx  \n",
      " extracting: /download/gis_osm_transport_free_1.cpg  \n",
      "  inflating: /download/gis_osm_transport_free_1.dbf  \n",
      "  inflating: /download/gis_osm_transport_free_1.prj  \n",
      "  inflating: /download/gis_osm_transport_free_1.shp  \n",
      "  inflating: /download/gis_osm_transport_free_1.shx  \n",
      " extracting: /download/gis_osm_water_a_free_1.cpg  \n",
      "  inflating: /download/gis_osm_water_a_free_1.dbf  \n",
      "  inflating: /download/gis_osm_water_a_free_1.prj  \n",
      "  inflating: /download/gis_osm_water_a_free_1.shp  \n",
      "  inflating: /download/gis_osm_water_a_free_1.shx  \n",
      " extracting: /download/gis_osm_waterways_free_1.cpg  \n",
      "  inflating: /download/gis_osm_waterways_free_1.dbf  \n",
      "  inflating: /download/gis_osm_waterways_free_1.prj  \n",
      "  inflating: /download/gis_osm_waterways_free_1.shp  \n",
      "  inflating: /download/gis_osm_waterways_free_1.shx  \n"
     ]
    },
    {
     "data": {
      "text/plain": [
       "0"
      ]
     },
     "execution_count": 12,
     "metadata": {},
     "output_type": "execute_result"
    }
   ],
   "source": [
    "os.system('unzip /download/isle-of-man-latest-free.shp.zip -d /download')"
   ]
  },
  {
   "cell_type": "code",
   "execution_count": 10,
   "id": "f51aaae9-5516-4956-b0b6-8dbf67971cd3",
   "metadata": {},
   "outputs": [
    {
     "name": "stdout",
     "output_type": "stream",
     "text": [
      "isle-of-man-latest-free.shp.zip\n"
     ]
    }
   ],
   "source": [
    "ls /download"
   ]
  },
  {
   "cell_type": "code",
   "execution_count": 8,
   "id": "6f0ce29e-69e3-4ac8-9581-75a3b5545069",
   "metadata": {},
   "outputs": [],
   "source": [
    "! mv isle-of-man-latest-free.shp.zip /download/isle-of-man-latest-free.shp.zip"
   ]
  },
  {
   "cell_type": "code",
   "execution_count": null,
   "id": "060a07ac-f095-4502-8d63-a8c6bfa6f20c",
   "metadata": {},
   "outputs": [],
   "source": [
    "import cobra_gdal"
   ]
  },
  {
   "cell_type": "code",
   "execution_count": null,
   "id": "4a2de492-2d7a-4835-b7fd-f1a6335209dd",
   "metadata": {},
   "outputs": [],
   "source": [
    "g = cobra_gdal.cobra_gdal()"
   ]
  },
  {
   "cell_type": "code",
   "execution_count": null,
   "id": "67f7d151-c72e-4921-8328-64098f82120c",
   "metadata": {},
   "outputs": [],
   "source": [
    "json={\"path\": \"/download/gis_osm_buildings_a_free_1.shp\"}"
   ]
  },
  {
   "cell_type": "code",
   "execution_count": null,
   "id": "47b5bfeb-df24-4203-a565-269df0e662f8",
   "metadata": {},
   "outputs": [],
   "source": [
    "r = requests.post('http://gdal:5000/load_shape', json=json)"
   ]
  }
 ],
 "metadata": {
  "kernelspec": {
   "display_name": "Python 3 (ipykernel)",
   "language": "python",
   "name": "python3"
  },
  "language_info": {
   "codemirror_mode": {
    "name": "ipython",
    "version": 3
   },
   "file_extension": ".py",
   "mimetype": "text/x-python",
   "name": "python",
   "nbconvert_exporter": "python",
   "pygments_lexer": "ipython3",
   "version": "3.9.7"
  }
 },
 "nbformat": 4,
 "nbformat_minor": 5
}
