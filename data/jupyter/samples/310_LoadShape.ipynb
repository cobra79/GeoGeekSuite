{
 "cells": [
  {
   "cell_type": "markdown",
   "id": "8a62b030-5ab0-4d45-9799-9bb9cccbcb9e",
   "metadata": {},
   "source": [
    "# Download and load shape to PostGIS"
   ]
  },
  {
   "cell_type": "code",
   "execution_count": 1,
   "id": "8d211658-b14c-4075-a4d3-7d9fb06cf535",
   "metadata": {},
   "outputs": [],
   "source": [
    "import os"
   ]
  },
  {
   "cell_type": "code",
   "execution_count": 3,
   "id": "cb6b6bc7-2315-4f7b-8898-83bb7e26ca27",
   "metadata": {},
   "outputs": [],
   "source": [
    "! cd /download"
   ]
  },
  {
   "cell_type": "code",
   "execution_count": 4,
   "id": "e36eb270-5eb0-4126-bdfb-75cc182c834e",
   "metadata": {},
   "outputs": [
    {
     "name": "stdout",
     "output_type": "stream",
     "text": [
      "--2021-12-10 21:54:14--  http://download.geofabrik.de/europe/portugal-latest-free.shp.zip\n",
      "Resolving download.geofabrik.de (download.geofabrik.de)... 95.216.115.119, 116.202.112.212\n",
      "Connecting to download.geofabrik.de (download.geofabrik.de)|95.216.115.119|:80... connected.\n",
      "HTTP request sent, awaiting response... 200 OK\n",
      "Length: 483436304 (461M) [application/zip]\n",
      "Saving to: ‘portugal-latest-free.shp.zip’\n",
      "\n",
      "portugal-latest-fre 100%[===================>] 461.04M  3.12MB/s    in 2m 31s  \n",
      "\n",
      "2021-12-10 21:56:46 (3.04 MB/s) - ‘portugal-latest-free.shp.zip’ saved [483436304/483436304]\n",
      "\n"
     ]
    }
   ],
   "source": [
    "! wget http://download.geofabrik.de/europe/portugal-latest-free.shp.zip"
   ]
  },
  {
   "cell_type": "code",
   "execution_count": 5,
   "id": "ce4f147e-bc50-46aa-8983-d048e5d0e558",
   "metadata": {},
   "outputs": [
    {
     "name": "stdout",
     "output_type": "stream",
     "text": [
      "Archive:  portugal-latest-free.shp.zip\n",
      "  inflating: README                  \n",
      " extracting: gis_osm_buildings_a_free_1.cpg  \n",
      "  inflating: gis_osm_buildings_a_free_1.dbf  \n",
      "  inflating: gis_osm_buildings_a_free_1.prj  \n",
      "  inflating: gis_osm_buildings_a_free_1.shp  \n",
      "  inflating: gis_osm_buildings_a_free_1.shx  \n",
      " extracting: gis_osm_landuse_a_free_1.cpg  \n",
      "  inflating: gis_osm_landuse_a_free_1.dbf  \n",
      "  inflating: gis_osm_landuse_a_free_1.prj  \n",
      "  inflating: gis_osm_landuse_a_free_1.shp  \n",
      "  inflating: gis_osm_landuse_a_free_1.shx  \n",
      " extracting: gis_osm_natural_a_free_1.cpg  \n",
      "  inflating: gis_osm_natural_a_free_1.dbf  \n",
      "  inflating: gis_osm_natural_a_free_1.prj  \n",
      "  inflating: gis_osm_natural_a_free_1.shp  \n",
      "  inflating: gis_osm_natural_a_free_1.shx  \n",
      " extracting: gis_osm_natural_free_1.cpg  \n",
      "  inflating: gis_osm_natural_free_1.dbf  \n",
      "  inflating: gis_osm_natural_free_1.prj  \n",
      "  inflating: gis_osm_natural_free_1.shp  \n",
      "  inflating: gis_osm_natural_free_1.shx  \n",
      " extracting: gis_osm_places_a_free_1.cpg  \n",
      "  inflating: gis_osm_places_a_free_1.dbf  \n",
      "  inflating: gis_osm_places_a_free_1.prj  \n",
      "  inflating: gis_osm_places_a_free_1.shp  \n",
      "  inflating: gis_osm_places_a_free_1.shx  \n",
      " extracting: gis_osm_places_free_1.cpg  \n",
      "  inflating: gis_osm_places_free_1.dbf  \n",
      "  inflating: gis_osm_places_free_1.prj  \n",
      "  inflating: gis_osm_places_free_1.shp  \n",
      "  inflating: gis_osm_places_free_1.shx  \n",
      " extracting: gis_osm_pofw_a_free_1.cpg  \n",
      "  inflating: gis_osm_pofw_a_free_1.dbf  \n",
      "  inflating: gis_osm_pofw_a_free_1.prj  \n",
      "  inflating: gis_osm_pofw_a_free_1.shp  \n",
      "  inflating: gis_osm_pofw_a_free_1.shx  \n",
      " extracting: gis_osm_pofw_free_1.cpg  \n",
      "  inflating: gis_osm_pofw_free_1.dbf  \n",
      "  inflating: gis_osm_pofw_free_1.prj  \n",
      "  inflating: gis_osm_pofw_free_1.shp  \n",
      "  inflating: gis_osm_pofw_free_1.shx  \n",
      " extracting: gis_osm_pois_a_free_1.cpg  \n",
      "  inflating: gis_osm_pois_a_free_1.dbf  \n",
      "  inflating: gis_osm_pois_a_free_1.prj  \n",
      "  inflating: gis_osm_pois_a_free_1.shp  \n",
      "  inflating: gis_osm_pois_a_free_1.shx  \n",
      " extracting: gis_osm_pois_free_1.cpg  \n",
      "  inflating: gis_osm_pois_free_1.dbf  \n",
      "  inflating: gis_osm_pois_free_1.prj  \n",
      "  inflating: gis_osm_pois_free_1.shp  \n",
      "  inflating: gis_osm_pois_free_1.shx  \n",
      " extracting: gis_osm_railways_free_1.cpg  \n",
      "  inflating: gis_osm_railways_free_1.dbf  \n",
      "  inflating: gis_osm_railways_free_1.prj  \n",
      "  inflating: gis_osm_railways_free_1.shp  \n",
      "  inflating: gis_osm_railways_free_1.shx  \n",
      " extracting: gis_osm_roads_free_1.cpg  \n",
      "  inflating: gis_osm_roads_free_1.dbf  \n",
      "  inflating: gis_osm_roads_free_1.prj  \n",
      "  inflating: gis_osm_roads_free_1.shp  \n",
      "  inflating: gis_osm_roads_free_1.shx  \n",
      " extracting: gis_osm_traffic_a_free_1.cpg  \n",
      "  inflating: gis_osm_traffic_a_free_1.dbf  \n",
      "  inflating: gis_osm_traffic_a_free_1.prj  \n",
      "  inflating: gis_osm_traffic_a_free_1.shp  \n",
      "  inflating: gis_osm_traffic_a_free_1.shx  \n",
      " extracting: gis_osm_traffic_free_1.cpg  \n",
      "  inflating: gis_osm_traffic_free_1.dbf  \n",
      "  inflating: gis_osm_traffic_free_1.prj  \n",
      "  inflating: gis_osm_traffic_free_1.shp  \n",
      "  inflating: gis_osm_traffic_free_1.shx  \n",
      " extracting: gis_osm_transport_a_free_1.cpg  \n",
      "  inflating: gis_osm_transport_a_free_1.dbf  \n",
      "  inflating: gis_osm_transport_a_free_1.prj  \n",
      "  inflating: gis_osm_transport_a_free_1.shp  \n",
      "  inflating: gis_osm_transport_a_free_1.shx  \n",
      " extracting: gis_osm_transport_free_1.cpg  \n",
      "  inflating: gis_osm_transport_free_1.dbf  \n",
      "  inflating: gis_osm_transport_free_1.prj  \n",
      "  inflating: gis_osm_transport_free_1.shp  \n",
      "  inflating: gis_osm_transport_free_1.shx  \n",
      " extracting: gis_osm_water_a_free_1.cpg  \n",
      "  inflating: gis_osm_water_a_free_1.dbf  \n",
      "  inflating: gis_osm_water_a_free_1.prj  \n",
      "  inflating: gis_osm_water_a_free_1.shp  \n",
      "  inflating: gis_osm_water_a_free_1.shx  \n",
      " extracting: gis_osm_waterways_free_1.cpg  \n",
      "  inflating: gis_osm_waterways_free_1.dbf  \n",
      "  inflating: gis_osm_waterways_free_1.prj  \n",
      "  inflating: gis_osm_waterways_free_1.shp  \n",
      "  inflating: gis_osm_waterways_free_1.shx  \n"
     ]
    },
    {
     "data": {
      "text/plain": [
       "0"
      ]
     },
     "execution_count": 5,
     "metadata": {},
     "output_type": "execute_result"
    }
   ],
   "source": [
    "os.system('unzip portugal-latest-free.shp.zip')"
   ]
  },
  {
   "cell_type": "code",
   "execution_count": 6,
   "id": "060a07ac-f095-4502-8d63-a8c6bfa6f20c",
   "metadata": {},
   "outputs": [],
   "source": [
    "import cobra_gdal"
   ]
  },
  {
   "cell_type": "code",
   "execution_count": 7,
   "id": "4a2de492-2d7a-4835-b7fd-f1a6335209dd",
   "metadata": {},
   "outputs": [],
   "source": [
    "g = cobra_gdal.cobra_gdal()"
   ]
  },
  {
   "cell_type": "code",
   "execution_count": 9,
   "id": "67f7d151-c72e-4921-8328-64098f82120c",
   "metadata": {},
   "outputs": [],
   "source": [
    "json={\"path\": \"/download/gis_osm_buildings_a_free_1.shp\"}"
   ]
  },
  {
   "cell_type": "code",
   "execution_count": null,
   "id": "47b5bfeb-df24-4203-a565-269df0e662f8",
   "metadata": {},
   "outputs": [],
   "source": [
    "r = requests.post('http://gdal:5000/load_shape', json=json)"
   ]
  }
 ],
 "metadata": {
  "kernelspec": {
   "display_name": "Python 3 (ipykernel)",
   "language": "python",
   "name": "python3"
  },
  "language_info": {
   "codemirror_mode": {
    "name": "ipython",
    "version": 3
   },
   "file_extension": ".py",
   "mimetype": "text/x-python",
   "name": "python",
   "nbconvert_exporter": "python",
   "pygments_lexer": "ipython3",
   "version": "3.9.7"
  }
 },
 "nbformat": 4,
 "nbformat_minor": 5
}
