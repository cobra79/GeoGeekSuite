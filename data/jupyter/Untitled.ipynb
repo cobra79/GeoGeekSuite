{
 "cells": [
  {
   "cell_type": "code",
   "execution_count": 1,
   "id": "c7b9271e-7dba-4ad6-bfda-f43fc2aa8fae",
   "metadata": {},
   "outputs": [],
   "source": [
    "import cobra_logging"
   ]
  },
  {
   "cell_type": "code",
   "execution_count": 2,
   "id": "6e2abc52-c14a-4a9f-a89d-edd25174d127",
   "metadata": {},
   "outputs": [],
   "source": [
    "l = cobra_logging.Logger(\"test\")"
   ]
  },
  {
   "cell_type": "code",
   "execution_count": 3,
   "id": "d45a9926-ff0a-488a-821c-e1f2b8e09eb5",
   "metadata": {},
   "outputs": [],
   "source": [
    "l.debug('log from jup')"
   ]
  },
  {
   "cell_type": "code",
   "execution_count": null,
   "id": "45c6840f-69ee-46ec-be25-43b87b080f58",
   "metadata": {},
   "outputs": [],
   "source": []
  }
 ],
 "metadata": {
  "kernelspec": {
   "display_name": "Python 3 (ipykernel)",
   "language": "python",
   "name": "python3"
  },
  "language_info": {
   "codemirror_mode": {
    "name": "ipython",
    "version": 3
   },
   "file_extension": ".py",
   "mimetype": "text/x-python",
   "name": "python",
   "nbconvert_exporter": "python",
   "pygments_lexer": "ipython3",
   "version": "3.9.7"
  }
 },
 "nbformat": 4,
 "nbformat_minor": 5
}
