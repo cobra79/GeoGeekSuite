{
 "cells": [
  {
   "cell_type": "code",
   "execution_count": null,
   "id": "c4ea812d-9c14-4a8b-8324-852f181228b0",
   "metadata": {},
   "outputs": [],
   "source": [
    "import requests"
   ]
  },
  {
   "cell_type": "code",
   "execution_count": 9,
   "id": "c331337b-163f-47f3-b630-01450c699998",
   "metadata": {},
   "outputs": [
    {
     "data": {
      "text/plain": [
       "'{\\n  \"name\" : \"elastic-7b7b4d7694-8rsl2\",\\n  \"cluster_name\" : \"docker-cluster\",\\n  \"cluster_uuid\" : \"gjjihRDLThyZMY60pH9Tpg\",\\n  \"version\" : {\\n    \"number\" : \"7.16.0\",\\n    \"build_flavor\" : \"default\",\\n    \"build_type\" : \"docker\",\\n    \"build_hash\" : \"6fc81662312141fe7691d7c1c91b8658ac17aa0d\",\\n    \"build_date\" : \"2021-12-02T15:46:35.697268109Z\",\\n    \"build_snapshot\" : false,\\n    \"lucene_version\" : \"8.10.1\",\\n    \"minimum_wire_compatibility_version\" : \"6.8.0\",\\n    \"minimum_index_compatibility_version\" : \"6.0.0-beta1\"\\n  },\\n  \"tagline\" : \"You Know, for Search\"\\n}\\n'"
      ]
     },
     "execution_count": 9,
     "metadata": {},
     "output_type": "execute_result"
    }
   ],
   "source": [
    "r = requests.get('http://elastic:9200/')\n",
    "r.text"
   ]
  },
  {
   "cell_type": "code",
   "execution_count": 3,
   "id": "b0c53eb5-a7d2-4b08-b3e5-50f2f050ba4f",
   "metadata": {},
   "outputs": [],
   "source": [
    "\n",
    "json={\n",
    "  \"@timestamp\": \"2099-05-06T16:21:15.000Z\",\n",
    "  \"event\": {\n",
    "    \"original\": \"192.0.2.42 - - [06/May/2099:16:21:15 +0000] \\\"GET /images/bg.jpg HTTP/1.0\\\" 200 24736\"\n",
    "  }\n",
    "}"
   ]
  },
  {
   "cell_type": "code",
   "execution_count": 5,
   "id": "3530184c-c3cb-49bf-8fb5-d745909226cf",
   "metadata": {},
   "outputs": [],
   "source": [
    "r = requests.post('http://elastic:9200/my_logs/_doc',json=json)"
   ]
  },
  {
   "cell_type": "code",
   "execution_count": null,
   "id": "dc99cc59-c8b9-494e-b142-e8614d6d090e",
   "metadata": {},
   "outputs": [],
   "source": [
    "r.status_code"
   ]
  },
  {
   "cell_type": "code",
   "execution_count": null,
   "id": "85c7f3d4-56ed-4ab3-9bea-0de9ec63dc77",
   "metadata": {},
   "outputs": [],
   "source": [
    "# Crewate Index\n",
    "r = requests.put('http://elastic:9200/foo_bar')\n",
    "r.text"
   ]
  },
  {
   "cell_type": "code",
   "execution_count": 14,
   "id": "8c38f94e-bcb8-402a-98c8-9104e127ccb6",
   "metadata": {},
   "outputs": [],
   "source": [
    "# Post document\n",
    "doc = {'city':'ratingen','beer':'alt'}\n",
    "r = requests.post('http://elastic:9200/foo_bar/_doc', json=doc)"
   ]
  },
  {
   "cell_type": "code",
   "execution_count": 16,
   "id": "ab71f682-c76f-46bb-9616-64b91c224345",
   "metadata": {},
   "outputs": [
    {
     "data": {
      "text/plain": [
       "'{\"_index\":\"foo_bar\",\"_type\":\"_doc\",\"_id\":\"ltgFnH0Bl1fjWZScRz_a\",\"_version\":1,\"result\":\"created\",\"_shards\":{\"total\":2,\"successful\":1,\"failed\":0},\"_seq_no\":0,\"_primary_term\":1}'"
      ]
     },
     "execution_count": 16,
     "metadata": {},
     "output_type": "execute_result"
    }
   ],
   "source": [
    "r.text"
   ]
  },
  {
   "cell_type": "code",
   "execution_count": 17,
   "id": "38448775-633a-4ee9-adbc-d7e6a8b0d830",
   "metadata": {},
   "outputs": [],
   "source": [
    "# Put document\n",
    "doc = {'city':'Düsseldorf','beer':'alt'}\n",
    "r = requests.put('http://elastic:9200/foo_bar/_doc/1', json=doc)"
   ]
  },
  {
   "cell_type": "code",
   "execution_count": 18,
   "id": "e16518b6-c79d-42bd-adc8-e6b1d15fba1d",
   "metadata": {},
   "outputs": [
    {
     "data": {
      "text/plain": [
       "'{\"_index\":\"foo_bar\",\"_type\":\"_doc\",\"_id\":\"1\",\"_version\":1,\"result\":\"created\",\"_shards\":{\"total\":2,\"successful\":1,\"failed\":0},\"_seq_no\":1,\"_primary_term\":1}'"
      ]
     },
     "execution_count": 18,
     "metadata": {},
     "output_type": "execute_result"
    }
   ],
   "source": [
    "r.text"
   ]
  },
  {
   "cell_type": "code",
   "execution_count": 19,
   "id": "179371f2-8ceb-40d1-8dc3-935911c0b1d7",
   "metadata": {},
   "outputs": [
    {
     "data": {
      "text/plain": [
       "'{\"_index\":\"foo_bar\",\"_type\":\"_doc\",\"_id\":\"1\",\"_version\":1,\"_seq_no\":1,\"_primary_term\":1,\"found\":true,\"_source\":{\"city\": \"D\\\\u00fcsseldorf\", \"beer\": \"alt\"}}'"
      ]
     },
     "execution_count": 19,
     "metadata": {},
     "output_type": "execute_result"
    }
   ],
   "source": [
    "# Get Back Doc\n",
    "r = requests.get('http://elastic:9200/foo_bar/_doc/1')\n",
    "r.text"
   ]
  },
  {
   "cell_type": "code",
   "execution_count": null,
   "id": "9905a6c6-baca-471b-a8b9-5357b1f8587b",
   "metadata": {},
   "outputs": [],
   "source": []
  }
 ],
 "metadata": {
  "kernelspec": {
   "display_name": "Python 3 (ipykernel)",
   "language": "python",
   "name": "python3"
  },
  "language_info": {
   "codemirror_mode": {
    "name": "ipython",
    "version": 3
   },
   "file_extension": ".py",
   "mimetype": "text/x-python",
   "name": "python",
   "nbconvert_exporter": "python",
   "pygments_lexer": "ipython3",
   "version": "3.9.7"
  }
 },
 "nbformat": 4,
 "nbformat_minor": 5
}
