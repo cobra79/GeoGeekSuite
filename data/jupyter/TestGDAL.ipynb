{
 "cells": [
  {
   "cell_type": "code",
   "execution_count": null,
   "id": "d855c9bb-37ec-4259-9b4c-80853c706c29",
   "metadata": {},
   "outputs": [],
   "source": [
    "import cobra_gdal"
   ]
  },
  {
   "cell_type": "code",
   "execution_count": null,
   "id": "e1ee1c6d-ee98-4fc9-b2f4-c02a124fe263",
   "metadata": {},
   "outputs": [],
   "source": [
    "g = cobra_gdal.cobra_gdal()"
   ]
  },
  {
   "cell_type": "code",
   "execution_count": null,
   "id": "445e2275-09d4-40cf-92a0-cd9840f5d51f",
   "metadata": {},
   "outputs": [],
   "source": [
    "g.shape2pg('./gis_osm_waterways_free_1.shp')"
   ]
  },
  {
   "cell_type": "code",
   "execution_count": null,
   "id": "d7bd0bd5-0e12-45c1-98d5-6d087f3001ed",
   "metadata": {},
   "outputs": [],
   "source": [
    "#! wget http://download.geofabrik.de/europe/portugal-latest-free.shp.zip"
   ]
  },
  {
   "cell_type": "code",
   "execution_count": null,
   "id": "e660c71f-f973-4569-ba1e-65950e347b60",
   "metadata": {},
   "outputs": [],
   "source": [
    "#! cd downloads"
   ]
  },
  {
   "cell_type": "code",
   "execution_count": 1,
   "id": "f0cf341f-02c0-407b-8d6b-1397cd288d1e",
   "metadata": {},
   "outputs": [],
   "source": [
    "import requests"
   ]
  },
  {
   "cell_type": "code",
   "execution_count": 2,
   "id": "0f966194-c0e6-43f5-819a-78671c1a9998",
   "metadata": {},
   "outputs": [
    {
     "data": {
      "text/plain": [
       "'Hello, Docker!'"
      ]
     },
     "execution_count": 2,
     "metadata": {},
     "output_type": "execute_result"
    }
   ],
   "source": [
    "r = requests.get('http://gdal:5000')\n",
    "r.text"
   ]
  },
  {
   "cell_type": "code",
   "execution_count": 3,
   "id": "7a204ac6-42f6-4f5f-b613-127795540944",
   "metadata": {},
   "outputs": [],
   "source": [
    "json={\"path\": \"/download/gis_osm_buildings_a_free_1.shp\"}"
   ]
  },
  {
   "cell_type": "code",
   "execution_count": 4,
   "id": "0a0f82de-9e54-48a0-b499-6680d942283b",
   "metadata": {},
   "outputs": [],
   "source": [
    "r = requests.post('http://gdal:5000/load_shape', json=json)"
   ]
  },
  {
   "cell_type": "code",
   "execution_count": 5,
   "id": "7c29436c-cfb3-4f1c-b255-c1aac3122602",
   "metadata": {},
   "outputs": [
    {
     "data": {
      "text/plain": [
       "200"
      ]
     },
     "execution_count": 5,
     "metadata": {},
     "output_type": "execute_result"
    }
   ],
   "source": [
    "r.status_code"
   ]
  },
  {
   "cell_type": "code",
   "execution_count": 7,
   "id": "4c92d13b-73f5-4c5b-ab14-e1924b5d15d6",
   "metadata": {},
   "outputs": [
    {
     "data": {
      "text/plain": [
       "<bound method Response.json of <Response [200]>>"
      ]
     },
     "execution_count": 7,
     "metadata": {},
     "output_type": "execute_result"
    }
   ],
   "source": [
    "r.json"
   ]
  },
  {
   "cell_type": "code",
   "execution_count": null,
   "id": "95e35e30-43c5-476e-86a9-f36266efb9fd",
   "metadata": {},
   "outputs": [],
   "source": []
  }
 ],
 "metadata": {
  "kernelspec": {
   "display_name": "Python 3 (ipykernel)",
   "language": "python",
   "name": "python3"
  },
  "language_info": {
   "codemirror_mode": {
    "name": "ipython",
    "version": 3
   },
   "file_extension": ".py",
   "mimetype": "text/x-python",
   "name": "python",
   "nbconvert_exporter": "python",
   "pygments_lexer": "ipython3",
   "version": "3.9.7"
  }
 },
 "nbformat": 4,
 "nbformat_minor": 5
}
