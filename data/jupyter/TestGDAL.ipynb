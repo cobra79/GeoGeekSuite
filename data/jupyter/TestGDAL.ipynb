{
 "cells": [
  {
   "cell_type": "code",
   "execution_count": null,
   "id": "d855c9bb-37ec-4259-9b4c-80853c706c29",
   "metadata": {},
   "outputs": [],
   "source": [
    "import cobra_gdal"
   ]
  },
  {
   "cell_type": "code",
   "execution_count": null,
   "id": "e1ee1c6d-ee98-4fc9-b2f4-c02a124fe263",
   "metadata": {},
   "outputs": [],
   "source": [
    "g = cobra_gdal.cobra_gdal()"
   ]
  },
  {
   "cell_type": "code",
   "execution_count": null,
   "id": "445e2275-09d4-40cf-92a0-cd9840f5d51f",
   "metadata": {},
   "outputs": [],
   "source": [
    "g.shape2pg('./gis_osm_waterways_free_1.shp')"
   ]
  },
  {
   "cell_type": "code",
   "execution_count": null,
   "id": "d7bd0bd5-0e12-45c1-98d5-6d087f3001ed",
   "metadata": {},
   "outputs": [],
   "source": [
    "#! wget http://download.geofabrik.de/europe/portugal-latest-free.shp.zip"
   ]
  },
  {
   "cell_type": "code",
   "execution_count": null,
   "id": "e660c71f-f973-4569-ba1e-65950e347b60",
   "metadata": {},
   "outputs": [],
   "source": [
    "#! cd downloads"
   ]
  },
  {
   "cell_type": "code",
   "execution_count": 1,
   "id": "f0cf341f-02c0-407b-8d6b-1397cd288d1e",
   "metadata": {},
   "outputs": [],
   "source": [
    "import requests"
   ]
  },
  {
   "cell_type": "code",
   "execution_count": 12,
   "id": "0f966194-c0e6-43f5-819a-78671c1a9998",
   "metadata": {},
   "outputs": [
    {
     "data": {
      "text/plain": [
       "'Hello, Docker!'"
      ]
     },
     "execution_count": 12,
     "metadata": {},
     "output_type": "execute_result"
    }
   ],
   "source": [
    "r = requests.get('http://gdal:5000')\n",
    "r.text"
   ]
  },
  {
   "cell_type": "code",
   "execution_count": 2,
   "id": "7a204ac6-42f6-4f5f-b613-127795540944",
   "metadata": {},
   "outputs": [],
   "source": [
    "json={\"path\": \"/download/gis_osm_buildings_a_free_1.shp\"}"
   ]
  },
  {
   "cell_type": "code",
   "execution_count": 3,
   "id": "0a0f82de-9e54-48a0-b499-6680d942283b",
   "metadata": {},
   "outputs": [],
   "source": [
    "r = requests.post('http://gdal:5000/load_shape', json=json)"
   ]
  },
  {
   "cell_type": "code",
   "execution_count": 9,
   "id": "7c29436c-cfb3-4f1c-b255-c1aac3122602",
   "metadata": {},
   "outputs": [
    {
     "data": {
      "text/plain": [
       "200"
      ]
     },
     "execution_count": 9,
     "metadata": {},
     "output_type": "execute_result"
    }
   ],
   "source": [
    "r.status_code"
   ]
  },
  {
   "cell_type": "code",
   "execution_count": 7,
   "id": "4c92d13b-73f5-4c5b-ab14-e1924b5d15d6",
   "metadata": {},
   "outputs": [
    {
     "data": {
      "text/plain": [
       "<bound method Response.json of <Response [200]>>"
      ]
     },
     "execution_count": 7,
     "metadata": {},
     "output_type": "execute_result"
    }
   ],
   "source": [
    "r.json"
   ]
  },
  {
   "cell_type": "code",
   "execution_count": 19,
   "id": "95e35e30-43c5-476e-86a9-f36266efb9fd",
   "metadata": {},
   "outputs": [],
   "source": [
    "d = {'path':'/to/home'}"
   ]
  },
  {
   "cell_type": "code",
   "execution_count": 21,
   "id": "308814f8-a6f5-4eea-b240-82abab843032",
   "metadata": {},
   "outputs": [
    {
     "data": {
      "text/plain": [
       "{'path': '/to/home'}"
      ]
     },
     "execution_count": 21,
     "metadata": {},
     "output_type": "execute_result"
    }
   ],
   "source": [
    "d"
   ]
  },
  {
   "cell_type": "code",
   "execution_count": 20,
   "id": "cc705bca-f587-4423-b61d-c41c9f4bc181",
   "metadata": {},
   "outputs": [
    {
     "data": {
      "text/plain": [
       "dict"
      ]
     },
     "execution_count": 20,
     "metadata": {},
     "output_type": "execute_result"
    }
   ],
   "source": [
    "type(d)"
   ]
  },
  {
   "cell_type": "code",
   "execution_count": 22,
   "id": "ad7e8f97-cc71-46fd-a0cd-c32dee51eb82",
   "metadata": {},
   "outputs": [
    {
     "ename": "AttributeError",
     "evalue": "'dict' object has no attribute 'path'",
     "output_type": "error",
     "traceback": [
      "\u001b[0;31m---------------------------------------------------------------------------\u001b[0m",
      "\u001b[0;31mAttributeError\u001b[0m                            Traceback (most recent call last)",
      "\u001b[0;32m/tmp/ipykernel_49/1295363583.py\u001b[0m in \u001b[0;36m<module>\u001b[0;34m\u001b[0m\n\u001b[0;32m----> 1\u001b[0;31m \u001b[0md\u001b[0m\u001b[0;34m.\u001b[0m\u001b[0mpath\u001b[0m\u001b[0;34m\u001b[0m\u001b[0;34m\u001b[0m\u001b[0m\n\u001b[0m",
      "\u001b[0;31mAttributeError\u001b[0m: 'dict' object has no attribute 'path'"
     ]
    }
   ],
   "source": [
    "d.path"
   ]
  },
  {
   "cell_type": "code",
   "execution_count": 23,
   "id": "444ce82e-7f16-4072-92d3-2ae89b380ef5",
   "metadata": {},
   "outputs": [
    {
     "data": {
      "text/plain": [
       "'/to/home'"
      ]
     },
     "execution_count": 23,
     "metadata": {},
     "output_type": "execute_result"
    }
   ],
   "source": [
    "d['path']"
   ]
  },
  {
   "cell_type": "code",
   "execution_count": 24,
   "id": "86a21610-7168-43b3-a699-7e370c2cd0d8",
   "metadata": {},
   "outputs": [
    {
     "data": {
      "text/plain": [
       "'/to/home'"
      ]
     },
     "execution_count": 24,
     "metadata": {},
     "output_type": "execute_result"
    }
   ],
   "source": [
    "d.get('path')"
   ]
  },
  {
   "cell_type": "code",
   "execution_count": null,
   "id": "e4c32003-738d-480e-8116-3bfb94554ca4",
   "metadata": {},
   "outputs": [],
   "source": []
  }
 ],
 "metadata": {
  "kernelspec": {
   "display_name": "Python 3 (ipykernel)",
   "language": "python",
   "name": "python3"
  },
  "language_info": {
   "codemirror_mode": {
    "name": "ipython",
    "version": 3
   },
   "file_extension": ".py",
   "mimetype": "text/x-python",
   "name": "python",
   "nbconvert_exporter": "python",
   "pygments_lexer": "ipython3",
   "version": "3.9.7"
  }
 },
 "nbformat": 4,
 "nbformat_minor": 5
}
