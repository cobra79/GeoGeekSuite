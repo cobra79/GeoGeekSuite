{
 "cells": [
  {
   "cell_type": "code",
   "execution_count": 1,
   "id": "d855c9bb-37ec-4259-9b4c-80853c706c29",
   "metadata": {},
   "outputs": [],
   "source": [
    "import cobra_gdal"
   ]
  },
  {
   "cell_type": "code",
   "execution_count": 2,
   "id": "e1ee1c6d-ee98-4fc9-b2f4-c02a124fe263",
   "metadata": {},
   "outputs": [],
   "source": [
    "g = cobra_gdal.cobra_gdal()"
   ]
  },
  {
   "cell_type": "code",
   "execution_count": 3,
   "id": "445e2275-09d4-40cf-92a0-cd9840f5d51f",
   "metadata": {},
   "outputs": [
    {
     "name": "stdout",
     "output_type": "stream",
     "text": [
      "DEBUG [cobra_gdal] shape2pg\n",
      "DEBUG [cobra_gdal] ogr2ogr -f \"PostgreSQL\" PG:\"...\" \"./gis_osm_waterways_free_1.shp\"\n"
     ]
    }
   ],
   "source": [
    "g.shape2pg('./gis_osm_waterways_free_1.shp')"
   ]
  },
  {
   "cell_type": "code",
   "execution_count": null,
   "id": "d7bd0bd5-0e12-45c1-98d5-6d087f3001ed",
   "metadata": {},
   "outputs": [],
   "source": [
    "#! wget http://download.geofabrik.de/europe/portugal-latest-free.shp.zip"
   ]
  },
  {
   "cell_type": "code",
   "execution_count": null,
   "id": "e660c71f-f973-4569-ba1e-65950e347b60",
   "metadata": {},
   "outputs": [],
   "source": [
    "#! cd downloads"
   ]
  }
 ],
 "metadata": {
  "kernelspec": {
   "display_name": "Python 3 (ipykernel)",
   "language": "python",
   "name": "python3"
  },
  "language_info": {
   "codemirror_mode": {
    "name": "ipython",
    "version": 3
   },
   "file_extension": ".py",
   "mimetype": "text/x-python",
   "name": "python",
   "nbconvert_exporter": "python",
   "pygments_lexer": "ipython3",
   "version": "3.9.7"
  }
 },
 "nbformat": 4,
 "nbformat_minor": 5
}
