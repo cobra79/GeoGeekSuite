{
 "cells": [
  {
   "cell_type": "code",
   "execution_count": 1,
   "id": "c4ea812d-9c14-4a8b-8324-852f181228b0",
   "metadata": {},
   "outputs": [],
   "source": [
    "import requests\n",
    "import cobra_logging"
   ]
  },
  {
   "cell_type": "markdown",
   "id": "2798ebaa-8fbb-4392-94f2-a49ab076bc9e",
   "metadata": {},
   "source": [
    "# Direct interaction with elastic"
   ]
  },
  {
   "cell_type": "code",
   "execution_count": 2,
   "id": "c331337b-163f-47f3-b630-01450c699998",
   "metadata": {},
   "outputs": [
    {
     "data": {
      "text/plain": [
       "'{\\n  \"name\" : \"elastic-7b7b4d7694-gn7rb\",\\n  \"cluster_name\" : \"docker-cluster\",\\n  \"cluster_uuid\" : \"8QK9LQ8xSpmhouZ7NnVY1Q\",\\n  \"version\" : {\\n    \"number\" : \"7.16.0\",\\n    \"build_flavor\" : \"default\",\\n    \"build_type\" : \"docker\",\\n    \"build_hash\" : \"6fc81662312141fe7691d7c1c91b8658ac17aa0d\",\\n    \"build_date\" : \"2021-12-02T15:46:35.697268109Z\",\\n    \"build_snapshot\" : false,\\n    \"lucene_version\" : \"8.10.1\",\\n    \"minimum_wire_compatibility_version\" : \"6.8.0\",\\n    \"minimum_index_compatibility_version\" : \"6.0.0-beta1\"\\n  },\\n  \"tagline\" : \"You Know, for Search\"\\n}\\n'"
      ]
     },
     "execution_count": 2,
     "metadata": {},
     "output_type": "execute_result"
    }
   ],
   "source": [
    "# See if Elasitic is up and running\n",
    "r = requests.get('http://elastic:9200/')\n",
    "r.text"
   ]
  },
  {
   "cell_type": "code",
   "execution_count": 3,
   "id": "85c7f3d4-56ed-4ab3-9bea-0de9ec63dc77",
   "metadata": {},
   "outputs": [
    {
     "data": {
      "text/plain": [
       "'{\"acknowledged\":true,\"shards_acknowledged\":true,\"index\":\"new_index\"}'"
      ]
     },
     "execution_count": 3,
     "metadata": {},
     "output_type": "execute_result"
    }
   ],
   "source": [
    "# Create Index\n",
    "r = requests.put('http://elastic:9200/new_index')\n",
    "r.text"
   ]
  },
  {
   "cell_type": "code",
   "execution_count": 4,
   "id": "8c38f94e-bcb8-402a-98c8-9104e127ccb6",
   "metadata": {},
   "outputs": [],
   "source": [
    "# Post document\n",
    "doc = {'city':'ratingen','beer':'alt'}\n",
    "r = requests.post('http://elastic:9200/new_index/_doc', json=doc)"
   ]
  },
  {
   "cell_type": "code",
   "execution_count": 5,
   "id": "ab71f682-c76f-46bb-9616-64b91c224345",
   "metadata": {},
   "outputs": [
    {
     "data": {
      "text/plain": [
       "'{\"_index\":\"new_index\",\"_type\":\"_doc\",\"_id\":\"mChVoX0BYB_XxzqOqQ0P\",\"_version\":1,\"result\":\"created\",\"_shards\":{\"total\":2,\"successful\":1,\"failed\":0},\"_seq_no\":0,\"_primary_term\":1}'"
      ]
     },
     "execution_count": 5,
     "metadata": {},
     "output_type": "execute_result"
    }
   ],
   "source": [
    "r.text"
   ]
  },
  {
   "cell_type": "code",
   "execution_count": 6,
   "id": "179371f2-8ceb-40d1-8dc3-935911c0b1d7",
   "metadata": {},
   "outputs": [
    {
     "data": {
      "text/plain": [
       "'{\"_index\":\"foo_bar\",\"_type\":\"_doc\",\"_id\":\"1\",\"_version\":1,\"_seq_no\":1,\"_primary_term\":1,\"found\":true,\"_source\":{\"city\": \"D\\\\u00fcsseldorf\", \"beer\": \"alt\"}}'"
      ]
     },
     "execution_count": 6,
     "metadata": {},
     "output_type": "execute_result"
    }
   ],
   "source": [
    "# Get Back Doc\n",
    "r = requests.get('http://elastic:9200/foo_bar/_doc/1')\n",
    "r.text"
   ]
  },
  {
   "cell_type": "markdown",
   "id": "290c0b44-787b-4e1f-bfe8-d67f1403e8c3",
   "metadata": {},
   "source": [
    "# Log to elastic"
   ]
  },
  {
   "cell_type": "code",
   "execution_count": 7,
   "id": "20e85a9a-82d4-43c6-ba87-13e7bd99aac8",
   "metadata": {},
   "outputs": [],
   "source": [
    "logger = cobra_logging.Logger(\"Jupyter Notebook\")"
   ]
  },
  {
   "cell_type": "code",
   "execution_count": 8,
   "id": "2dbd479f-0712-4f6a-bea8-262ba0d5a863",
   "metadata": {},
   "outputs": [],
   "source": [
    "logger.info(\"Impfen rettet leben\")"
   ]
  },
  {
   "cell_type": "code",
   "execution_count": 9,
   "id": "245a87ea-dcbc-46ed-a54e-b257ac3366c6",
   "metadata": {},
   "outputs": [],
   "source": [
    "logger.error('War wohl nix')"
   ]
  },
  {
   "cell_type": "code",
   "execution_count": 10,
   "id": "5f354cf5-74e2-462d-a63c-0839ecc54bf8",
   "metadata": {},
   "outputs": [],
   "source": [
    "logger.error('Mist', 'Human does not understand science')"
   ]
  },
  {
   "cell_type": "code",
   "execution_count": null,
   "id": "ed0382aa-65e3-4c98-9b5b-e8cbb67568b2",
   "metadata": {},
   "outputs": [],
   "source": []
  }
 ],
 "metadata": {
  "kernelspec": {
   "display_name": "Python 3 (ipykernel)",
   "language": "python",
   "name": "python3"
  },
  "language_info": {
   "codemirror_mode": {
    "name": "ipython",
    "version": 3
   },
   "file_extension": ".py",
   "mimetype": "text/x-python",
   "name": "python",
   "nbconvert_exporter": "python",
   "pygments_lexer": "ipython3",
   "version": "3.9.7"
  }
 },
 "nbformat": 4,
 "nbformat_minor": 5
}
