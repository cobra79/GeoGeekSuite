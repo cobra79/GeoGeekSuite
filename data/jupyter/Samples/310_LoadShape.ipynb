{
 "cells": [
  {
   "cell_type": "markdown",
   "id": "8a62b030-5ab0-4d45-9799-9bb9cccbcb9e",
   "metadata": {},
   "source": [
    "# Download and load shape to PostGIS"
   ]
  },
  {
   "cell_type": "code",
   "execution_count": 1,
   "id": "47b5bfeb-df24-4203-a565-269df0e662f8",
   "metadata": {},
   "outputs": [],
   "source": [
    "# Deprecated, use file manaement and jobs"
   ]
  },
  {
   "cell_type": "code",
   "execution_count": null,
   "id": "8ecfbe92-8662-4472-a3f0-6b211eb59750",
   "metadata": {},
   "outputs": [],
   "source": []
  }
 ],
 "metadata": {
  "kernelspec": {
   "display_name": "Python 3 (ipykernel)",
   "language": "python",
   "name": "python3"
  },
  "language_info": {
   "codemirror_mode": {
    "name": "ipython",
    "version": 3
   },
   "file_extension": ".py",
   "mimetype": "text/x-python",
   "name": "python",
   "nbconvert_exporter": "python",
   "pygments_lexer": "ipython3",
   "version": "3.9.7"
  }
 },
 "nbformat": 4,
 "nbformat_minor": 5
}
