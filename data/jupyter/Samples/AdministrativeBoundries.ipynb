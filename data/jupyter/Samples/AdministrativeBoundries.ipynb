{
 "cells": [
  {
   "cell_type": "code",
   "execution_count": 16,
   "id": "2f21df0c-249b-4fe2-8381-0258eb18afc4",
   "metadata": {},
   "outputs": [],
   "source": [
    "import cobra.utils.stylehandling as sh\n",
    "import cobra.utils.filehandling as fh\n",
    "import cobra.utils.jobhandling as jh\n",
    "from cobra.postgres.interface import PgInterface"
   ]
  },
  {
   "cell_type": "code",
   "execution_count": 2,
   "id": "dd8a3e79-c829-453d-af50-d0d4aeac15a0",
   "metadata": {},
   "outputs": [],
   "source": [
    "download_file = 'https://download.geofabrik.de/europe/portugal-latest.osm.pbf'\n",
    "country = 'portugal'"
   ]
  },
  {
   "cell_type": "code",
   "execution_count": 17,
   "id": "afb5f880-7a3a-491a-952f-571ac7aa6a2b",
   "metadata": {},
   "outputs": [],
   "source": [
    "fileman = fh.Filemanager()\n",
    "jobman = jh.Jobmanager()\n",
    "i = PgInterface()"
   ]
  },
  {
   "cell_type": "code",
   "execution_count": 4,
   "id": "e6a1c06f-a12e-46b9-885d-364a762c7cea",
   "metadata": {},
   "outputs": [
    {
     "data": {
      "text/plain": [
       "Type                         OSM PBF\n",
       "Dataset                     portugal\n",
       "File         portugal-latest.osm.pbf\n",
       "Path              /download/portugal\n",
       "Size (MB)                     251.84\n",
       "Name: 45, dtype: object"
      ]
     },
     "execution_count": 4,
     "metadata": {},
     "output_type": "execute_result"
    }
   ],
   "source": [
    "datasets = fileman.get_data(datatype='OSM PBF')\n",
    "dataset = datasets[datasets['Dataset'] == country].iloc[0]\n",
    "dataset"
   ]
  },
  {
   "cell_type": "code",
   "execution_count": 5,
   "id": "c4c4141f-44f5-41e9-8ad3-8ce92146daad",
   "metadata": {},
   "outputs": [
    {
     "name": "stdout",
     "output_type": "stream",
     "text": [
      "create_import_job_from_dataset\n",
      "OSM PBF\n"
     ]
    }
   ],
   "source": [
    "jobman.create_import_job_from_dataset(dataset, f'{country}_admin', style='admin.style')"
   ]
  },
  {
   "cell_type": "code",
   "execution_count": 12,
   "id": "93a8f6ee-4f13-4e3d-a903-b62be0441253",
   "metadata": {},
   "outputs": [
    {
     "data": {
      "text/html": [
       "<div>\n",
       "<style scoped>\n",
       "    .dataframe tbody tr th:only-of-type {\n",
       "        vertical-align: middle;\n",
       "    }\n",
       "\n",
       "    .dataframe tbody tr th {\n",
       "        vertical-align: top;\n",
       "    }\n",
       "\n",
       "    .dataframe thead th {\n",
       "        text-align: right;\n",
       "    }\n",
       "</style>\n",
       "<table border=\"1\" class=\"dataframe\">\n",
       "  <thead>\n",
       "    <tr style=\"text-align: right;\">\n",
       "      <th></th>\n",
       "      <th>UUID</th>\n",
       "      <th>Name</th>\n",
       "      <th>Job Type</th>\n",
       "      <th>Date created</th>\n",
       "      <th>Date started</th>\n",
       "      <th>Date finished</th>\n",
       "      <th>Priority</th>\n",
       "      <th>Status</th>\n",
       "    </tr>\n",
       "  </thead>\n",
       "  <tbody>\n",
       "    <tr>\n",
       "      <th>0</th>\n",
       "      <td>846011c5-a9fa-438b-8bab-1cc49d0fc858</td>\n",
       "      <td>Load OSM from portugal</td>\n",
       "      <td>osm2pg</td>\n",
       "      <td>Tue, 01 Mar 2022 14:42:39 GMT</td>\n",
       "      <td>None</td>\n",
       "      <td>Tue, 01 Mar 2022 14:45:48 GMT</td>\n",
       "      <td>42</td>\n",
       "      <td>Finished</td>\n",
       "    </tr>\n",
       "    <tr>\n",
       "      <th>1</th>\n",
       "      <td>5fbc825d-507f-44b5-8f56-2cd7ef82750f</td>\n",
       "      <td>Load OSM from Swiss</td>\n",
       "      <td>osm2pg</td>\n",
       "      <td>Tue, 01 Mar 2022 18:22:45 GMT</td>\n",
       "      <td>None</td>\n",
       "      <td>None</td>\n",
       "      <td>42</td>\n",
       "      <td>Failed</td>\n",
       "    </tr>\n",
       "    <tr>\n",
       "      <th>2</th>\n",
       "      <td>6277df2c-7421-4420-851b-a1acadff3d7a</td>\n",
       "      <td>Load OSM from Swiss</td>\n",
       "      <td>osm2pg</td>\n",
       "      <td>Tue, 01 Mar 2022 18:25:10 GMT</td>\n",
       "      <td>None</td>\n",
       "      <td>Tue, 01 Mar 2022 18:29:57 GMT</td>\n",
       "      <td>42</td>\n",
       "      <td>Finished</td>\n",
       "    </tr>\n",
       "    <tr>\n",
       "      <th>3</th>\n",
       "      <td>1bc53533-6387-4908-a211-200f69f37325</td>\n",
       "      <td>Load OSM from portugal</td>\n",
       "      <td>osm2pg</td>\n",
       "      <td>Tue, 01 Mar 2022 21:59:09 GMT</td>\n",
       "      <td>None</td>\n",
       "      <td>Tue, 01 Mar 2022 22:02:20 GMT</td>\n",
       "      <td>42</td>\n",
       "      <td>Finished</td>\n",
       "    </tr>\n",
       "    <tr>\n",
       "      <th>4</th>\n",
       "      <td>507adf81-5b01-4f1f-bb7e-7cd64d1ef2fb</td>\n",
       "      <td>Load OSM from portugal</td>\n",
       "      <td>osm2pg</td>\n",
       "      <td>Tue, 01 Mar 2022 22:23:21 GMT</td>\n",
       "      <td>None</td>\n",
       "      <td>Tue, 01 Mar 2022 22:26:34 GMT</td>\n",
       "      <td>42</td>\n",
       "      <td>Finished</td>\n",
       "    </tr>\n",
       "  </tbody>\n",
       "</table>\n",
       "</div>"
      ],
      "text/plain": [
       "                                   UUID                    Name Job Type  \\\n",
       "0  846011c5-a9fa-438b-8bab-1cc49d0fc858  Load OSM from portugal   osm2pg   \n",
       "1  5fbc825d-507f-44b5-8f56-2cd7ef82750f     Load OSM from Swiss   osm2pg   \n",
       "2  6277df2c-7421-4420-851b-a1acadff3d7a     Load OSM from Swiss   osm2pg   \n",
       "3  1bc53533-6387-4908-a211-200f69f37325  Load OSM from portugal   osm2pg   \n",
       "4  507adf81-5b01-4f1f-bb7e-7cd64d1ef2fb  Load OSM from portugal   osm2pg   \n",
       "\n",
       "                    Date created Date started                  Date finished  \\\n",
       "0  Tue, 01 Mar 2022 14:42:39 GMT         None  Tue, 01 Mar 2022 14:45:48 GMT   \n",
       "1  Tue, 01 Mar 2022 18:22:45 GMT         None                           None   \n",
       "2  Tue, 01 Mar 2022 18:25:10 GMT         None  Tue, 01 Mar 2022 18:29:57 GMT   \n",
       "3  Tue, 01 Mar 2022 21:59:09 GMT         None  Tue, 01 Mar 2022 22:02:20 GMT   \n",
       "4  Tue, 01 Mar 2022 22:23:21 GMT         None  Tue, 01 Mar 2022 22:26:34 GMT   \n",
       "\n",
       "   Priority    Status  \n",
       "0        42  Finished  \n",
       "1        42    Failed  \n",
       "2        42  Finished  \n",
       "3        42  Finished  \n",
       "4        42  Finished  "
      ]
     },
     "execution_count": 12,
     "metadata": {},
     "output_type": "execute_result"
    }
   ],
   "source": [
    "jobman.get_jobs(df=True)"
   ]
  },
  {
   "cell_type": "code",
   "execution_count": 18,
   "id": "a27c9a59-999a-481b-931c-de8cac3d5b2a",
   "metadata": {},
   "outputs": [
    {
     "name": "stdout",
     "output_type": "stream",
     "text": [
      "Distritos - 6\n",
      "Concelhos - 7\n",
      "Freguesias - 8\n"
     ]
    }
   ],
   "source": [
    "admin_level = [{'name':'Distritos','level':'6'},{'name':'Concelhos','level':'7'},{'name':'Freguesias','level':'8'}]\n",
    "for boundaries in admin_level:\n",
    "    \n",
    "    print(f\"{boundaries['name']} - {boundaries['level']}\")\n",
    "    sql = f\"CREATE TABLE {country}_admin.{boundaries['name']} AS SELECT name, way as geom FROM {country}_admin.planet_osm_line WHERE boundary='administrative' AND admin_level='{boundaries['level']}'\"\n",
    "    i.__execute_sql__(sql)"
   ]
  },
  {
   "cell_type": "code",
   "execution_count": null,
   "id": "e7729d8b-1856-46c2-b9f1-4c62cf2f0f69",
   "metadata": {},
   "outputs": [],
   "source": []
  }
 ],
 "metadata": {
  "kernelspec": {
   "display_name": "Python 3 (ipykernel)",
   "language": "python",
   "name": "python3"
  },
  "language_info": {
   "codemirror_mode": {
    "name": "ipython",
    "version": 3
   },
   "file_extension": ".py",
   "mimetype": "text/x-python",
   "name": "python",
   "nbconvert_exporter": "python",
   "pygments_lexer": "ipython3",
   "version": "3.9.7"
  }
 },
 "nbformat": 4,
 "nbformat_minor": 5
}
