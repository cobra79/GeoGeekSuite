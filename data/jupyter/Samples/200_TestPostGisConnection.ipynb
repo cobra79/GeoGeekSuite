{
 "cells": [
  {
   "cell_type": "markdown",
   "id": "26c72629-1252-4164-b06e-26425d9bf083",
   "metadata": {},
   "source": [
    "# Postgres / PostGIS connection\n",
    "\n",
    "Within the Kubernetes cluster the service \"postgres\" is the gatway to connect to the K8S cluster.\n",
    "As host in the connect details 'postgres' can be used. Username for the database is also postgres and the password is equal to the password defined in the credentials. This password is stored as a Kubernetes secret and mapped to an evironment variable in the pod."
   ]
  },
  {
   "cell_type": "code",
   "execution_count": 1,
   "id": "b6215933-2fab-4a03-bcea-63f27429cebf",
   "metadata": {},
   "outputs": [],
   "source": [
    "import psycopg2\n",
    "import os"
   ]
  },
  {
   "cell_type": "code",
   "execution_count": 2,
   "id": "58d75e18-f941-4947-afc6-8f9dbf76c72f",
   "metadata": {},
   "outputs": [],
   "source": [
    "host = 'postgres'\n",
    "database = 'postgres'\n",
    "user = 'postgres'\n",
    "password = os.environ['PGPASSWORD']\n",
    "connection_string = f'host={host} dbname={database} user={user} password={password}'"
   ]
  },
  {
   "cell_type": "code",
   "execution_count": 3,
   "id": "07b8bfd3-cb05-409d-86c8-d067487bf4ad",
   "metadata": {},
   "outputs": [
    {
     "name": "stdout",
     "output_type": "stream",
     "text": [
      "('PostgreSQL 13.5 on x86_64-pc-linux-musl, compiled by gcc (Alpine 10.3.1_git20210424) 10.3.1 20210424, 64-bit',)\n"
     ]
    }
   ],
   "source": [
    "with psycopg2.connect(connection_string) as conn:\n",
    "    with conn.cursor() as curs:\n",
    "        curs.execute('SELECT version();')\n",
    "        result = curs.fetchone();\n",
    "        print(result)"
   ]
  },
  {
   "cell_type": "code",
   "execution_count": null,
   "id": "05522013-d163-4af1-bbb2-9b6a44060b7b",
   "metadata": {},
   "outputs": [],
   "source": []
  }
 ],
 "metadata": {
  "kernelspec": {
   "display_name": "Python 3 (ipykernel)",
   "language": "python",
   "name": "python3"
  },
  "language_info": {
   "codemirror_mode": {
    "name": "ipython",
    "version": 3
   },
   "file_extension": ".py",
   "mimetype": "text/x-python",
   "name": "python",
   "nbconvert_exporter": "python",
   "pygments_lexer": "ipython3",
   "version": "3.9.7"
  }
 },
 "nbformat": 4,
 "nbformat_minor": 5
}
