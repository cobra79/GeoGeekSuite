{
 "cells": [
  {
   "cell_type": "markdown",
   "id": "f970882f-b373-4a7f-9cfb-823692ac7879",
   "metadata": {},
   "source": [
    "# Elasic\n",
    "The elastic database is used for logging, but might be useful for other purposes.\n",
    "This notbook shows how an elatic index can be created and data pushed to it over http."
   ]
  },
  {
   "cell_type": "code",
   "execution_count": 1,
   "id": "e700d974-4bc6-4185-8231-86564abceb0d",
   "metadata": {},
   "outputs": [],
   "source": [
    "import requests"
   ]
  },
  {
   "cell_type": "code",
   "execution_count": 2,
   "id": "c331337b-163f-47f3-b630-01450c699998",
   "metadata": {},
   "outputs": [
    {
     "data": {
      "text/plain": [
       "'{\\n  \"name\" : \"elastic-7b7b4d7694-gk9pv\",\\n  \"cluster_name\" : \"docker-cluster\",\\n  \"cluster_uuid\" : \"jcMDVVQeRoKXBsmjPF2P5w\",\\n  \"version\" : {\\n    \"number\" : \"7.16.0\",\\n    \"build_flavor\" : \"default\",\\n    \"build_type\" : \"docker\",\\n    \"build_hash\" : \"6fc81662312141fe7691d7c1c91b8658ac17aa0d\",\\n    \"build_date\" : \"2021-12-02T15:46:35.697268109Z\",\\n    \"build_snapshot\" : false,\\n    \"lucene_version\" : \"8.10.1\",\\n    \"minimum_wire_compatibility_version\" : \"6.8.0\",\\n    \"minimum_index_compatibility_version\" : \"6.0.0-beta1\"\\n  },\\n  \"tagline\" : \"You Know, for Search\"\\n}\\n'"
      ]
     },
     "execution_count": 2,
     "metadata": {},
     "output_type": "execute_result"
    }
   ],
   "source": [
    "# See if Elasitic is up and running\n",
    "r = requests.get('http://elastic:9200/')\n",
    "r.text"
   ]
  },
  {
   "cell_type": "code",
   "execution_count": 3,
   "id": "85c7f3d4-56ed-4ab3-9bea-0de9ec63dc77",
   "metadata": {},
   "outputs": [
    {
     "data": {
      "text/plain": [
       "'{\"error\":{\"root_cause\":[{\"type\":\"resource_already_exists_exception\",\"reason\":\"index [city_beer_index/CHP_5hFTRo6iMmrKETTqlQ] already exists\",\"index_uuid\":\"CHP_5hFTRo6iMmrKETTqlQ\",\"index\":\"city_beer_index\"}],\"type\":\"resource_already_exists_exception\",\"reason\":\"index [city_beer_index/CHP_5hFTRo6iMmrKETTqlQ] already exists\",\"index_uuid\":\"CHP_5hFTRo6iMmrKETTqlQ\",\"index\":\"city_beer_index\"},\"status\":400}'"
      ]
     },
     "execution_count": 3,
     "metadata": {},
     "output_type": "execute_result"
    }
   ],
   "source": [
    "# Create Index\n",
    "r = requests.put('http://elastic:9200/city_beer_index')\n",
    "r.text"
   ]
  },
  {
   "cell_type": "code",
   "execution_count": 8,
   "id": "8c38f94e-bcb8-402a-98c8-9104e127ccb6",
   "metadata": {},
   "outputs": [],
   "source": [
    "# Post document\n",
    "doc = {'city':'ratingen','beer':'alt'}\n",
    "r = requests.post('http://elastic:9200/city_beer_index/_doc', json=doc)"
   ]
  },
  {
   "cell_type": "code",
   "execution_count": 9,
   "id": "ab71f682-c76f-46bb-9616-64b91c224345",
   "metadata": {},
   "outputs": [
    {
     "data": {
      "text/plain": [
       "201"
      ]
     },
     "execution_count": 9,
     "metadata": {},
     "output_type": "execute_result"
    }
   ],
   "source": [
    "r.status_code"
   ]
  },
  {
   "cell_type": "code",
   "execution_count": 14,
   "id": "bc96a5b7-556d-481e-8f5b-94fb4634627c",
   "metadata": {},
   "outputs": [],
   "source": [
    "# Put document with an Id\n",
    "doc = {'city':'Atlanta','beer':'SweetWater'}\n",
    "r = requests.put('http://elastic:9200/city_beer_index/_doc/1', json=doc)"
   ]
  },
  {
   "cell_type": "code",
   "execution_count": 15,
   "id": "179371f2-8ceb-40d1-8dc3-935911c0b1d7",
   "metadata": {},
   "outputs": [
    {
     "data": {
      "text/plain": [
       "'{\"_index\":\"city_beer_index\",\"_type\":\"_doc\",\"_id\":\"1\",\"_version\":1,\"_seq_no\":1,\"_primary_term\":1,\"found\":true,\"_source\":{\"city\": \"Atlanta\", \"beer\": \"SweetWater\"}}'"
      ]
     },
     "execution_count": 15,
     "metadata": {},
     "output_type": "execute_result"
    }
   ],
   "source": [
    "# Get Back Doc\n",
    "r = requests.get('http://elastic:9200/city_beer_index/_doc/1')\n",
    "r.text"
   ]
  },
  {
   "cell_type": "code",
   "execution_count": null,
   "id": "9f26ab4e-7690-4500-8412-d4adb4000053",
   "metadata": {},
   "outputs": [],
   "source": []
  }
 ],
 "metadata": {
  "kernelspec": {
   "display_name": "Python 3 (ipykernel)",
   "language": "python",
   "name": "python3"
  },
  "language_info": {
   "codemirror_mode": {
    "name": "ipython",
    "version": 3
   },
   "file_extension": ".py",
   "mimetype": "text/x-python",
   "name": "python",
   "nbconvert_exporter": "python",
   "pygments_lexer": "ipython3",
   "version": "3.9.7"
  }
 },
 "nbformat": 4,
 "nbformat_minor": 5
}
