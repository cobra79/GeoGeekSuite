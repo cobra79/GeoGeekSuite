{
 "cells": [
  {
   "cell_type": "code",
   "execution_count": 3,
   "id": "e5a101dc-6e32-4a80-aa7d-5c3df42dd82f",
   "metadata": {},
   "outputs": [],
   "source": [
    "import geopandas as gpd\n",
    "import cobra.postgres.interface as pgi\n",
    "import cobra.utils.filehandling as fh\n",
    "import cobra.utils.jobhandling as jh\n",
    "import geopandas as gpd\n",
    "import cobra.utils.geodatahandling as gdh"
   ]
  },
  {
   "cell_type": "code",
   "execution_count": 4,
   "id": "5ecc0317-9ed5-4b5f-aaca-e7b0229a5945",
   "metadata": {},
   "outputs": [],
   "source": [
    "#download_file = 'https://download.geofabrik.de/europe/switzerland-latest.osm.pbf'\n",
    "#country = 'Swiss'\n",
    "#download_file = 'https://download.geofabrik.de/europe/great-britain-latest.osm.pbf'\n",
    "#country = 'gb'\n",
    "download_file = 'https://download.geofabrik.de/europe/portugal-latest.osm.pbf'\n",
    "country = 'portugal'\n",
    "#download_file = 'https://download.geofabrik.de/europe/france-latest.osm.pbf'\n",
    "#country = 'france'"
   ]
  },
  {
   "cell_type": "code",
   "execution_count": 5,
   "id": "72166f80-a472-4cbb-83c2-457dbcf4dd2f",
   "metadata": {},
   "outputs": [],
   "source": [
    "fileman = fh.Filemanager()\n",
    "jobman = jh.Jobmanager()"
   ]
  },
  {
   "cell_type": "code",
   "execution_count": null,
   "id": "d1d98ada-ecd3-44c3-a1ce-fbefcf3c847a",
   "metadata": {},
   "outputs": [],
   "source": [
    "#jobman.delete_jobs()"
   ]
  },
  {
   "cell_type": "code",
   "execution_count": 5,
   "id": "6c1b4e58-9865-45a7-a3f6-9a078b48eb43",
   "metadata": {},
   "outputs": [],
   "source": [
    "fileman.download_plain_file(download_file, country)"
   ]
  },
  {
   "cell_type": "code",
   "execution_count": 6,
   "id": "1140568a-beab-4321-b711-1e9405928573",
   "metadata": {},
   "outputs": [],
   "source": [
    "datasets = fileman.get_data(datatype='OSM PBF')\n",
    "dataset = datasets[datasets['Dataset'] == country].iloc[0]"
   ]
  },
  {
   "cell_type": "code",
   "execution_count": 7,
   "id": "2e6d1171-16f0-4ca8-962d-67ce546db000",
   "metadata": {},
   "outputs": [
    {
     "data": {
      "text/plain": [
       "Type                         OSM PBF\n",
       "Dataset                     portugal\n",
       "File         portugal-latest.osm.pbf\n",
       "Path              /download/portugal\n",
       "Size (MB)                     250.92\n",
       "Name: 45, dtype: object"
      ]
     },
     "execution_count": 7,
     "metadata": {},
     "output_type": "execute_result"
    }
   ],
   "source": [
    "dataset"
   ]
  },
  {
   "cell_type": "code",
   "execution_count": 8,
   "id": "6679fada-8791-4898-a9f8-3d50813a21b7",
   "metadata": {},
   "outputs": [
    {
     "name": "stdout",
     "output_type": "stream",
     "text": [
      "create_import_job_from_dataset\n",
      "OSM PBF\n"
     ]
    }
   ],
   "source": [
    "jobman.create_import_job_from_dataset(dataset, f'{country}power', style='power.style')"
   ]
  },
  {
   "cell_type": "code",
   "execution_count": 13,
   "id": "160a4cf8-872f-4fb1-a730-acc7ff16d679",
   "metadata": {},
   "outputs": [
    {
     "data": {
      "text/html": [
       "<div>\n",
       "<style scoped>\n",
       "    .dataframe tbody tr th:only-of-type {\n",
       "        vertical-align: middle;\n",
       "    }\n",
       "\n",
       "    .dataframe tbody tr th {\n",
       "        vertical-align: top;\n",
       "    }\n",
       "\n",
       "    .dataframe thead th {\n",
       "        text-align: right;\n",
       "    }\n",
       "</style>\n",
       "<table border=\"1\" class=\"dataframe\">\n",
       "  <thead>\n",
       "    <tr style=\"text-align: right;\">\n",
       "      <th></th>\n",
       "      <th>UUID</th>\n",
       "      <th>Name</th>\n",
       "      <th>Job Type</th>\n",
       "      <th>Date created</th>\n",
       "      <th>Date started</th>\n",
       "      <th>Date finished</th>\n",
       "      <th>Priority</th>\n",
       "      <th>Status</th>\n",
       "    </tr>\n",
       "  </thead>\n",
       "  <tbody>\n",
       "    <tr>\n",
       "      <th>0</th>\n",
       "      <td>a3b4e02f-973d-4454-a50d-cf8b32c0f367</td>\n",
       "      <td>Load OSM from portugal</td>\n",
       "      <td>osm2pg</td>\n",
       "      <td>Fri, 18 Feb 2022 15:18:46 GMT</td>\n",
       "      <td>None</td>\n",
       "      <td>None</td>\n",
       "      <td>42</td>\n",
       "      <td>Failed</td>\n",
       "    </tr>\n",
       "    <tr>\n",
       "      <th>1</th>\n",
       "      <td>76fb0bf2-062d-4038-aa56-47d9b8174d86</td>\n",
       "      <td>Load OSM from portugal</td>\n",
       "      <td>osm2pg</td>\n",
       "      <td>Fri, 18 Feb 2022 15:35:03 GMT</td>\n",
       "      <td>None</td>\n",
       "      <td>Fri, 18 Feb 2022 15:38:41 GMT</td>\n",
       "      <td>42</td>\n",
       "      <td>Finished</td>\n",
       "    </tr>\n",
       "    <tr>\n",
       "      <th>2</th>\n",
       "      <td>83addbf4-750e-4a4a-8001-afec90dd0a6c</td>\n",
       "      <td>Export PG</td>\n",
       "      <td>pg2x</td>\n",
       "      <td>Fri, 18 Feb 2022 15:42:28 GMT</td>\n",
       "      <td>None</td>\n",
       "      <td>None</td>\n",
       "      <td>42</td>\n",
       "      <td>Failed</td>\n",
       "    </tr>\n",
       "    <tr>\n",
       "      <th>3</th>\n",
       "      <td>bacc0e7a-44c7-442f-8bee-c1eb1564d4be</td>\n",
       "      <td>Export PG</td>\n",
       "      <td>pg2x</td>\n",
       "      <td>Fri, 18 Feb 2022 15:49:21 GMT</td>\n",
       "      <td>None</td>\n",
       "      <td>None</td>\n",
       "      <td>42</td>\n",
       "      <td>Failed</td>\n",
       "    </tr>\n",
       "    <tr>\n",
       "      <th>4</th>\n",
       "      <td>dd91a23c-9b5a-4b36-93eb-e7330e32d442</td>\n",
       "      <td>Export PG</td>\n",
       "      <td>pg2x</td>\n",
       "      <td>Fri, 18 Feb 2022 15:51:43 GMT</td>\n",
       "      <td>None</td>\n",
       "      <td>None</td>\n",
       "      <td>42</td>\n",
       "      <td>Failed</td>\n",
       "    </tr>\n",
       "    <tr>\n",
       "      <th>5</th>\n",
       "      <td>ce65544c-844a-44da-9952-76373958e9d6</td>\n",
       "      <td>Export PG</td>\n",
       "      <td>pg2x</td>\n",
       "      <td>Fri, 18 Feb 2022 16:30:50 GMT</td>\n",
       "      <td>None</td>\n",
       "      <td>Fri, 18 Feb 2022 16:31:00 GMT</td>\n",
       "      <td>42</td>\n",
       "      <td>Finished</td>\n",
       "    </tr>\n",
       "    <tr>\n",
       "      <th>6</th>\n",
       "      <td>0794e113-061f-416c-8020-ebb450b9124b</td>\n",
       "      <td>Export PG</td>\n",
       "      <td>pg2x</td>\n",
       "      <td>Fri, 18 Feb 2022 16:32:55 GMT</td>\n",
       "      <td>None</td>\n",
       "      <td>Fri, 18 Feb 2022 16:33:02 GMT</td>\n",
       "      <td>42</td>\n",
       "      <td>Finished</td>\n",
       "    </tr>\n",
       "    <tr>\n",
       "      <th>7</th>\n",
       "      <td>543a479a-9fac-4a2a-a2b6-b18c8180a57a</td>\n",
       "      <td>Load OSM from france</td>\n",
       "      <td>osm2pg</td>\n",
       "      <td>Fri, 18 Feb 2022 16:48:10 GMT</td>\n",
       "      <td>None</td>\n",
       "      <td>Fri, 18 Feb 2022 19:30:37 GMT</td>\n",
       "      <td>42</td>\n",
       "      <td>Finished</td>\n",
       "    </tr>\n",
       "    <tr>\n",
       "      <th>8</th>\n",
       "      <td>522d68b9-28bb-453f-a1b6-eadce430c5d0</td>\n",
       "      <td>Export PG</td>\n",
       "      <td>pg2x</td>\n",
       "      <td>Fri, 18 Feb 2022 19:33:06 GMT</td>\n",
       "      <td>None</td>\n",
       "      <td>Fri, 18 Feb 2022 19:33:16 GMT</td>\n",
       "      <td>42</td>\n",
       "      <td>Finished</td>\n",
       "    </tr>\n",
       "    <tr>\n",
       "      <th>9</th>\n",
       "      <td>f7bc9fd5-a690-4fd0-8aad-be28aea820d7</td>\n",
       "      <td>Load OSM from portugal</td>\n",
       "      <td>osm2pg</td>\n",
       "      <td>Fri, 18 Feb 2022 21:14:44 GMT</td>\n",
       "      <td>None</td>\n",
       "      <td>Fri, 18 Feb 2022 21:18:31 GMT</td>\n",
       "      <td>42</td>\n",
       "      <td>Finished</td>\n",
       "    </tr>\n",
       "  </tbody>\n",
       "</table>\n",
       "</div>"
      ],
      "text/plain": [
       "                                   UUID                    Name Job Type  \\\n",
       "0  a3b4e02f-973d-4454-a50d-cf8b32c0f367  Load OSM from portugal   osm2pg   \n",
       "1  76fb0bf2-062d-4038-aa56-47d9b8174d86  Load OSM from portugal   osm2pg   \n",
       "2  83addbf4-750e-4a4a-8001-afec90dd0a6c               Export PG     pg2x   \n",
       "3  bacc0e7a-44c7-442f-8bee-c1eb1564d4be               Export PG     pg2x   \n",
       "4  dd91a23c-9b5a-4b36-93eb-e7330e32d442               Export PG     pg2x   \n",
       "5  ce65544c-844a-44da-9952-76373958e9d6               Export PG     pg2x   \n",
       "6  0794e113-061f-416c-8020-ebb450b9124b               Export PG     pg2x   \n",
       "7  543a479a-9fac-4a2a-a2b6-b18c8180a57a    Load OSM from france   osm2pg   \n",
       "8  522d68b9-28bb-453f-a1b6-eadce430c5d0               Export PG     pg2x   \n",
       "9  f7bc9fd5-a690-4fd0-8aad-be28aea820d7  Load OSM from portugal   osm2pg   \n",
       "\n",
       "                    Date created Date started                  Date finished  \\\n",
       "0  Fri, 18 Feb 2022 15:18:46 GMT         None                           None   \n",
       "1  Fri, 18 Feb 2022 15:35:03 GMT         None  Fri, 18 Feb 2022 15:38:41 GMT   \n",
       "2  Fri, 18 Feb 2022 15:42:28 GMT         None                           None   \n",
       "3  Fri, 18 Feb 2022 15:49:21 GMT         None                           None   \n",
       "4  Fri, 18 Feb 2022 15:51:43 GMT         None                           None   \n",
       "5  Fri, 18 Feb 2022 16:30:50 GMT         None  Fri, 18 Feb 2022 16:31:00 GMT   \n",
       "6  Fri, 18 Feb 2022 16:32:55 GMT         None  Fri, 18 Feb 2022 16:33:02 GMT   \n",
       "7  Fri, 18 Feb 2022 16:48:10 GMT         None  Fri, 18 Feb 2022 19:30:37 GMT   \n",
       "8  Fri, 18 Feb 2022 19:33:06 GMT         None  Fri, 18 Feb 2022 19:33:16 GMT   \n",
       "9  Fri, 18 Feb 2022 21:14:44 GMT         None  Fri, 18 Feb 2022 21:18:31 GMT   \n",
       "\n",
       "   Priority    Status  \n",
       "0        42    Failed  \n",
       "1        42  Finished  \n",
       "2        42    Failed  \n",
       "3        42    Failed  \n",
       "4        42    Failed  \n",
       "5        42  Finished  \n",
       "6        42  Finished  \n",
       "7        42  Finished  \n",
       "8        42  Finished  \n",
       "9        42  Finished  "
      ]
     },
     "execution_count": 13,
     "metadata": {},
     "output_type": "execute_result"
    }
   ],
   "source": [
    "jobman.get_jobs(df=True)"
   ]
  },
  {
   "cell_type": "code",
   "execution_count": 14,
   "id": "22b40e2a-8cec-49ab-bf12-f8154ac3c8d5",
   "metadata": {},
   "outputs": [],
   "source": [
    "sql = f\"SELECT osm.way AS geom, osm.* FROM {country}power.planet_osm_line osm WHERE power IS NOT NULL\"\n",
    "pg_interface = pgi.PgInterface()\n",
    "conn = pg_interface.get_connection()\n",
    "powerlines = gpd.GeoDataFrame.from_postgis(sql, conn)"
   ]
  },
  {
   "cell_type": "code",
   "execution_count": 15,
   "id": "5b91e271-6639-46c1-8111-8fd642c82fa7",
   "metadata": {},
   "outputs": [
    {
     "data": {
      "text/plain": [
       "<AxesSubplot:>"
      ]
     },
     "execution_count": 15,
     "metadata": {},
     "output_type": "execute_result"
    },
    {
     "data": {
      "image/png": "[encoded data removed]",
      "text/plain": [
       "<Figure size 1152x1152 with 1 Axes>"
      ]
     },
     "metadata": {
      "needs_background": "light"
     },
     "output_type": "display_data"
    }
   ],
   "source": [
    "powerlines.plot(figsize=(16,16))"
   ]
  },
  {
   "cell_type": "code",
   "execution_count": 15,
   "id": "fd891c83-1fa7-4db2-b4a3-6c321019f5be",
   "metadata": {},
   "outputs": [],
   "source": [
    "sql = f\"SELECT osm.way AS geom, osm.* FROM {country}power.planet_osm_line osm WHERE power IS NOT NULL AND (power = 'line')\"\n",
    "jobman.create_new_pg_to_x(sql=sql, format='GPKG', filename=f'{country}_powerline.gpkg')"
   ]
  },
  {
   "cell_type": "code",
   "execution_count": 17,
   "id": "ad1c3182-bd6e-43dd-8c32-7763cc074951",
   "metadata": {},
   "outputs": [
    {
     "data": {
      "text/html": [
       "<div>\n",
       "<style scoped>\n",
       "    .dataframe tbody tr th:only-of-type {\n",
       "        vertical-align: middle;\n",
       "    }\n",
       "\n",
       "    .dataframe tbody tr th {\n",
       "        vertical-align: top;\n",
       "    }\n",
       "\n",
       "    .dataframe thead th {\n",
       "        text-align: right;\n",
       "    }\n",
       "</style>\n",
       "<table border=\"1\" class=\"dataframe\">\n",
       "  <thead>\n",
       "    <tr style=\"text-align: right;\">\n",
       "      <th></th>\n",
       "      <th>UUID</th>\n",
       "      <th>Name</th>\n",
       "      <th>Job Type</th>\n",
       "      <th>Date created</th>\n",
       "      <th>Date started</th>\n",
       "      <th>Date finished</th>\n",
       "      <th>Priority</th>\n",
       "      <th>Status</th>\n",
       "    </tr>\n",
       "  </thead>\n",
       "  <tbody>\n",
       "    <tr>\n",
       "      <th>0</th>\n",
       "      <td>a3b4e02f-973d-4454-a50d-cf8b32c0f367</td>\n",
       "      <td>Load OSM from portugal</td>\n",
       "      <td>osm2pg</td>\n",
       "      <td>Fri, 18 Feb 2022 15:18:46 GMT</td>\n",
       "      <td>None</td>\n",
       "      <td>None</td>\n",
       "      <td>42</td>\n",
       "      <td>Failed</td>\n",
       "    </tr>\n",
       "    <tr>\n",
       "      <th>1</th>\n",
       "      <td>76fb0bf2-062d-4038-aa56-47d9b8174d86</td>\n",
       "      <td>Load OSM from portugal</td>\n",
       "      <td>osm2pg</td>\n",
       "      <td>Fri, 18 Feb 2022 15:35:03 GMT</td>\n",
       "      <td>None</td>\n",
       "      <td>Fri, 18 Feb 2022 15:38:41 GMT</td>\n",
       "      <td>42</td>\n",
       "      <td>Finished</td>\n",
       "    </tr>\n",
       "    <tr>\n",
       "      <th>2</th>\n",
       "      <td>83addbf4-750e-4a4a-8001-afec90dd0a6c</td>\n",
       "      <td>Export PG</td>\n",
       "      <td>pg2x</td>\n",
       "      <td>Fri, 18 Feb 2022 15:42:28 GMT</td>\n",
       "      <td>None</td>\n",
       "      <td>None</td>\n",
       "      <td>42</td>\n",
       "      <td>Failed</td>\n",
       "    </tr>\n",
       "    <tr>\n",
       "      <th>3</th>\n",
       "      <td>bacc0e7a-44c7-442f-8bee-c1eb1564d4be</td>\n",
       "      <td>Export PG</td>\n",
       "      <td>pg2x</td>\n",
       "      <td>Fri, 18 Feb 2022 15:49:21 GMT</td>\n",
       "      <td>None</td>\n",
       "      <td>None</td>\n",
       "      <td>42</td>\n",
       "      <td>Failed</td>\n",
       "    </tr>\n",
       "    <tr>\n",
       "      <th>4</th>\n",
       "      <td>dd91a23c-9b5a-4b36-93eb-e7330e32d442</td>\n",
       "      <td>Export PG</td>\n",
       "      <td>pg2x</td>\n",
       "      <td>Fri, 18 Feb 2022 15:51:43 GMT</td>\n",
       "      <td>None</td>\n",
       "      <td>None</td>\n",
       "      <td>42</td>\n",
       "      <td>Failed</td>\n",
       "    </tr>\n",
       "    <tr>\n",
       "      <th>5</th>\n",
       "      <td>ce65544c-844a-44da-9952-76373958e9d6</td>\n",
       "      <td>Export PG</td>\n",
       "      <td>pg2x</td>\n",
       "      <td>Fri, 18 Feb 2022 16:30:50 GMT</td>\n",
       "      <td>None</td>\n",
       "      <td>Fri, 18 Feb 2022 16:31:00 GMT</td>\n",
       "      <td>42</td>\n",
       "      <td>Finished</td>\n",
       "    </tr>\n",
       "    <tr>\n",
       "      <th>6</th>\n",
       "      <td>0794e113-061f-416c-8020-ebb450b9124b</td>\n",
       "      <td>Export PG</td>\n",
       "      <td>pg2x</td>\n",
       "      <td>Fri, 18 Feb 2022 16:32:55 GMT</td>\n",
       "      <td>None</td>\n",
       "      <td>Fri, 18 Feb 2022 16:33:02 GMT</td>\n",
       "      <td>42</td>\n",
       "      <td>Finished</td>\n",
       "    </tr>\n",
       "    <tr>\n",
       "      <th>7</th>\n",
       "      <td>543a479a-9fac-4a2a-a2b6-b18c8180a57a</td>\n",
       "      <td>Load OSM from france</td>\n",
       "      <td>osm2pg</td>\n",
       "      <td>Fri, 18 Feb 2022 16:48:10 GMT</td>\n",
       "      <td>None</td>\n",
       "      <td>Fri, 18 Feb 2022 19:30:37 GMT</td>\n",
       "      <td>42</td>\n",
       "      <td>Finished</td>\n",
       "    </tr>\n",
       "    <tr>\n",
       "      <th>8</th>\n",
       "      <td>522d68b9-28bb-453f-a1b6-eadce430c5d0</td>\n",
       "      <td>Export PG</td>\n",
       "      <td>pg2x</td>\n",
       "      <td>Fri, 18 Feb 2022 19:33:06 GMT</td>\n",
       "      <td>None</td>\n",
       "      <td>Fri, 18 Feb 2022 19:33:16 GMT</td>\n",
       "      <td>42</td>\n",
       "      <td>Finished</td>\n",
       "    </tr>\n",
       "  </tbody>\n",
       "</table>\n",
       "</div>"
      ],
      "text/plain": [
       "                                   UUID                    Name Job Type  \\\n",
       "0  a3b4e02f-973d-4454-a50d-cf8b32c0f367  Load OSM from portugal   osm2pg   \n",
       "1  76fb0bf2-062d-4038-aa56-47d9b8174d86  Load OSM from portugal   osm2pg   \n",
       "2  83addbf4-750e-4a4a-8001-afec90dd0a6c               Export PG     pg2x   \n",
       "3  bacc0e7a-44c7-442f-8bee-c1eb1564d4be               Export PG     pg2x   \n",
       "4  dd91a23c-9b5a-4b36-93eb-e7330e32d442               Export PG     pg2x   \n",
       "5  ce65544c-844a-44da-9952-76373958e9d6               Export PG     pg2x   \n",
       "6  0794e113-061f-416c-8020-ebb450b9124b               Export PG     pg2x   \n",
       "7  543a479a-9fac-4a2a-a2b6-b18c8180a57a    Load OSM from france   osm2pg   \n",
       "8  522d68b9-28bb-453f-a1b6-eadce430c5d0               Export PG     pg2x   \n",
       "\n",
       "                    Date created Date started                  Date finished  \\\n",
       "0  Fri, 18 Feb 2022 15:18:46 GMT         None                           None   \n",
       "1  Fri, 18 Feb 2022 15:35:03 GMT         None  Fri, 18 Feb 2022 15:38:41 GMT   \n",
       "2  Fri, 18 Feb 2022 15:42:28 GMT         None                           None   \n",
       "3  Fri, 18 Feb 2022 15:49:21 GMT         None                           None   \n",
       "4  Fri, 18 Feb 2022 15:51:43 GMT         None                           None   \n",
       "5  Fri, 18 Feb 2022 16:30:50 GMT         None  Fri, 18 Feb 2022 16:31:00 GMT   \n",
       "6  Fri, 18 Feb 2022 16:32:55 GMT         None  Fri, 18 Feb 2022 16:33:02 GMT   \n",
       "7  Fri, 18 Feb 2022 16:48:10 GMT         None  Fri, 18 Feb 2022 19:30:37 GMT   \n",
       "8  Fri, 18 Feb 2022 19:33:06 GMT         None  Fri, 18 Feb 2022 19:33:16 GMT   \n",
       "\n",
       "   Priority    Status  \n",
       "0        42    Failed  \n",
       "1        42  Finished  \n",
       "2        42    Failed  \n",
       "3        42    Failed  \n",
       "4        42    Failed  \n",
       "5        42  Finished  \n",
       "6        42  Finished  \n",
       "7        42  Finished  \n",
       "8        42  Finished  "
      ]
     },
     "execution_count": 17,
     "metadata": {},
     "output_type": "execute_result"
    }
   ],
   "source": [
    "jobman.get_jobs(df=True)"
   ]
  },
  {
   "cell_type": "code",
   "execution_count": 18,
   "id": "b1ea1d47-183c-425e-88f0-da28a581baa6",
   "metadata": {},
   "outputs": [],
   "source": [
    "sql = f\"SELECT osm.way AS geom, osm.* FROM {country}power.planet_osm_point osm WHERE power IS NOT NULL\"\n",
    "pg_interface = pgi.PgInterface()\n",
    "conn = pg_interface.get_connection()\n",
    "powerpoints = gpd.GeoDataFrame.from_postgis(sql, conn)"
   ]
  },
  {
   "cell_type": "code",
   "execution_count": null,
   "id": "09357022-4c47-49d1-968e-27f88fcd119c",
   "metadata": {},
   "outputs": [],
   "source": []
  },
  {
   "cell_type": "code",
   "execution_count": 19,
   "id": "5e446538-d881-462a-9dbe-b24d0047ee41",
   "metadata": {},
   "outputs": [
    {
     "data": {
      "text/plain": [
       "<AxesSubplot:>"
      ]
     },
     "execution_count": 19,
     "metadata": {},
     "output_type": "execute_result"
    },
    {
     "data": {
      "image/png": "[encoded data removed]",
      "text/plain": [
       "<Figure size 1152x1152 with 1 Axes>"
      ]
     },
     "metadata": {
      "needs_background": "light"
     },
     "output_type": "display_data"
    }
   ],
   "source": [
    "powerpoints.plot(figsize=(16, 16))"
   ]
  },
  {
   "cell_type": "code",
   "execution_count": null,
   "id": "5018f1b7-9785-441e-8b3a-e9ddc030b8a4",
   "metadata": {},
   "outputs": [],
   "source": [
    "sql = f\"SELECT osm.way AS geom, osm.* FROM {country}power.planet_osm_point osm WHERE power IS NOT NULL\"\n",
    "jobman.create_new_pg_to_x(sql=sql, format='GPKG', filename=f'{country}_powerpoint.gpkg')"
   ]
  },
  {
   "cell_type": "code",
   "execution_count": null,
   "id": "fe7a197a-334d-401d-a783-dca69f89ab4f",
   "metadata": {},
   "outputs": [],
   "source": [
    "jobman.get_jobs(df=True)"
   ]
  },
  {
   "cell_type": "code",
   "execution_count": null,
   "id": "9e6ee2e5-b1ad-43d2-bb1e-618632e3e7da",
   "metadata": {},
   "outputs": [],
   "source": []
  }
 ],
 "metadata": {
  "kernelspec": {
   "display_name": "Python 3 (ipykernel)",
   "language": "python",
   "name": "python3"
  },
  "language_info": {
   "codemirror_mode": {
    "name": "ipython",
    "version": 3
   },
   "file_extension": ".py",
   "mimetype": "text/x-python",
   "name": "python",
   "nbconvert_exporter": "python",
   "pygments_lexer": "ipython3",
   "version": "3.9.7"
  }
 },
 "nbformat": 4,
 "nbformat_minor": 5
}
