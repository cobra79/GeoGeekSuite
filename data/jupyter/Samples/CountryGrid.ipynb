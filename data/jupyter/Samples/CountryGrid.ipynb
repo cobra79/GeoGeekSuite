{
 "cells": [
  {
   "cell_type": "code",
   "execution_count": 1,
   "id": "e5a101dc-6e32-4a80-aa7d-5c3df42dd82f",
   "metadata": {},
   "outputs": [],
   "source": [
    "import geopandas as gpd\n",
    "import cobra.postgres.interface as pgi\n",
    "import cobra.utils.filehandling as fh\n",
    "import cobra.utils.jobhandling as jh\n",
    "import geopandas as gpd\n",
    "import cobra.utils.geodatahandling as gdh"
   ]
  },
  {
   "cell_type": "code",
   "execution_count": 11,
   "id": "5ecc0317-9ed5-4b5f-aaca-e7b0229a5945",
   "metadata": {},
   "outputs": [],
   "source": [
    "download_file = 'https://download.geofabrik.de/europe/switzerland-latest.osm.pbf'\n",
    "country = 'swiss'\n",
    "#download_file = 'https://download.geofabrik.de/europe/great-britain-latest.osm.pbf'\n",
    "#country = 'gb'\n",
    "#download_file = 'https://download.geofabrik.de/europe/portugal-latest.osm.pbf'\n",
    "#country = 'portugal'\n",
    "#download_file = 'https://download.geofabrik.de/europe/france-latest.osm.pbf'\n",
    "#country = 'france'\n",
    "#download_file = 'https://download.geofabrik.de/europe/germany-latest.osm.pbf'\n",
    "#country = 'Germany'"
   ]
  },
  {
   "cell_type": "code",
   "execution_count": 3,
   "id": "72166f80-a472-4cbb-83c2-457dbcf4dd2f",
   "metadata": {},
   "outputs": [],
   "source": [
    "fileman = fh.Filemanager()\n",
    "jobman = jh.Jobmanager()"
   ]
  },
  {
   "cell_type": "code",
   "execution_count": null,
   "id": "d1d98ada-ecd3-44c3-a1ce-fbefcf3c847a",
   "metadata": {},
   "outputs": [],
   "source": [
    "#jobman.delete_jobs()"
   ]
  },
  {
   "cell_type": "code",
   "execution_count": 4,
   "id": "6c1b4e58-9865-45a7-a3f6-9a078b48eb43",
   "metadata": {},
   "outputs": [],
   "source": [
    "fileman.download_plain_file(download_file, country)"
   ]
  },
  {
   "cell_type": "code",
   "execution_count": 5,
   "id": "1140568a-beab-4321-b711-1e9405928573",
   "metadata": {},
   "outputs": [],
   "source": [
    "datasets = fileman.get_data(datatype='OSM PBF')\n",
    "dataset = datasets[datasets['Dataset'] == country].iloc[0]"
   ]
  },
  {
   "cell_type": "code",
   "execution_count": 6,
   "id": "2e6d1171-16f0-4ca8-962d-67ce546db000",
   "metadata": {},
   "outputs": [
    {
     "data": {
      "text/plain": [
       "Type                            OSM PBF\n",
       "Dataset                           Swiss\n",
       "File         switzerland-latest.osm.pbf\n",
       "Path                    /download/Swiss\n",
       "Size (MB)                         371.4\n",
       "Name: 20, dtype: object"
      ]
     },
     "execution_count": 6,
     "metadata": {},
     "output_type": "execute_result"
    }
   ],
   "source": [
    "dataset"
   ]
  },
  {
   "cell_type": "code",
   "execution_count": 12,
   "id": "6679fada-8791-4898-a9f8-3d50813a21b7",
   "metadata": {},
   "outputs": [
    {
     "name": "stdout",
     "output_type": "stream",
     "text": [
      "create_import_job_from_dataset\n",
      "OSM PBF\n"
     ]
    }
   ],
   "source": [
    "jobman.create_import_job_from_dataset(dataset, f'{country}power', style='power.style')"
   ]
  },
  {
   "cell_type": "code",
   "execution_count": 19,
   "id": "160a4cf8-872f-4fb1-a730-acc7ff16d679",
   "metadata": {},
   "outputs": [
    {
     "data": {
      "text/html": [
       "<div>\n",
       "<style scoped>\n",
       "    .dataframe tbody tr th:only-of-type {\n",
       "        vertical-align: middle;\n",
       "    }\n",
       "\n",
       "    .dataframe tbody tr th {\n",
       "        vertical-align: top;\n",
       "    }\n",
       "\n",
       "    .dataframe thead th {\n",
       "        text-align: right;\n",
       "    }\n",
       "</style>\n",
       "<table border=\"1\" class=\"dataframe\">\n",
       "  <thead>\n",
       "    <tr style=\"text-align: right;\">\n",
       "      <th></th>\n",
       "      <th>UUID</th>\n",
       "      <th>Name</th>\n",
       "      <th>Job Type</th>\n",
       "      <th>Date created</th>\n",
       "      <th>Date started</th>\n",
       "      <th>Date finished</th>\n",
       "      <th>Priority</th>\n",
       "      <th>Status</th>\n",
       "    </tr>\n",
       "  </thead>\n",
       "  <tbody>\n",
       "    <tr>\n",
       "      <th>0</th>\n",
       "      <td>846011c5-a9fa-438b-8bab-1cc49d0fc858</td>\n",
       "      <td>Load OSM from portugal</td>\n",
       "      <td>osm2pg</td>\n",
       "      <td>Tue, 01 Mar 2022 14:42:39 GMT</td>\n",
       "      <td>None</td>\n",
       "      <td>Tue, 01 Mar 2022 14:45:48 GMT</td>\n",
       "      <td>42</td>\n",
       "      <td>Finished</td>\n",
       "    </tr>\n",
       "    <tr>\n",
       "      <th>1</th>\n",
       "      <td>5fbc825d-507f-44b5-8f56-2cd7ef82750f</td>\n",
       "      <td>Load OSM from Swiss</td>\n",
       "      <td>osm2pg</td>\n",
       "      <td>Tue, 01 Mar 2022 18:22:45 GMT</td>\n",
       "      <td>None</td>\n",
       "      <td>None</td>\n",
       "      <td>42</td>\n",
       "      <td>Failed</td>\n",
       "    </tr>\n",
       "    <tr>\n",
       "      <th>2</th>\n",
       "      <td>6277df2c-7421-4420-851b-a1acadff3d7a</td>\n",
       "      <td>Load OSM from Swiss</td>\n",
       "      <td>osm2pg</td>\n",
       "      <td>Tue, 01 Mar 2022 18:25:10 GMT</td>\n",
       "      <td>None</td>\n",
       "      <td>Tue, 01 Mar 2022 18:29:57 GMT</td>\n",
       "      <td>42</td>\n",
       "      <td>Finished</td>\n",
       "    </tr>\n",
       "  </tbody>\n",
       "</table>\n",
       "</div>"
      ],
      "text/plain": [
       "                                   UUID                    Name Job Type  \\\n",
       "0  846011c5-a9fa-438b-8bab-1cc49d0fc858  Load OSM from portugal   osm2pg   \n",
       "1  5fbc825d-507f-44b5-8f56-2cd7ef82750f     Load OSM from Swiss   osm2pg   \n",
       "2  6277df2c-7421-4420-851b-a1acadff3d7a     Load OSM from Swiss   osm2pg   \n",
       "\n",
       "                    Date created Date started                  Date finished  \\\n",
       "0  Tue, 01 Mar 2022 14:42:39 GMT         None  Tue, 01 Mar 2022 14:45:48 GMT   \n",
       "1  Tue, 01 Mar 2022 18:22:45 GMT         None                           None   \n",
       "2  Tue, 01 Mar 2022 18:25:10 GMT         None  Tue, 01 Mar 2022 18:29:57 GMT   \n",
       "\n",
       "   Priority    Status  \n",
       "0        42  Finished  \n",
       "1        42    Failed  \n",
       "2        42  Finished  "
      ]
     },
     "execution_count": 19,
     "metadata": {},
     "output_type": "execute_result"
    }
   ],
   "source": [
    "jobman.get_jobs(df=True)"
   ]
  },
  {
   "cell_type": "code",
   "execution_count": null,
   "id": "22b40e2a-8cec-49ab-bf12-f8154ac3c8d5",
   "metadata": {},
   "outputs": [],
   "source": [
    "sql = f\"SELECT osm.way AS geom, osm.* FROM {country}power.planet_osm_line osm WHERE power IS NOT NULL\"\n",
    "pg_interface = pgi.PgInterface()\n",
    "conn = pg_interface.get_connection()\n",
    "powerlines = gpd.GeoDataFrame.from_postgis(sql, conn)"
   ]
  },
  {
   "cell_type": "code",
   "execution_count": null,
   "id": "852336fe-c1cc-42d7-bfbf-eb2022927e84",
   "metadata": {},
   "outputs": [],
   "source": []
  },
  {
   "cell_type": "code",
   "execution_count": null,
   "id": "5b91e271-6639-46c1-8111-8fd642c82fa7",
   "metadata": {},
   "outputs": [],
   "source": [
    "powerlines.plot(figsize=(16,16))"
   ]
  },
  {
   "cell_type": "code",
   "execution_count": null,
   "id": "fd891c83-1fa7-4db2-b4a3-6c321019f5be",
   "metadata": {},
   "outputs": [],
   "source": [
    "sql = f\"SELECT osm.way AS geom, osm.* FROM {country}power.planet_osm_line osm WHERE power IS NOT NULL AND (power = 'line')\"\n",
    "jobman.create_new_pg_to_x(sql=sql, format='GPKG', filename=f'{country}_powerline.gpkg')"
   ]
  },
  {
   "cell_type": "code",
   "execution_count": null,
   "id": "ad1c3182-bd6e-43dd-8c32-7763cc074951",
   "metadata": {},
   "outputs": [],
   "source": [
    "jobman.get_jobs(df=True)"
   ]
  },
  {
   "cell_type": "code",
   "execution_count": null,
   "id": "b1ea1d47-183c-425e-88f0-da28a581baa6",
   "metadata": {},
   "outputs": [],
   "source": [
    "sql = f\"SELECT osm.way AS geom, osm.* FROM {country}power.planet_osm_point osm WHERE power IS NOT NULL\"\n",
    "i = pgi.PgInterface()\n",
    "gdf_powerpoint = i.get_gdf(sql)"
   ]
  },
  {
   "cell_type": "code",
   "execution_count": null,
   "id": "5e446538-d881-462a-9dbe-b24d0047ee41",
   "metadata": {},
   "outputs": [],
   "source": [
    "gdf_powerpoint.plot(figsize=(16, 16))"
   ]
  },
  {
   "cell_type": "code",
   "execution_count": null,
   "id": "5018f1b7-9785-441e-8b3a-e9ddc030b8a4",
   "metadata": {},
   "outputs": [],
   "source": [
    "sql = f\"SELECT osm.way AS geom, osm.* FROM {country}power.planet_osm_point osm WHERE power IS NOT NULL\"\n",
    "jobman.create_new_pg_to_x(sql=sql, format='GPKG', filename=f'{country}_powerpoint.gpkg')"
   ]
  },
  {
   "cell_type": "code",
   "execution_count": null,
   "id": "fe7a197a-334d-401d-a783-dca69f89ab4f",
   "metadata": {},
   "outputs": [],
   "source": [
    "jobman.get_jobs(df=True)"
   ]
  },
  {
   "cell_type": "code",
   "execution_count": null,
   "id": "9e6ee2e5-b1ad-43d2-bb1e-618632e3e7da",
   "metadata": {},
   "outputs": [],
   "source": []
  }
 ],
 "metadata": {
  "kernelspec": {
   "display_name": "Python 3 (ipykernel)",
   "language": "python",
   "name": "python3"
  },
  "language_info": {
   "codemirror_mode": {
    "name": "ipython",
    "version": 3
   },
   "file_extension": ".py",
   "mimetype": "text/x-python",
   "name": "python",
   "nbconvert_exporter": "python",
   "pygments_lexer": "ipython3",
   "version": "3.9.7"
  }
 },
 "nbformat": 4,
 "nbformat_minor": 5
}
