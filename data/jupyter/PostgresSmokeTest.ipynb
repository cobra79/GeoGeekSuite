{
 "cells": [
  {
   "cell_type": "code",
   "execution_count": null,
   "id": "58545fb1-1280-478a-a7db-335c686010e2",
   "metadata": {},
   "outputs": [],
   "source": [
    "import psycopg2\n",
    "import os"
   ]
  },
  {
   "cell_type": "code",
   "execution_count": null,
   "id": "58d75e18-f941-4947-afc6-8f9dbf76c72f",
   "metadata": {},
   "outputs": [],
   "source": [
    "host = 'postgres'\n",
    "database = 'postgres'\n",
    "user = 'postgres'\n",
    "password = os.environ['POSTGRES_PASSWORD']\n",
    "connection_string = f'host={host} dbname={database} user={user} password={password}'"
   ]
  },
  {
   "cell_type": "code",
   "execution_count": null,
   "id": "07b8bfd3-cb05-409d-86c8-d067487bf4ad",
   "metadata": {},
   "outputs": [],
   "source": [
    "with psycopg2.connect(connection_string) as conn:\n",
    "    with conn.cursor() as curs:\n",
    "        curs.execute('SELECT version();')\n",
    "        result = curs.fetchone();\n",
    "        print(result)"
   ]
  },
  {
   "cell_type": "code",
   "execution_count": null,
   "id": "05522013-d163-4af1-bbb2-9b6a44060b7b",
   "metadata": {},
   "outputs": [],
   "source": []
  }
 ],
 "metadata": {
  "kernelspec": {
   "display_name": "Python 3 (ipykernel)",
   "language": "python",
   "name": "python3"
  },
  "language_info": {
   "codemirror_mode": {
    "name": "ipython",
    "version": 3
   },
   "file_extension": ".py",
   "mimetype": "text/x-python",
   "name": "python",
   "nbconvert_exporter": "python",
   "pygments_lexer": "ipython3",
   "version": "3.9.7"
  }
 },
 "nbformat": 4,
 "nbformat_minor": 5
}
