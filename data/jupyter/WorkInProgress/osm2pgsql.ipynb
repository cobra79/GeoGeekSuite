{
 "cells": [
  {
   "cell_type": "code",
   "execution_count": null,
   "id": "d9263b2b-9b4b-45cf-b53e-e285c3c0ff77",
   "metadata": {},
   "outputs": [],
   "source": [
    "! osm2pgsql"
   ]
  },
  {
   "cell_type": "code",
   "execution_count": null,
   "id": "f9aeb927-f2ac-4868-8beb-0a1f97de7278",
   "metadata": {},
   "outputs": [],
   "source": [
    "! wget https://download.geofabrik.de/europe/germany/nordrhein-westfalen-latest.osm.pbf"
   ]
  },
  {
   "cell_type": "code",
   "execution_count": null,
   "id": "fed7c5a5-e2a6-4515-a2af-103853c79181",
   "metadata": {},
   "outputs": [],
   "source": [
    "! wget https://download.geofabrik.de/europe/germany/nordrhein-westfalen/duesseldorf-regbez-latest.osm.pbf"
   ]
  },
  {
   "cell_type": "code",
   "execution_count": null,
   "id": "63096346-84ac-43c8-b927-54d2dd28990f",
   "metadata": {},
   "outputs": [],
   "source": [
    "! wget https://download.bbbike.org/osm/bbbike/Duesseldorf/Duesseldorf.osm.pbf"
   ]
  },
  {
   "cell_type": "code",
   "execution_count": null,
   "id": "0666a9fd-f3a9-4480-a668-6836cfea6a19",
   "metadata": {},
   "outputs": [],
   "source": [
    "! pwd"
   ]
  },
  {
   "cell_type": "code",
   "execution_count": 1,
   "id": "26d3d68f-7985-4ea4-9816-d23699526d15",
   "metadata": {},
   "outputs": [],
   "source": [
    "import cobra_osm2pgsql"
   ]
  },
  {
   "cell_type": "code",
   "execution_count": 2,
   "id": "2f9368c0-e268-4f73-8466-faafc3d34e18",
   "metadata": {},
   "outputs": [],
   "source": [
    "osm = cobra_osm2pgsql.cobra_osm2pgsql(style='/home/jovyan/WorkInProgress/default.style', run_in_loop=False)"
   ]
  },
  {
   "cell_type": "code",
   "execution_count": 3,
   "id": "56a21bcc-f3fb-4828-9d78-8c2281a84a5f",
   "metadata": {},
   "outputs": [
    {
     "name": "stderr",
     "output_type": "stream",
     "text": [
      "osm2pgsql version 1.3.0\n",
      "\n",
      "Allocating memory for dense node cache\n",
      "Allocating dense node cache in one big chunk\n",
      "Allocating memory for sparse node cache\n",
      "Sharing dense sparse\n",
      "Node-cache: cache=800MB, maxblocks=12800*65536, allocation method=3\n",
      "Using built-in tag processing pipeline\n",
      "Using projection SRS 3857 (Spherical Mercator)\n",
      "Setting up table: planet_osm_point\n",
      "Setting up table: planet_osm_line\n",
      "Setting up table: planet_osm_polygon\n",
      "Setting up table: planet_osm_roads\n",
      "\n",
      "Reading in file: ./Duesseldorf.osm.pbf\n",
      "Using PBF parser.\n",
      "Processing: Node(6297k 3148.5k/s) Way(1164k 97.00k/s) Relation(13285 13285.0/s)  parse time: 16s\n",
      "Node stats: total(6297112), max(9333036178) in 2s\n",
      "Way stats: total(1164839), max(1011552439) in 12s\n",
      "Relation stats: total(13285), max(13541398) in 1s\n",
      "node cache: stored: 6297112(100.00%), storage efficiency: 50.20% (dense blocks: 33, sparse nodes: 6136552), hit rate: 100.00%\n",
      "Sorting data and creating indexes for planet_osm_point\n",
      "Using native order for clustering\n",
      "Sorting data and creating indexes for planet_osm_polygon\n",
      "Sorting data and creating indexes for planet_osm_line\n",
      "Sorting data and creating indexes for planet_osm_roads\n",
      "Using native order for clustering\n",
      "Using native order for clustering\n",
      "Using native order for clustering\n",
      "Copying planet_osm_roads to cluster by geometry finished\n",
      "Creating geometry index on planet_osm_roads\n",
      "Creating indexes on planet_osm_roads finished\n",
      "All indexes on planet_osm_roads created in 1s\n",
      "Completed planet_osm_roads\n",
      "Copying planet_osm_point to cluster by geometry finished\n",
      "Creating geometry index on planet_osm_point\n",
      "Copying planet_osm_line to cluster by geometry finished\n",
      "Creating geometry index on planet_osm_line\n",
      "Creating indexes on planet_osm_point finished\n",
      "All indexes on planet_osm_point created in 4s\n",
      "Completed planet_osm_point\n",
      "Creating indexes on planet_osm_line finished\n",
      "All indexes on planet_osm_line created in 6s\n",
      "Completed planet_osm_line\n",
      "Copying planet_osm_polygon to cluster by geometry finished\n",
      "Creating geometry index on planet_osm_polygon\n",
      "Creating indexes on planet_osm_polygon finished\n",
      "All indexes on planet_osm_polygon created in 22s\n",
      "Completed planet_osm_polygon\n",
      "\n",
      "Osm2pgsql took 38s overall\n"
     ]
    }
   ],
   "source": [
    "osm.execute_osm2pgsql('./Duesseldorf.osm.pbf')"
   ]
  },
  {
   "cell_type": "code",
   "execution_count": null,
   "id": "df0f09ef-bb52-4555-a3d1-c2377d3f6396",
   "metadata": {},
   "outputs": [],
   "source": [
    "# host=postgres dbname=osm user=postgres password=fooBar\n",
    "# host=localhost port=5432 dbname=mydb connect_timeout=10"
   ]
  },
  {
   "cell_type": "code",
   "execution_count": null,
   "id": "fc973404-953c-4ef0-b814-57fe434db479",
   "metadata": {},
   "outputs": [],
   "source": [
    "! psql --version"
   ]
  },
  {
   "cell_type": "code",
   "execution_count": 2,
   "id": "6b35bb1c-8057-40c9-a373-613b19d87cea",
   "metadata": {},
   "outputs": [
    {
     "name": "stdout",
     "output_type": "stream",
     "text": [
      "default.style\n"
     ]
    }
   ],
   "source": [
    "! ls /styles"
   ]
  },
  {
   "cell_type": "code",
   "execution_count": 1,
   "id": "18f192d1-2354-4a83-8e3b-d89b49d7bb09",
   "metadata": {},
   "outputs": [],
   "source": [
    "import cobra_postgres"
   ]
  },
  {
   "cell_type": "code",
   "execution_count": 2,
   "id": "1730be92-96cd-411d-9a10-e05c2c161327",
   "metadata": {},
   "outputs": [],
   "source": [
    "pg = cobra_postgres.PgInterface()"
   ]
  },
  {
   "cell_type": "code",
   "execution_count": 4,
   "id": "2683d742-55f3-4d8e-86b7-fab49027ea3c",
   "metadata": {},
   "outputs": [],
   "source": [
    "conn = pg.get_connection()"
   ]
  },
  {
   "cell_type": "code",
   "execution_count": 5,
   "id": "5b7ef593-edaf-4df5-95e9-03b2117a553a",
   "metadata": {},
   "outputs": [],
   "source": [
    "curs = conn.cursor()"
   ]
  },
  {
   "cell_type": "code",
   "execution_count": 6,
   "id": "5dbc9ed0-c4dd-484d-a2fd-25507f0e4468",
   "metadata": {},
   "outputs": [
    {
     "name": "stdout",
     "output_type": "stream",
     "text": [
      "DataModelManager.ipynb\tduesseldorf-regbez-latest.osm.pbf\n",
      "default.style\t\tnordrhein-westfalen-latest.osm.pbf\n",
      "Duesseldorf.osm.pbf\tosm2pgsql.ipynb\n"
     ]
    }
   ],
   "source": [
    "! ls"
   ]
  },
  {
   "cell_type": "code",
   "execution_count": 79,
   "id": "198419da-1e65-4253-8e92-efcc34259011",
   "metadata": {},
   "outputs": [],
   "source": [
    "import os\n",
    "from urllib import request\n",
    "import zipfile\n",
    "import pandas as pd"
   ]
  },
  {
   "cell_type": "code",
   "execution_count": 83,
   "id": "471442d3-8e1f-46b3-8d1a-c28864a5d9bb",
   "metadata": {},
   "outputs": [],
   "source": [
    "class cobra_filemanager():\n",
    "    \n",
    "    def download_shape_archive(self, url_to_download, dataset_name):\n",
    "        \n",
    "        filename=url_to_download.split('/')[-1]\n",
    "        location_exist = os.path.exists(f'/download/{dataset_name}')\n",
    "\n",
    "        if not location_exist:\n",
    "            os.makedirs(f'/download/{dataset_name}')\n",
    "        request.urlretrieve(url_to_download, f'/download/{dataset_name}/{filename}')\n",
    "        \n",
    "        with zipfile.ZipFile(f'/download/{dataset_name}/{filename}', 'r') as zip_ref:\n",
    "            zip_ref.extractall(f'/download/{dataset_name}')\n",
    "            \n",
    "    def get_data(self):\n",
    "    \n",
    "        data_list = []\n",
    "        for name, folder in self.get_datasets():\n",
    "            files = self.get_files(name)\n",
    "            for a_file in files:\n",
    "                data_list.append([name, a_file, folder])\n",
    "                \n",
    "        return pd.DataFrame(data_list)\n",
    "        \n",
    "            \n",
    "    def get_datasets(self):\n",
    "        \n",
    "        dataset_list = []\n",
    "        subfolders = [ f.path for f in os.scandir('/download') if f.is_dir() ]\n",
    "        for a_subfolder in subfolders:\n",
    "            name = a_subfolder[10:]\n",
    "            dataset_list.append([name, a_subfolder])\n",
    "        return dataset_list\n",
    "    \n",
    "    def get_files(self, dataset):\n",
    "        \n",
    "        dataset_list = []\n",
    "        for a_file in os.listdir(f'/download/{dataset}'):\n",
    "            \n",
    "            extension = a_file.split('.')[-1]\n",
    "            if extension not in ['prj','shx','dbf','cpg']:\n",
    "                dataset_list.append(a_file)\n",
    "        return dataset_list"
   ]
  },
  {
   "cell_type": "code",
   "execution_count": 84,
   "id": "c34b7b7a-1139-4d83-9103-f2f99b377ac3",
   "metadata": {},
   "outputs": [],
   "source": [
    "fm = cobra_filemanager()"
   ]
  },
  {
   "cell_type": "code",
   "execution_count": 85,
   "id": "6f71ef83-a599-4509-a778-2c0e3d111d7a",
   "metadata": {},
   "outputs": [
    {
     "data": {
      "text/html": [
       "<div>\n",
       "<style scoped>\n",
       "    .dataframe tbody tr th:only-of-type {\n",
       "        vertical-align: middle;\n",
       "    }\n",
       "\n",
       "    .dataframe tbody tr th {\n",
       "        vertical-align: top;\n",
       "    }\n",
       "\n",
       "    .dataframe thead th {\n",
       "        text-align: right;\n",
       "    }\n",
       "</style>\n",
       "<table border=\"1\" class=\"dataframe\">\n",
       "  <thead>\n",
       "    <tr style=\"text-align: right;\">\n",
       "      <th></th>\n",
       "      <th>0</th>\n",
       "      <th>1</th>\n",
       "      <th>2</th>\n",
       "    </tr>\n",
       "  </thead>\n",
       "  <tbody>\n",
       "    <tr>\n",
       "      <th>0</th>\n",
       "      <td>Portugal</td>\n",
       "      <td>gis_osm_buildings_a_free_1.shp</td>\n",
       "      <td>/download/Portugal</td>\n",
       "    </tr>\n",
       "    <tr>\n",
       "      <th>1</th>\n",
       "      <td>Portugal</td>\n",
       "      <td>gis_osm_pois_free_1.shp</td>\n",
       "      <td>/download/Portugal</td>\n",
       "    </tr>\n",
       "    <tr>\n",
       "      <th>2</th>\n",
       "      <td>Portugal</td>\n",
       "      <td>gis_osm_natural_a_free_1.shp</td>\n",
       "      <td>/download/Portugal</td>\n",
       "    </tr>\n",
       "    <tr>\n",
       "      <th>3</th>\n",
       "      <td>Portugal</td>\n",
       "      <td>gis_osm_transport_free_1.shp</td>\n",
       "      <td>/download/Portugal</td>\n",
       "    </tr>\n",
       "    <tr>\n",
       "      <th>4</th>\n",
       "      <td>Portugal</td>\n",
       "      <td>gis_osm_traffic_a_free_1.shp</td>\n",
       "      <td>/download/Portugal</td>\n",
       "    </tr>\n",
       "    <tr>\n",
       "      <th>5</th>\n",
       "      <td>Portugal</td>\n",
       "      <td>gis_osm_water_a_free_1.shp</td>\n",
       "      <td>/download/Portugal</td>\n",
       "    </tr>\n",
       "    <tr>\n",
       "      <th>6</th>\n",
       "      <td>Portugal</td>\n",
       "      <td>gis_osm_pois_a_free_1.shp</td>\n",
       "      <td>/download/Portugal</td>\n",
       "    </tr>\n",
       "    <tr>\n",
       "      <th>7</th>\n",
       "      <td>Portugal</td>\n",
       "      <td>gis_osm_waterways_free_1.shp</td>\n",
       "      <td>/download/Portugal</td>\n",
       "    </tr>\n",
       "    <tr>\n",
       "      <th>8</th>\n",
       "      <td>Portugal</td>\n",
       "      <td>fiename</td>\n",
       "      <td>/download/Portugal</td>\n",
       "    </tr>\n",
       "    <tr>\n",
       "      <th>9</th>\n",
       "      <td>Portugal</td>\n",
       "      <td>gis_osm_roads_free_1.shp</td>\n",
       "      <td>/download/Portugal</td>\n",
       "    </tr>\n",
       "    <tr>\n",
       "      <th>10</th>\n",
       "      <td>Portugal</td>\n",
       "      <td>gis_osm_railways_free_1.shp</td>\n",
       "      <td>/download/Portugal</td>\n",
       "    </tr>\n",
       "    <tr>\n",
       "      <th>11</th>\n",
       "      <td>Portugal</td>\n",
       "      <td>gis_osm_places_a_free_1.shp</td>\n",
       "      <td>/download/Portugal</td>\n",
       "    </tr>\n",
       "    <tr>\n",
       "      <th>12</th>\n",
       "      <td>Portugal</td>\n",
       "      <td>portugal-latest-free.shp.zip</td>\n",
       "      <td>/download/Portugal</td>\n",
       "    </tr>\n",
       "    <tr>\n",
       "      <th>13</th>\n",
       "      <td>Portugal</td>\n",
       "      <td>gis_osm_natural_free_1.shp</td>\n",
       "      <td>/download/Portugal</td>\n",
       "    </tr>\n",
       "    <tr>\n",
       "      <th>14</th>\n",
       "      <td>Portugal</td>\n",
       "      <td>gis_osm_pofw_a_free_1.shp</td>\n",
       "      <td>/download/Portugal</td>\n",
       "    </tr>\n",
       "    <tr>\n",
       "      <th>15</th>\n",
       "      <td>Portugal</td>\n",
       "      <td>gis_osm_places_free_1.shp</td>\n",
       "      <td>/download/Portugal</td>\n",
       "    </tr>\n",
       "    <tr>\n",
       "      <th>16</th>\n",
       "      <td>Portugal</td>\n",
       "      <td>README</td>\n",
       "      <td>/download/Portugal</td>\n",
       "    </tr>\n",
       "    <tr>\n",
       "      <th>17</th>\n",
       "      <td>Portugal</td>\n",
       "      <td>gis_osm_traffic_free_1.shp</td>\n",
       "      <td>/download/Portugal</td>\n",
       "    </tr>\n",
       "    <tr>\n",
       "      <th>18</th>\n",
       "      <td>Portugal</td>\n",
       "      <td>gis_osm_transport_a_free_1.shp</td>\n",
       "      <td>/download/Portugal</td>\n",
       "    </tr>\n",
       "    <tr>\n",
       "      <th>19</th>\n",
       "      <td>Portugal</td>\n",
       "      <td>gis_osm_pofw_free_1.shp</td>\n",
       "      <td>/download/Portugal</td>\n",
       "    </tr>\n",
       "    <tr>\n",
       "      <th>20</th>\n",
       "      <td>Portugal</td>\n",
       "      <td>gis_osm_landuse_a_free_1.shp</td>\n",
       "      <td>/download/Portugal</td>\n",
       "    </tr>\n",
       "  </tbody>\n",
       "</table>\n",
       "</div>"
      ],
      "text/plain": [
       "           0                               1                   2\n",
       "0   Portugal  gis_osm_buildings_a_free_1.shp  /download/Portugal\n",
       "1   Portugal         gis_osm_pois_free_1.shp  /download/Portugal\n",
       "2   Portugal    gis_osm_natural_a_free_1.shp  /download/Portugal\n",
       "3   Portugal    gis_osm_transport_free_1.shp  /download/Portugal\n",
       "4   Portugal    gis_osm_traffic_a_free_1.shp  /download/Portugal\n",
       "5   Portugal      gis_osm_water_a_free_1.shp  /download/Portugal\n",
       "6   Portugal       gis_osm_pois_a_free_1.shp  /download/Portugal\n",
       "7   Portugal    gis_osm_waterways_free_1.shp  /download/Portugal\n",
       "8   Portugal                         fiename  /download/Portugal\n",
       "9   Portugal        gis_osm_roads_free_1.shp  /download/Portugal\n",
       "10  Portugal     gis_osm_railways_free_1.shp  /download/Portugal\n",
       "11  Portugal     gis_osm_places_a_free_1.shp  /download/Portugal\n",
       "12  Portugal    portugal-latest-free.shp.zip  /download/Portugal\n",
       "13  Portugal      gis_osm_natural_free_1.shp  /download/Portugal\n",
       "14  Portugal       gis_osm_pofw_a_free_1.shp  /download/Portugal\n",
       "15  Portugal       gis_osm_places_free_1.shp  /download/Portugal\n",
       "16  Portugal                          README  /download/Portugal\n",
       "17  Portugal      gis_osm_traffic_free_1.shp  /download/Portugal\n",
       "18  Portugal  gis_osm_transport_a_free_1.shp  /download/Portugal\n",
       "19  Portugal         gis_osm_pofw_free_1.shp  /download/Portugal\n",
       "20  Portugal    gis_osm_landuse_a_free_1.shp  /download/Portugal"
      ]
     },
     "execution_count": 85,
     "metadata": {},
     "output_type": "execute_result"
    }
   ],
   "source": [
    "fm.get_data()"
   ]
  },
  {
   "cell_type": "code",
   "execution_count": 53,
   "id": "db24137c-70d5-4c84-a0d6-40fd4e8b513c",
   "metadata": {},
   "outputs": [],
   "source": [
    "fm.download_shape_archive('https://download.geofabrik.de/europe/portugal-latest-free.shp.zip','Portugal')"
   ]
  },
  {
   "cell_type": "code",
   "execution_count": 54,
   "id": "73a7e4ce-b3f5-49de-9e0b-31c22df94dc2",
   "metadata": {},
   "outputs": [
    {
     "name": "stdout",
     "output_type": "stream",
     "text": [
      "fiename\t\t\t\tgis_osm_pois_free_1.dbf\n",
      "gis_osm_buildings_a_free_1.cpg\tgis_osm_pois_free_1.prj\n",
      "gis_osm_buildings_a_free_1.dbf\tgis_osm_pois_free_1.shp\n",
      "gis_osm_buildings_a_free_1.prj\tgis_osm_pois_free_1.shx\n",
      "gis_osm_buildings_a_free_1.shp\tgis_osm_railways_free_1.cpg\n",
      "gis_osm_buildings_a_free_1.shx\tgis_osm_railways_free_1.dbf\n",
      "gis_osm_landuse_a_free_1.cpg\tgis_osm_railways_free_1.prj\n",
      "gis_osm_landuse_a_free_1.dbf\tgis_osm_railways_free_1.shp\n",
      "gis_osm_landuse_a_free_1.prj\tgis_osm_railways_free_1.shx\n",
      "gis_osm_landuse_a_free_1.shp\tgis_osm_roads_free_1.cpg\n",
      "gis_osm_landuse_a_free_1.shx\tgis_osm_roads_free_1.dbf\n",
      "gis_osm_natural_a_free_1.cpg\tgis_osm_roads_free_1.prj\n",
      "gis_osm_natural_a_free_1.dbf\tgis_osm_roads_free_1.shp\n",
      "gis_osm_natural_a_free_1.prj\tgis_osm_roads_free_1.shx\n",
      "gis_osm_natural_a_free_1.shp\tgis_osm_traffic_a_free_1.cpg\n",
      "gis_osm_natural_a_free_1.shx\tgis_osm_traffic_a_free_1.dbf\n",
      "gis_osm_natural_free_1.cpg\tgis_osm_traffic_a_free_1.prj\n",
      "gis_osm_natural_free_1.dbf\tgis_osm_traffic_a_free_1.shp\n",
      "gis_osm_natural_free_1.prj\tgis_osm_traffic_a_free_1.shx\n",
      "gis_osm_natural_free_1.shp\tgis_osm_traffic_free_1.cpg\n",
      "gis_osm_natural_free_1.shx\tgis_osm_traffic_free_1.dbf\n",
      "gis_osm_places_a_free_1.cpg\tgis_osm_traffic_free_1.prj\n",
      "gis_osm_places_a_free_1.dbf\tgis_osm_traffic_free_1.shp\n",
      "gis_osm_places_a_free_1.prj\tgis_osm_traffic_free_1.shx\n",
      "gis_osm_places_a_free_1.shp\tgis_osm_transport_a_free_1.cpg\n",
      "gis_osm_places_a_free_1.shx\tgis_osm_transport_a_free_1.dbf\n",
      "gis_osm_places_free_1.cpg\tgis_osm_transport_a_free_1.prj\n",
      "gis_osm_places_free_1.dbf\tgis_osm_transport_a_free_1.shp\n",
      "gis_osm_places_free_1.prj\tgis_osm_transport_a_free_1.shx\n",
      "gis_osm_places_free_1.shp\tgis_osm_transport_free_1.cpg\n",
      "gis_osm_places_free_1.shx\tgis_osm_transport_free_1.dbf\n",
      "gis_osm_pofw_a_free_1.cpg\tgis_osm_transport_free_1.prj\n",
      "gis_osm_pofw_a_free_1.dbf\tgis_osm_transport_free_1.shp\n",
      "gis_osm_pofw_a_free_1.prj\tgis_osm_transport_free_1.shx\n",
      "gis_osm_pofw_a_free_1.shp\tgis_osm_water_a_free_1.cpg\n",
      "gis_osm_pofw_a_free_1.shx\tgis_osm_water_a_free_1.dbf\n",
      "gis_osm_pofw_free_1.cpg\t\tgis_osm_water_a_free_1.prj\n",
      "gis_osm_pofw_free_1.dbf\t\tgis_osm_water_a_free_1.shp\n",
      "gis_osm_pofw_free_1.prj\t\tgis_osm_water_a_free_1.shx\n",
      "gis_osm_pofw_free_1.shp\t\tgis_osm_waterways_free_1.cpg\n",
      "gis_osm_pofw_free_1.shx\t\tgis_osm_waterways_free_1.dbf\n",
      "gis_osm_pois_a_free_1.cpg\tgis_osm_waterways_free_1.prj\n",
      "gis_osm_pois_a_free_1.dbf\tgis_osm_waterways_free_1.shp\n",
      "gis_osm_pois_a_free_1.prj\tgis_osm_waterways_free_1.shx\n",
      "gis_osm_pois_a_free_1.shp\tportugal-latest-free.shp.zip\n",
      "gis_osm_pois_a_free_1.shx\tREADME\n",
      "gis_osm_pois_free_1.cpg\n"
     ]
    }
   ],
   "source": [
    "! ls /download/Portugal"
   ]
  },
  {
   "cell_type": "code",
   "execution_count": 66,
   "id": "29d19f3a-e7b3-4743-b616-c6acebf80509",
   "metadata": {},
   "outputs": [
    {
     "data": {
      "text/plain": [
       "'Portugal'"
      ]
     },
     "execution_count": 66,
     "metadata": {},
     "output_type": "execute_result"
    }
   ],
   "source": [
    "subfolders = [ f.path for f in os.scandir('/download') if f.is_dir() ]\n",
    "subfolders[0][10:]"
   ]
  },
  {
   "cell_type": "code",
   "execution_count": 60,
   "id": "4d0c5072-337a-43f1-90c3-876f465427de",
   "metadata": {},
   "outputs": [
    {
     "data": {
      "text/plain": [
       "['/download/Portugal']"
      ]
     },
     "execution_count": 60,
     "metadata": {},
     "output_type": "execute_result"
    }
   ],
   "source": [
    "subfolders"
   ]
  },
  {
   "cell_type": "code",
   "execution_count": null,
   "id": "ef26221e-2929-45f0-9448-1cf2381eab3d",
   "metadata": {},
   "outputs": [],
   "source": []
  }
 ],
 "metadata": {
  "kernelspec": {
   "display_name": "Python 3 (ipykernel)",
   "language": "python",
   "name": "python3"
  },
  "language_info": {
   "codemirror_mode": {
    "name": "ipython",
    "version": 3
   },
   "file_extension": ".py",
   "mimetype": "text/x-python",
   "name": "python",
   "nbconvert_exporter": "python",
   "pygments_lexer": "ipython3",
   "version": "3.9.7"
  }
 },
 "nbformat": 4,
 "nbformat_minor": 5
}
