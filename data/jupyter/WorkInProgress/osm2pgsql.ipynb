{
 "cells": [
  {
   "cell_type": "code",
   "execution_count": null,
   "id": "d9263b2b-9b4b-45cf-b53e-e285c3c0ff77",
   "metadata": {},
   "outputs": [],
   "source": [
    "! osm2pgsql"
   ]
  },
  {
   "cell_type": "code",
   "execution_count": null,
   "id": "f9aeb927-f2ac-4868-8beb-0a1f97de7278",
   "metadata": {},
   "outputs": [],
   "source": [
    "! wget https://download.geofabrik.de/europe/germany/nordrhein-westfalen-latest.osm.pbf"
   ]
  },
  {
   "cell_type": "code",
   "execution_count": null,
   "id": "fed7c5a5-e2a6-4515-a2af-103853c79181",
   "metadata": {},
   "outputs": [],
   "source": [
    "! wget https://download.geofabrik.de/europe/germany/nordrhein-westfalen/duesseldorf-regbez-latest.osm.pbf"
   ]
  },
  {
   "cell_type": "code",
   "execution_count": null,
   "id": "63096346-84ac-43c8-b927-54d2dd28990f",
   "metadata": {},
   "outputs": [],
   "source": [
    "! wget https://download.bbbike.org/osm/bbbike/Duesseldorf/Duesseldorf.osm.pbf"
   ]
  },
  {
   "cell_type": "code",
   "execution_count": null,
   "id": "0666a9fd-f3a9-4480-a668-6836cfea6a19",
   "metadata": {},
   "outputs": [],
   "source": [
    "! pwd"
   ]
  },
  {
   "cell_type": "code",
   "execution_count": 1,
   "id": "26d3d68f-7985-4ea4-9816-d23699526d15",
   "metadata": {},
   "outputs": [],
   "source": [
    "import cobra_osm2pgsql"
   ]
  },
  {
   "cell_type": "code",
   "execution_count": 2,
   "id": "2f9368c0-e268-4f73-8466-faafc3d34e18",
   "metadata": {},
   "outputs": [],
   "source": [
    "osm = cobra_osm2pgsql.cobra_osm2pgsql(style='/home/jovyan/WorkInProgress/default.style', run_in_loop=False)"
   ]
  },
  {
   "cell_type": "code",
   "execution_count": 3,
   "id": "56a21bcc-f3fb-4828-9d78-8c2281a84a5f",
   "metadata": {},
   "outputs": [
    {
     "name": "stderr",
     "output_type": "stream",
     "text": [
      "osm2pgsql version 1.3.0\n",
      "\n",
      "Allocating memory for dense node cache\n",
      "Allocating dense node cache in one big chunk\n",
      "Allocating memory for sparse node cache\n",
      "Sharing dense sparse\n",
      "Node-cache: cache=800MB, maxblocks=12800*65536, allocation method=3\n",
      "Using built-in tag processing pipeline\n",
      "Using projection SRS 3857 (Spherical Mercator)\n",
      "Setting up table: planet_osm_point\n",
      "Setting up table: planet_osm_line\n",
      "Setting up table: planet_osm_polygon\n",
      "Setting up table: planet_osm_roads\n",
      "\n",
      "Reading in file: ./Duesseldorf.osm.pbf\n",
      "Using PBF parser.\n",
      "Processing: Node(6297k 3148.5k/s) Way(1164k 97.00k/s) Relation(13285 13285.0/s)  parse time: 16s\n",
      "Node stats: total(6297112), max(9333036178) in 2s\n",
      "Way stats: total(1164839), max(1011552439) in 12s\n",
      "Relation stats: total(13285), max(13541398) in 1s\n",
      "node cache: stored: 6297112(100.00%), storage efficiency: 50.20% (dense blocks: 33, sparse nodes: 6136552), hit rate: 100.00%\n",
      "Sorting data and creating indexes for planet_osm_point\n",
      "Using native order for clustering\n",
      "Sorting data and creating indexes for planet_osm_polygon\n",
      "Sorting data and creating indexes for planet_osm_line\n",
      "Sorting data and creating indexes for planet_osm_roads\n",
      "Using native order for clustering\n",
      "Using native order for clustering\n",
      "Using native order for clustering\n",
      "Copying planet_osm_roads to cluster by geometry finished\n",
      "Creating geometry index on planet_osm_roads\n",
      "Creating indexes on planet_osm_roads finished\n",
      "All indexes on planet_osm_roads created in 1s\n",
      "Completed planet_osm_roads\n",
      "Copying planet_osm_point to cluster by geometry finished\n",
      "Creating geometry index on planet_osm_point\n",
      "Copying planet_osm_line to cluster by geometry finished\n",
      "Creating geometry index on planet_osm_line\n",
      "Creating indexes on planet_osm_point finished\n",
      "All indexes on planet_osm_point created in 4s\n",
      "Completed planet_osm_point\n",
      "Creating indexes on planet_osm_line finished\n",
      "All indexes on planet_osm_line created in 6s\n",
      "Completed planet_osm_line\n",
      "Copying planet_osm_polygon to cluster by geometry finished\n",
      "Creating geometry index on planet_osm_polygon\n",
      "Creating indexes on planet_osm_polygon finished\n",
      "All indexes on planet_osm_polygon created in 22s\n",
      "Completed planet_osm_polygon\n",
      "\n",
      "Osm2pgsql took 38s overall\n"
     ]
    }
   ],
   "source": [
    "osm.execute_osm2pgsql('./Duesseldorf.osm.pbf')"
   ]
  },
  {
   "cell_type": "code",
   "execution_count": null,
   "id": "df0f09ef-bb52-4555-a3d1-c2377d3f6396",
   "metadata": {},
   "outputs": [],
   "source": [
    "# host=postgres dbname=osm user=postgres password=fooBar\n",
    "# host=localhost port=5432 dbname=mydb connect_timeout=10"
   ]
  },
  {
   "cell_type": "code",
   "execution_count": null,
   "id": "fc973404-953c-4ef0-b814-57fe434db479",
   "metadata": {},
   "outputs": [],
   "source": [
    "! psql --version"
   ]
  },
  {
   "cell_type": "code",
   "execution_count": 2,
   "id": "6b35bb1c-8057-40c9-a373-613b19d87cea",
   "metadata": {},
   "outputs": [
    {
     "name": "stdout",
     "output_type": "stream",
     "text": [
      "default.style\n"
     ]
    }
   ],
   "source": [
    "! ls /styles"
   ]
  },
  {
   "cell_type": "code",
   "execution_count": null,
   "id": "18f192d1-2354-4a83-8e3b-d89b49d7bb09",
   "metadata": {},
   "outputs": [],
   "source": []
  }
 ],
 "metadata": {
  "kernelspec": {
   "display_name": "Python 3 (ipykernel)",
   "language": "python",
   "name": "python3"
  },
  "language_info": {
   "codemirror_mode": {
    "name": "ipython",
    "version": 3
   },
   "file_extension": ".py",
   "mimetype": "text/x-python",
   "name": "python",
   "nbconvert_exporter": "python",
   "pygments_lexer": "ipython3",
   "version": "3.9.7"
  }
 },
 "nbformat": 4,
 "nbformat_minor": 5
}
