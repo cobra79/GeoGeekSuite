{
 "cells": [
  {
   "cell_type": "code",
   "execution_count": null,
   "id": "d9263b2b-9b4b-45cf-b53e-e285c3c0ff77",
   "metadata": {},
   "outputs": [],
   "source": [
    "! osm2pgsql"
   ]
  },
  {
   "cell_type": "code",
   "execution_count": null,
   "id": "f9aeb927-f2ac-4868-8beb-0a1f97de7278",
   "metadata": {},
   "outputs": [],
   "source": [
    "! wget https://download.geofabrik.de/europe/germany/nordrhein-westfalen-latest.osm.pbf"
   ]
  },
  {
   "cell_type": "code",
   "execution_count": null,
   "id": "fed7c5a5-e2a6-4515-a2af-103853c79181",
   "metadata": {},
   "outputs": [],
   "source": [
    "! wget https://download.geofabrik.de/europe/germany/nordrhein-westfalen/duesseldorf-regbez-latest.osm.pbf"
   ]
  },
  {
   "cell_type": "code",
   "execution_count": null,
   "id": "63096346-84ac-43c8-b927-54d2dd28990f",
   "metadata": {},
   "outputs": [],
   "source": [
    "! wget https://download.bbbike.org/osm/bbbike/Duesseldorf/Duesseldorf.osm.pbf"
   ]
  },
  {
   "cell_type": "code",
   "execution_count": null,
   "id": "0666a9fd-f3a9-4480-a668-6836cfea6a19",
   "metadata": {},
   "outputs": [],
   "source": [
    "! pwd"
   ]
  },
  {
   "cell_type": "code",
   "execution_count": 1,
   "id": "26d3d68f-7985-4ea4-9816-d23699526d15",
   "metadata": {},
   "outputs": [],
   "source": [
    "import cobra_osm2pgsql"
   ]
  },
  {
   "cell_type": "code",
   "execution_count": 2,
   "id": "2f9368c0-e268-4f73-8466-faafc3d34e18",
   "metadata": {},
   "outputs": [],
   "source": [
    "osm = cobra_osm2pgsql.cobra_osm2pgsql(style='/home/jovyan/WorkInProgress/default.style', run_in_loop=False)"
   ]
  },
  {
   "cell_type": "code",
   "execution_count": 3,
   "id": "56a21bcc-f3fb-4828-9d78-8c2281a84a5f",
   "metadata": {},
   "outputs": [
    {
     "name": "stderr",
     "output_type": "stream",
     "text": [
      "osm2pgsql version 1.3.0\n",
      "\n",
      "Allocating memory for dense node cache\n",
      "Allocating dense node cache in one big chunk\n",
      "Allocating memory for sparse node cache\n",
      "Sharing dense sparse\n",
      "Node-cache: cache=800MB, maxblocks=12800*65536, allocation method=3\n",
      "Using built-in tag processing pipeline\n",
      "Using projection SRS 3857 (Spherical Mercator)\n",
      "Connection to database failed: could not connect to server: No such file or directory\n",
      "\tIs the server running locally and accepting\n",
      "\tconnections on Unix domain socket \"/var/run/postgresql/.s.PGSQL.5432\"?\n",
      "\n",
      "Connection to database failed: could not connect to server: No such file or directory\n",
      "\tIs the server running locally and accepting\n",
      "\tconnections on Unix domain socket \"/var/run/postgresql/.s.PGSQL.5432\"?\n",
      "\n",
      "DB copy thread failed: Connecting to database.\n"
     ]
    }
   ],
   "source": [
    "osm.execute_osm2pgsql('./Duesseldorf.osm.pbf')"
   ]
  },
  {
   "cell_type": "code",
   "execution_count": null,
   "id": "df0f09ef-bb52-4555-a3d1-c2377d3f6396",
   "metadata": {},
   "outputs": [],
   "source": [
    "# host=postgres dbname=osm user=postgres password=fooBar\n",
    "# host=localhost port=5432 dbname=mydb connect_timeout=10"
   ]
  }
 ],
 "metadata": {
  "kernelspec": {
   "display_name": "Python 3 (ipykernel)",
   "language": "python",
   "name": "python3"
  },
  "language_info": {
   "codemirror_mode": {
    "name": "ipython",
    "version": 3
   },
   "file_extension": ".py",
   "mimetype": "text/x-python",
   "name": "python",
   "nbconvert_exporter": "python",
   "pygments_lexer": "ipython3",
   "version": "3.9.7"
  }
 },
 "nbformat": 4,
 "nbformat_minor": 5
}
