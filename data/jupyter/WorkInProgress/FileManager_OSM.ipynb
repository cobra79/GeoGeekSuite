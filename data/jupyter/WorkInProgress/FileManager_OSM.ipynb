{
 "cells": [
  {
   "cell_type": "code",
   "execution_count": 1,
   "id": "1321e022-4408-417b-ab70-9b88a1e9f30c",
   "metadata": {},
   "outputs": [],
   "source": [
    "import cobra.utils.filehandling as fh\n",
    "import cobra.utils.jobhandling as jh"
   ]
  },
  {
   "cell_type": "code",
   "execution_count": 2,
   "id": "17a69bda-137a-4325-b61e-abad09180625",
   "metadata": {},
   "outputs": [],
   "source": [
    "fileman = fh.Filemanager()\n",
    "jobman = jh.Jobmanager()"
   ]
  },
  {
   "cell_type": "code",
   "execution_count": 3,
   "id": "14abe5f2-9638-430e-970e-dc8b854f7cd5",
   "metadata": {},
   "outputs": [],
   "source": [
    "#fileman.download_plain_file('https://download.geofabrik.de/europe/faroe-islands-latest.osm.pbf','Faroe')"
   ]
  },
  {
   "cell_type": "code",
   "execution_count": 3,
   "id": "16a6dc51-798a-429d-b44c-5acfd62b6c43",
   "metadata": {},
   "outputs": [
    {
     "data": {
      "text/html": [
       "<div>\n",
       "<style scoped>\n",
       "    .dataframe tbody tr th:only-of-type {\n",
       "        vertical-align: middle;\n",
       "    }\n",
       "\n",
       "    .dataframe tbody tr th {\n",
       "        vertical-align: top;\n",
       "    }\n",
       "\n",
       "    .dataframe thead th {\n",
       "        text-align: right;\n",
       "    }\n",
       "</style>\n",
       "<table border=\"1\" class=\"dataframe\">\n",
       "  <thead>\n",
       "    <tr style=\"text-align: right;\">\n",
       "      <th></th>\n",
       "      <th>Type</th>\n",
       "      <th>Dataset</th>\n",
       "      <th>File</th>\n",
       "      <th>Path</th>\n",
       "      <th>Size (MB)</th>\n",
       "    </tr>\n",
       "  </thead>\n",
       "  <tbody>\n",
       "    <tr>\n",
       "      <th>0</th>\n",
       "      <td>Shape</td>\n",
       "      <td>Duesseldorf</td>\n",
       "      <td>gis_osm_buildings_a_free_1.shp</td>\n",
       "      <td>/download/Duesseldorf</td>\n",
       "      <td>357.60</td>\n",
       "    </tr>\n",
       "    <tr>\n",
       "      <th>1</th>\n",
       "      <td>Shape</td>\n",
       "      <td>Duesseldorf</td>\n",
       "      <td>gis_osm_pois_free_1.shp</td>\n",
       "      <td>/download/Duesseldorf</td>\n",
       "      <td>10.24</td>\n",
       "    </tr>\n",
       "    <tr>\n",
       "      <th>2</th>\n",
       "      <td>Shape</td>\n",
       "      <td>Duesseldorf</td>\n",
       "      <td>gis_osm_natural_a_free_1.shp</td>\n",
       "      <td>/download/Duesseldorf</td>\n",
       "      <td>0.03</td>\n",
       "    </tr>\n",
       "    <tr>\n",
       "      <th>3</th>\n",
       "      <td>Shape</td>\n",
       "      <td>Duesseldorf</td>\n",
       "      <td>gis_osm_transport_free_1.shp</td>\n",
       "      <td>/download/Duesseldorf</td>\n",
       "      <td>2.06</td>\n",
       "    </tr>\n",
       "    <tr>\n",
       "      <th>4</th>\n",
       "      <td>Shape</td>\n",
       "      <td>Duesseldorf</td>\n",
       "      <td>gis_osm_traffic_a_free_1.shp</td>\n",
       "      <td>/download/Duesseldorf</td>\n",
       "      <td>5.22</td>\n",
       "    </tr>\n",
       "  </tbody>\n",
       "</table>\n",
       "</div>"
      ],
      "text/plain": [
       "    Type      Dataset                            File                   Path  \\\n",
       "0  Shape  Duesseldorf  gis_osm_buildings_a_free_1.shp  /download/Duesseldorf   \n",
       "1  Shape  Duesseldorf         gis_osm_pois_free_1.shp  /download/Duesseldorf   \n",
       "2  Shape  Duesseldorf    gis_osm_natural_a_free_1.shp  /download/Duesseldorf   \n",
       "3  Shape  Duesseldorf    gis_osm_transport_free_1.shp  /download/Duesseldorf   \n",
       "4  Shape  Duesseldorf    gis_osm_traffic_a_free_1.shp  /download/Duesseldorf   \n",
       "\n",
       "   Size (MB)  \n",
       "0     357.60  \n",
       "1      10.24  \n",
       "2       0.03  \n",
       "3       2.06  \n",
       "4       5.22  "
      ]
     },
     "execution_count": 3,
     "metadata": {},
     "output_type": "execute_result"
    }
   ],
   "source": [
    "fileman.get_data().head()"
   ]
  },
  {
   "cell_type": "code",
   "execution_count": 4,
   "id": "69f59c43-bd45-4ffc-b9dc-e20f9593af1c",
   "metadata": {},
   "outputs": [],
   "source": [
    "datasets = fileman.get_data()"
   ]
  },
  {
   "cell_type": "code",
   "execution_count": 5,
   "id": "3f0d0caa-7732-41e8-9df4-94ed50083030",
   "metadata": {},
   "outputs": [],
   "source": [
    "osm_datasets = datasets[datasets['Type'] == 'OSM PBF']"
   ]
  },
  {
   "cell_type": "code",
   "execution_count": 6,
   "id": "2d5d2887-f302-495f-8a13-925aaf09e2f8",
   "metadata": {},
   "outputs": [],
   "source": [
    "test_dataset = osm_datasets.iloc[0]"
   ]
  },
  {
   "cell_type": "code",
   "execution_count": 7,
   "id": "86ac07e7-38df-481d-a7fd-a71f8dab50e0",
   "metadata": {},
   "outputs": [],
   "source": [
    "jobman.create_job_from_dataset(test_dataset)"
   ]
  },
  {
   "cell_type": "code",
   "execution_count": 3,
   "id": "cad88391-556d-404f-8bea-2c3844d23170",
   "metadata": {},
   "outputs": [
    {
     "data": {
      "text/html": [
       "<div>\n",
       "<style scoped>\n",
       "    .dataframe tbody tr th:only-of-type {\n",
       "        vertical-align: middle;\n",
       "    }\n",
       "\n",
       "    .dataframe tbody tr th {\n",
       "        vertical-align: top;\n",
       "    }\n",
       "\n",
       "    .dataframe thead th {\n",
       "        text-align: right;\n",
       "    }\n",
       "</style>\n",
       "<table border=\"1\" class=\"dataframe\">\n",
       "  <thead>\n",
       "    <tr style=\"text-align: right;\">\n",
       "      <th></th>\n",
       "      <th>UUID</th>\n",
       "      <th>Name</th>\n",
       "      <th>Job Type</th>\n",
       "      <th>Date created</th>\n",
       "      <th>Date started</th>\n",
       "      <th>Date finished</th>\n",
       "      <th>Priority</th>\n",
       "      <th>Status</th>\n",
       "    </tr>\n",
       "  </thead>\n",
       "  <tbody>\n",
       "    <tr>\n",
       "      <th>0</th>\n",
       "      <td>a5e43d11-65d0-486a-8b0b-eea86a46b621</td>\n",
       "      <td>Load shape from Duesseldorf</td>\n",
       "      <td>shape2pg</td>\n",
       "      <td>Mon, 27 Dec 2021 16:46:49 GMT</td>\n",
       "      <td>Mon, 27 Dec 2021 17:37:21 GMT</td>\n",
       "      <td>None</td>\n",
       "      <td>42</td>\n",
       "      <td>Failed</td>\n",
       "    </tr>\n",
       "    <tr>\n",
       "      <th>1</th>\n",
       "      <td>604f162f-78d8-48a0-ae82-ef0cbadb2514</td>\n",
       "      <td>Load shape from Duesseldorf</td>\n",
       "      <td>shape2pg</td>\n",
       "      <td>Mon, 27 Dec 2021 18:03:15 GMT</td>\n",
       "      <td>Mon, 27 Dec 2021 18:25:51 GMT</td>\n",
       "      <td>Mon, 27 Dec 2021 18:25:51 GMT</td>\n",
       "      <td>42</td>\n",
       "      <td>Finished</td>\n",
       "    </tr>\n",
       "    <tr>\n",
       "      <th>2</th>\n",
       "      <td>cfd652ec-beb4-4a70-aec5-395f0c500acb</td>\n",
       "      <td>Load shape from Duesseldorf</td>\n",
       "      <td>shape2pg</td>\n",
       "      <td>Mon, 27 Dec 2021 18:40:48 GMT</td>\n",
       "      <td>Mon, 27 Dec 2021 18:42:14 GMT</td>\n",
       "      <td>Mon, 27 Dec 2021 18:42:14 GMT</td>\n",
       "      <td>42</td>\n",
       "      <td>Finished</td>\n",
       "    </tr>\n",
       "    <tr>\n",
       "      <th>3</th>\n",
       "      <td>1cedfbde-727c-4c37-a6d8-0ee30c8d2646</td>\n",
       "      <td>Load shape from Faroe</td>\n",
       "      <td>osm2pg</td>\n",
       "      <td>Mon, 27 Dec 2021 20:29:38 GMT</td>\n",
       "      <td>None</td>\n",
       "      <td>None</td>\n",
       "      <td>42</td>\n",
       "      <td>Waiting</td>\n",
       "    </tr>\n",
       "  </tbody>\n",
       "</table>\n",
       "</div>"
      ],
      "text/plain": [
       "                                   UUID                         Name  \\\n",
       "0  a5e43d11-65d0-486a-8b0b-eea86a46b621  Load shape from Duesseldorf   \n",
       "1  604f162f-78d8-48a0-ae82-ef0cbadb2514  Load shape from Duesseldorf   \n",
       "2  cfd652ec-beb4-4a70-aec5-395f0c500acb  Load shape from Duesseldorf   \n",
       "3  1cedfbde-727c-4c37-a6d8-0ee30c8d2646        Load shape from Faroe   \n",
       "\n",
       "   Job Type                   Date created                   Date started  \\\n",
       "0  shape2pg  Mon, 27 Dec 2021 16:46:49 GMT  Mon, 27 Dec 2021 17:37:21 GMT   \n",
       "1  shape2pg  Mon, 27 Dec 2021 18:03:15 GMT  Mon, 27 Dec 2021 18:25:51 GMT   \n",
       "2  shape2pg  Mon, 27 Dec 2021 18:40:48 GMT  Mon, 27 Dec 2021 18:42:14 GMT   \n",
       "3    osm2pg  Mon, 27 Dec 2021 20:29:38 GMT                           None   \n",
       "\n",
       "                   Date finished  Priority    Status  \n",
       "0                           None        42    Failed  \n",
       "1  Mon, 27 Dec 2021 18:25:51 GMT        42  Finished  \n",
       "2  Mon, 27 Dec 2021 18:42:14 GMT        42  Finished  \n",
       "3                           None        42   Waiting  "
      ]
     },
     "execution_count": 3,
     "metadata": {},
     "output_type": "execute_result"
    }
   ],
   "source": [
    "jobman.get_jobs(df=True)"
   ]
  },
  {
   "cell_type": "code",
   "execution_count": null,
   "id": "19db1b78-f91f-4a42-a608-96730db0a32c",
   "metadata": {},
   "outputs": [],
   "source": []
  }
 ],
 "metadata": {
  "kernelspec": {
   "display_name": "Python 3 (ipykernel)",
   "language": "python",
   "name": "python3"
  },
  "language_info": {
   "codemirror_mode": {
    "name": "ipython",
    "version": 3
   },
   "file_extension": ".py",
   "mimetype": "text/x-python",
   "name": "python",
   "nbconvert_exporter": "python",
   "pygments_lexer": "ipython3",
   "version": "3.9.7"
  }
 },
 "nbformat": 4,
 "nbformat_minor": 5
}
