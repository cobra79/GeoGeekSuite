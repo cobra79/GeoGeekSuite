{
 "cells": [
  {
   "cell_type": "code",
   "execution_count": 1,
   "id": "1321e022-4408-417b-ab70-9b88a1e9f30c",
   "metadata": {},
   "outputs": [],
   "source": [
    "import geopandas as gpd\n",
    "import cobra.postgres.interface as pgi\n",
    "import cobra.utils.filehandling as fh\n",
    "import cobra.utils.jobhandling as jh"
   ]
  },
  {
   "cell_type": "code",
   "execution_count": 2,
   "id": "17a69bda-137a-4325-b61e-abad09180625",
   "metadata": {},
   "outputs": [],
   "source": [
    "fileman = fh.Filemanager()\n",
    "jobman = jh.Jobmanager()"
   ]
  },
  {
   "cell_type": "code",
   "execution_count": null,
   "id": "14abe5f2-9638-430e-970e-dc8b854f7cd5",
   "metadata": {},
   "outputs": [],
   "source": [
    "#fileman.download_plain_file('https://download.geofabrik.de/europe/faroe-islands-latest.osm.pbf','Faroe')"
   ]
  },
  {
   "cell_type": "code",
   "execution_count": 3,
   "id": "69f59c43-bd45-4ffc-b9dc-e20f9593af1c",
   "metadata": {},
   "outputs": [],
   "source": [
    "datasets = fileman.get_data(datatype='OSM PBF')"
   ]
  },
  {
   "cell_type": "code",
   "execution_count": 4,
   "id": "a4c26410-0512-4b5f-883a-ae5e0d412223",
   "metadata": {},
   "outputs": [
    {
     "data": {
      "text/html": [
       "<div>\n",
       "<style scoped>\n",
       "    .dataframe tbody tr th:only-of-type {\n",
       "        vertical-align: middle;\n",
       "    }\n",
       "\n",
       "    .dataframe tbody tr th {\n",
       "        vertical-align: top;\n",
       "    }\n",
       "\n",
       "    .dataframe thead th {\n",
       "        text-align: right;\n",
       "    }\n",
       "</style>\n",
       "<table border=\"1\" class=\"dataframe\">\n",
       "  <thead>\n",
       "    <tr style=\"text-align: right;\">\n",
       "      <th></th>\n",
       "      <th>Type</th>\n",
       "      <th>Dataset</th>\n",
       "      <th>File</th>\n",
       "      <th>Path</th>\n",
       "      <th>Size (MB)</th>\n",
       "    </tr>\n",
       "  </thead>\n",
       "  <tbody>\n",
       "    <tr>\n",
       "      <th>41</th>\n",
       "      <td>OSM PBF</td>\n",
       "      <td>rbzddorf</td>\n",
       "      <td>duesseldorf-regbez-latest.osm.pbf</td>\n",
       "      <td>/download/rbzddorf</td>\n",
       "      <td>171.87</td>\n",
       "    </tr>\n",
       "    <tr>\n",
       "      <th>42</th>\n",
       "      <td>OSM PBF</td>\n",
       "      <td>Faroe</td>\n",
       "      <td>faroe-islands-latest.osm.pbf</td>\n",
       "      <td>/download/Faroe</td>\n",
       "      <td>4.59</td>\n",
       "    </tr>\n",
       "  </tbody>\n",
       "</table>\n",
       "</div>"
      ],
      "text/plain": [
       "       Type   Dataset                               File                Path  \\\n",
       "41  OSM PBF  rbzddorf  duesseldorf-regbez-latest.osm.pbf  /download/rbzddorf   \n",
       "42  OSM PBF     Faroe       faroe-islands-latest.osm.pbf     /download/Faroe   \n",
       "\n",
       "    Size (MB)  \n",
       "41     171.87  \n",
       "42       4.59  "
      ]
     },
     "execution_count": 4,
     "metadata": {},
     "output_type": "execute_result"
    }
   ],
   "source": [
    "datasets"
   ]
  },
  {
   "cell_type": "code",
   "execution_count": null,
   "id": "86ac07e7-38df-481d-a7fd-a71f8dab50e0",
   "metadata": {},
   "outputs": [],
   "source": [
    "jobman.create_job_from_dataset(osm_datasets, 'faroe')"
   ]
  },
  {
   "cell_type": "code",
   "execution_count": null,
   "id": "cad88391-556d-404f-8bea-2c3844d23170",
   "metadata": {},
   "outputs": [],
   "source": [
    "jobman.get_jobs(df=True)"
   ]
  },
  {
   "cell_type": "code",
   "execution_count": null,
   "id": "19db1b78-f91f-4a42-a608-96730db0a32c",
   "metadata": {},
   "outputs": [],
   "source": [
    "sql = 'SELECT way as geom from faroe.planet_osm_line WHERE highway IS NOT NULL'"
   ]
  },
  {
   "cell_type": "code",
   "execution_count": null,
   "id": "f490ddd8-b8db-4f07-ac5a-af9fb884515f",
   "metadata": {},
   "outputs": [],
   "source": [
    "pg_interface = pgi.PgInterface()\n",
    "conn = pg_interface.get_connection()"
   ]
  },
  {
   "cell_type": "code",
   "execution_count": null,
   "id": "942e35fd-b0fe-4691-bb08-b7ff77769505",
   "metadata": {},
   "outputs": [],
   "source": [
    "highway = gpd.GeoDataFrame.from_postgis(sql, conn)"
   ]
  },
  {
   "cell_type": "code",
   "execution_count": null,
   "id": "2cdaf08a-81ae-4008-b95d-856fa94bb9c8",
   "metadata": {},
   "outputs": [],
   "source": [
    "highway.plot()"
   ]
  },
  {
   "cell_type": "code",
   "execution_count": null,
   "id": "fd2bc1cd-3075-438d-bd9f-bc4c92ac1a87",
   "metadata": {},
   "outputs": [],
   "source": []
  }
 ],
 "metadata": {
  "kernelspec": {
   "display_name": "Python 3 (ipykernel)",
   "language": "python",
   "name": "python3"
  },
  "language_info": {
   "codemirror_mode": {
    "name": "ipython",
    "version": 3
   },
   "file_extension": ".py",
   "mimetype": "text/x-python",
   "name": "python",
   "nbconvert_exporter": "python",
   "pygments_lexer": "ipython3",
   "version": "3.9.7"
  }
 },
 "nbformat": 4,
 "nbformat_minor": 5
}
