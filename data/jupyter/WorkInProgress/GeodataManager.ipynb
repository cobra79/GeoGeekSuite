{
 "cells": [
  {
   "cell_type": "code",
   "execution_count": 4,
   "id": "f601ec27-bdfb-415e-b54f-8a6170f61f89",
   "metadata": {},
   "outputs": [],
   "source": [
    "import cobra.postgres.interface as pgi\n",
    "import geopandas as gpd\n",
    "import cobra.utils.geodatahandling as gdh"
   ]
  },
  {
   "cell_type": "code",
   "execution_count": 5,
   "id": "4d5ae136-f1c6-433a-afc8-de8eb881d99a",
   "metadata": {},
   "outputs": [],
   "source": [
    "gdm = gdh.Geodatamanager()"
   ]
  },
  {
   "cell_type": "code",
   "execution_count": 6,
   "id": "f4ea9c1a-c56c-4885-9387-7737e8a67eae",
   "metadata": {},
   "outputs": [
    {
     "data": {
      "text/html": [
       "<div>\n",
       "<style scoped>\n",
       "    .dataframe tbody tr th:only-of-type {\n",
       "        vertical-align: middle;\n",
       "    }\n",
       "\n",
       "    .dataframe tbody tr th {\n",
       "        vertical-align: top;\n",
       "    }\n",
       "\n",
       "    .dataframe thead th {\n",
       "        text-align: right;\n",
       "    }\n",
       "</style>\n",
       "<table border=\"1\" class=\"dataframe\">\n",
       "  <thead>\n",
       "    <tr style=\"text-align: right;\">\n",
       "      <th></th>\n",
       "      <th>schema</th>\n",
       "      <th>table</th>\n",
       "      <th>estimate rows</th>\n",
       "      <th>geom columns</th>\n",
       "    </tr>\n",
       "  </thead>\n",
       "  <tbody>\n",
       "    <tr>\n",
       "      <th>0</th>\n",
       "      <td>gis</td>\n",
       "      <td>planet_osm_polygon</td>\n",
       "      <td>32724</td>\n",
       "      <td>way</td>\n",
       "    </tr>\n",
       "    <tr>\n",
       "      <th>1</th>\n",
       "      <td>gis</td>\n",
       "      <td>planet_osm_roads</td>\n",
       "      <td>936</td>\n",
       "      <td>way</td>\n",
       "    </tr>\n",
       "    <tr>\n",
       "      <th>2</th>\n",
       "      <td>gis</td>\n",
       "      <td>planet_osm_point</td>\n",
       "      <td>35072</td>\n",
       "      <td>way</td>\n",
       "    </tr>\n",
       "    <tr>\n",
       "      <th>3</th>\n",
       "      <td>gis</td>\n",
       "      <td>planet_osm_line</td>\n",
       "      <td>24530</td>\n",
       "      <td>way</td>\n",
       "    </tr>\n",
       "    <tr>\n",
       "      <th>4</th>\n",
       "      <td>chaosdorf</td>\n",
       "      <td>gis_osm_pois_free_1</td>\n",
       "      <td>62797</td>\n",
       "      <td>wkb_geometry</td>\n",
       "    </tr>\n",
       "    <tr>\n",
       "      <th>5</th>\n",
       "      <td>faroer</td>\n",
       "      <td>planet_osm_point</td>\n",
       "      <td>35072</td>\n",
       "      <td>way</td>\n",
       "    </tr>\n",
       "    <tr>\n",
       "      <th>6</th>\n",
       "      <td>faroer</td>\n",
       "      <td>planet_osm_roads</td>\n",
       "      <td>936</td>\n",
       "      <td>way</td>\n",
       "    </tr>\n",
       "    <tr>\n",
       "      <th>7</th>\n",
       "      <td>faroer</td>\n",
       "      <td>planet_osm_polygon</td>\n",
       "      <td>32724</td>\n",
       "      <td>way</td>\n",
       "    </tr>\n",
       "    <tr>\n",
       "      <th>8</th>\n",
       "      <td>faroer</td>\n",
       "      <td>planet_osm_line</td>\n",
       "      <td>24530</td>\n",
       "      <td>way</td>\n",
       "    </tr>\n",
       "    <tr>\n",
       "      <th>9</th>\n",
       "      <td>rbzddorf</td>\n",
       "      <td>planet_osm_roads</td>\n",
       "      <td>66458</td>\n",
       "      <td>way</td>\n",
       "    </tr>\n",
       "    <tr>\n",
       "      <th>10</th>\n",
       "      <td>rbzddorf</td>\n",
       "      <td>planet_osm_point</td>\n",
       "      <td>661994</td>\n",
       "      <td>way</td>\n",
       "    </tr>\n",
       "    <tr>\n",
       "      <th>11</th>\n",
       "      <td>rbzddorf</td>\n",
       "      <td>planet_osm_line</td>\n",
       "      <td>659217</td>\n",
       "      <td>way</td>\n",
       "    </tr>\n",
       "    <tr>\n",
       "      <th>12</th>\n",
       "      <td>rbzddorf</td>\n",
       "      <td>planet_osm_polygon</td>\n",
       "      <td>2416496</td>\n",
       "      <td>way</td>\n",
       "    </tr>\n",
       "  </tbody>\n",
       "</table>\n",
       "</div>"
      ],
      "text/plain": [
       "       schema                table  estimate rows  geom columns\n",
       "0         gis   planet_osm_polygon          32724           way\n",
       "1         gis     planet_osm_roads            936           way\n",
       "2         gis     planet_osm_point          35072           way\n",
       "3         gis      planet_osm_line          24530           way\n",
       "4   chaosdorf  gis_osm_pois_free_1          62797  wkb_geometry\n",
       "5      faroer     planet_osm_point          35072           way\n",
       "6      faroer     planet_osm_roads            936           way\n",
       "7      faroer   planet_osm_polygon          32724           way\n",
       "8      faroer      planet_osm_line          24530           way\n",
       "9    rbzddorf     planet_osm_roads          66458           way\n",
       "10   rbzddorf     planet_osm_point         661994           way\n",
       "11   rbzddorf      planet_osm_line         659217           way\n",
       "12   rbzddorf   planet_osm_polygon        2416496           way"
      ]
     },
     "execution_count": 6,
     "metadata": {},
     "output_type": "execute_result"
    }
   ],
   "source": [
    "gdm.get_tables()"
   ]
  },
  {
   "cell_type": "code",
   "execution_count": 7,
   "id": "256884f7-2906-413a-a38b-840731b01f36",
   "metadata": {},
   "outputs": [],
   "source": [
    "data = gdm.get_tables().iloc[11]"
   ]
  },
  {
   "cell_type": "code",
   "execution_count": 9,
   "id": "bd51b345-4e4a-472c-86de-d1b8b00757f2",
   "metadata": {},
   "outputs": [
    {
     "data": {
      "image/png": "[encoded data removed]",
      "text/plain": [
       "<Figure size 432x288 with 1 Axes>"
      ]
     },
     "metadata": {
      "needs_background": "light"
     },
     "output_type": "display_data"
    }
   ],
   "source": [
    "gdm.simple_plot(data)"
   ]
  },
  {
   "cell_type": "code",
   "execution_count": null,
   "id": "6c7d063a-ce67-4a97-99d1-e68517b096f9",
   "metadata": {},
   "outputs": [],
   "source": []
  }
 ],
 "metadata": {
  "kernelspec": {
   "display_name": "Python 3 (ipykernel)",
   "language": "python",
   "name": "python3"
  },
  "language_info": {
   "codemirror_mode": {
    "name": "ipython",
    "version": 3
   },
   "file_extension": ".py",
   "mimetype": "text/x-python",
   "name": "python",
   "nbconvert_exporter": "python",
   "pygments_lexer": "ipython3",
   "version": "3.9.7"
  }
 },
 "nbformat": 4,
 "nbformat_minor": 5
}
