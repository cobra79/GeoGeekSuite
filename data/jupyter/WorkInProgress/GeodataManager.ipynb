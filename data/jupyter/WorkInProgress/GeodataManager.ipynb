{
 "cells": [
  {
   "cell_type": "code",
   "execution_count": null,
   "id": "f601ec27-bdfb-415e-b54f-8a6170f61f89",
   "metadata": {},
   "outputs": [],
   "source": [
    "import cobra.postgres.interface as pgi\n",
    "import geopandas as gpd\n",
    "import cobra.utils.geodatahandling as gdh"
   ]
  },
  {
   "cell_type": "code",
   "execution_count": null,
   "id": "4d5ae136-f1c6-433a-afc8-de8eb881d99a",
   "metadata": {},
   "outputs": [],
   "source": [
    "gdm = gdh.Geodatamanager()"
   ]
  },
  {
   "cell_type": "code",
   "execution_count": null,
   "id": "f4ea9c1a-c56c-4885-9387-7737e8a67eae",
   "metadata": {},
   "outputs": [],
   "source": [
    "gdm.get_tables()"
   ]
  },
  {
   "cell_type": "code",
   "execution_count": null,
   "id": "256884f7-2906-413a-a38b-840731b01f36",
   "metadata": {},
   "outputs": [],
   "source": [
    "data = gdm.get_tables().iloc[1]"
   ]
  },
  {
   "cell_type": "code",
   "execution_count": null,
   "id": "bd51b345-4e4a-472c-86de-d1b8b00757f2",
   "metadata": {},
   "outputs": [],
   "source": [
    "gdm.simple_plot(data)"
   ]
  },
  {
   "cell_type": "code",
   "execution_count": null,
   "id": "b2dc0574-2094-4240-815b-21e3acc1b01b",
   "metadata": {},
   "outputs": [],
   "source": []
  }
 ],
 "metadata": {
  "kernelspec": {
   "display_name": "Python 3 (ipykernel)",
   "language": "python",
   "name": "python3"
  },
  "language_info": {
   "codemirror_mode": {
    "name": "ipython",
    "version": 3
   },
   "file_extension": ".py",
   "mimetype": "text/x-python",
   "name": "python",
   "nbconvert_exporter": "python",
   "pygments_lexer": "ipython3",
   "version": "3.9.7"
  }
 },
 "nbformat": 4,
 "nbformat_minor": 5
}
