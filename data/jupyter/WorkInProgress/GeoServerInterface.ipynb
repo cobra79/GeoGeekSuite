{
 "cells": [
  {
   "cell_type": "code",
   "execution_count": 18,
   "id": "2de093a8-1098-42df-ba75-06e10e0d18cc",
   "metadata": {},
   "outputs": [],
   "source": [
    "import requests\n",
    "from requests.auth import HTTPBasicAuth\n",
    "import json"
   ]
  },
  {
   "cell_type": "code",
   "execution_count": null,
   "id": "e5074ecc-bac7-4aaa-92eb-a202cb4aa153",
   "metadata": {},
   "outputs": [],
   "source": [
    "#curl -u admin:geoserver -XGET http://localhost:8080/geoserver/rest/layers.json"
   ]
  },
  {
   "cell_type": "code",
   "execution_count": 5,
   "id": "a290b663-6bb6-4dbd-8f20-ee7dda79b4d4",
   "metadata": {},
   "outputs": [],
   "source": [
    "res = requests.get('http://geoserver:8080/geoserver/rest/layers.json', auth=HTTPBasicAuth('foo', 'fooBar'))"
   ]
  },
  {
   "cell_type": "code",
   "execution_count": 8,
   "id": "f8b4d114-23a8-4ad7-885c-e66950d7c1e8",
   "metadata": {},
   "outputs": [
    {
     "data": {
      "text/plain": [
       "<bound method Response.json of <Response [200]>>"
      ]
     },
     "execution_count": 8,
     "metadata": {},
     "output_type": "execute_result"
    }
   ],
   "source": [
    "res.json"
   ]
  },
  {
   "cell_type": "code",
   "execution_count": 9,
   "id": "fb7ce03d-e1ba-4009-918a-8143e6ee67cc",
   "metadata": {},
   "outputs": [],
   "source": [
    "# create workspace"
   ]
  },
  {
   "cell_type": "code",
   "execution_count": 23,
   "id": "fef6d9a3-25cc-4891-9653-2e82831344ed",
   "metadata": {},
   "outputs": [],
   "source": [
    "data= {\n",
    "  \"name\": \"workspacetest\"\n",
    "}"
   ]
  },
  {
   "cell_type": "code",
   "execution_count": 24,
   "id": "ff2fb9bb-b5d5-4893-977a-26f9169d9a27",
   "metadata": {},
   "outputs": [],
   "source": [
    "res = requests.post('http://geoserver:8080/geoserver/rest/workspaces', auth=HTTPBasicAuth('foo', 'fooBar'), data=data)"
   ]
  },
  {
   "cell_type": "code",
   "execution_count": 25,
   "id": "cb2fb358-44ed-475b-b2e2-d2fac938937e",
   "metadata": {},
   "outputs": [
    {
     "data": {
      "text/plain": [
       "<Response [415]>"
      ]
     },
     "execution_count": 25,
     "metadata": {},
     "output_type": "execute_result"
    }
   ],
   "source": [
    "res"
   ]
  },
  {
   "cell_type": "code",
   "execution_count": 26,
   "id": "27dbadc7-c5f5-489f-9d47-c27f65afd620",
   "metadata": {},
   "outputs": [
    {
     "name": "stdout",
     "output_type": "stream",
     "text": [
      "Collecting geoserver-rest\n",
      "  Downloading geoserver_rest-2.1.4-py3-none-any.whl (19 kB)\n",
      "Requirement already satisfied: pygments in /opt/conda/lib/python3.9/site-packages (from geoserver-rest) (2.10.0)\n",
      "Requirement already satisfied: gdal in /opt/conda/lib/python3.9/site-packages (from geoserver-rest) (3.4.1)\n",
      "Requirement already satisfied: seaborn in /opt/conda/lib/python3.9/site-packages (from geoserver-rest) (0.11.2)\n",
      "Requirement already satisfied: requests in /opt/conda/lib/python3.9/site-packages (from geoserver-rest) (2.26.0)\n",
      "Requirement already satisfied: matplotlib in /opt/conda/lib/python3.9/site-packages (from geoserver-rest) (3.5.1)\n",
      "Requirement already satisfied: cycler>=0.10 in /opt/conda/lib/python3.9/site-packages (from matplotlib->geoserver-rest) (0.11.0)\n",
      "Requirement already satisfied: numpy>=1.17 in /opt/conda/lib/python3.9/site-packages (from matplotlib->geoserver-rest) (1.20.3)\n",
      "Requirement already satisfied: packaging>=20.0 in /opt/conda/lib/python3.9/site-packages (from matplotlib->geoserver-rest) (21.3)\n",
      "Requirement already satisfied: python-dateutil>=2.7 in /opt/conda/lib/python3.9/site-packages (from matplotlib->geoserver-rest) (2.8.2)\n",
      "Requirement already satisfied: pyparsing>=2.2.1 in /opt/conda/lib/python3.9/site-packages (from matplotlib->geoserver-rest) (3.0.6)\n",
      "Requirement already satisfied: fonttools>=4.22.0 in /opt/conda/lib/python3.9/site-packages (from matplotlib->geoserver-rest) (4.28.5)\n",
      "Requirement already satisfied: pillow>=6.2.0 in /opt/conda/lib/python3.9/site-packages (from matplotlib->geoserver-rest) (8.4.0)\n",
      "Requirement already satisfied: kiwisolver>=1.0.1 in /opt/conda/lib/python3.9/site-packages (from matplotlib->geoserver-rest) (1.3.2)\n",
      "Requirement already satisfied: charset-normalizer~=2.0.0 in /opt/conda/lib/python3.9/site-packages (from requests->geoserver-rest) (2.0.9)\n",
      "Requirement already satisfied: certifi>=2017.4.17 in /opt/conda/lib/python3.9/site-packages (from requests->geoserver-rest) (2021.10.8)\n",
      "Requirement already satisfied: urllib3<1.27,>=1.21.1 in /opt/conda/lib/python3.9/site-packages (from requests->geoserver-rest) (1.26.7)\n",
      "Requirement already satisfied: idna<4,>=2.5 in /opt/conda/lib/python3.9/site-packages (from requests->geoserver-rest) (3.1)\n",
      "Requirement already satisfied: scipy>=1.0 in /opt/conda/lib/python3.9/site-packages (from seaborn->geoserver-rest) (1.7.3)\n",
      "Requirement already satisfied: pandas>=0.23 in /opt/conda/lib/python3.9/site-packages (from seaborn->geoserver-rest) (1.3.5)\n",
      "Requirement already satisfied: pytz>=2017.3 in /opt/conda/lib/python3.9/site-packages (from pandas>=0.23->seaborn->geoserver-rest) (2021.3)\n",
      "Requirement already satisfied: six>=1.5 in /opt/conda/lib/python3.9/site-packages (from python-dateutil>=2.7->matplotlib->geoserver-rest) (1.16.0)\n",
      "Installing collected packages: geoserver-rest\n",
      "Successfully installed geoserver-rest-2.1.4\n"
     ]
    }
   ],
   "source": [
    "! pip3 install geoserver-rest"
   ]
  },
  {
   "cell_type": "code",
   "execution_count": 27,
   "id": "b8516e15-c97f-41f2-b351-429d8841d508",
   "metadata": {},
   "outputs": [],
   "source": [
    "from geo.Geoserver import Geoserver"
   ]
  },
  {
   "cell_type": "code",
   "execution_count": 28,
   "id": "47a2a3a1-67af-4a56-9388-f07092d82030",
   "metadata": {},
   "outputs": [],
   "source": [
    "geo = Geoserver('http://geoserver:8080/geoserver', username='foo', password='fooBar')\n"
   ]
  },
  {
   "cell_type": "code",
   "execution_count": 29,
   "id": "06d14133-34b6-40f6-9492-1bc68b78509d",
   "metadata": {},
   "outputs": [
    {
     "data": {
      "text/plain": [
       "'201 Workspace demo created!'"
      ]
     },
     "execution_count": 29,
     "metadata": {},
     "output_type": "execute_result"
    }
   ],
   "source": [
    "geo.create_workspace(workspace='demo')"
   ]
  },
  {
   "cell_type": "code",
   "execution_count": 30,
   "id": "1c2f811e-68c9-4a3a-aacd-1f4ed6cef594",
   "metadata": {},
   "outputs": [],
   "source": [
    "#https://pypi.org/project/geoserver-rest/"
   ]
  },
  {
   "cell_type": "code",
   "execution_count": 32,
   "id": "eadb8ea2-9e42-4f99-b198-33846f1699c5",
   "metadata": {},
   "outputs": [
    {
     "data": {
      "text/plain": [
       "'500: Data can not be published! b\\'<html>\\\\n<head>\\\\n<meta http-equiv=\"Content-Type\" content=\"text/html;charset=utf-8\"/>\\\\n<title>Error 500 java.io.IOException</title>\\\\n</head>\\\\n<body><h2>HTTP ERROR 500 java.io.IOException</h2>\\\\n<table>\\\\n<tr><th>URI:</th><td>/geoserver/rest/workspaces/demo/datastores/geo_data/featuretypes/</td></tr>\\\\n<tr><th>STATUS:</th><td>500</td></tr>\\\\n<tr><th>MESSAGE:</th><td>java.io.IOException</td></tr>\\\\n<tr><th>SERVLET:</th><td>dispatcher</td></tr>\\\\n<tr><th>CAUSED BY:</th><td>java.io.IOException</td></tr>\\\\n<tr><th>CAUSED BY:</th><td>java.lang.RuntimeException: Unable to obtain connection: Cannot create PoolableConnectionFactory (FATAL: password authentication failed for user &quot;foo&quot;)</td></tr>\\\\n<tr><th>CAUSED BY:</th><td>org.apache.commons.dbcp.SQLNestedException: Cannot create PoolableConnectionFactory (FATAL: password authentication failed for user &quot;foo&quot;)</td></tr>\\\\n<tr><th>CAUSED BY:</th><td>org.postgresql.util.PSQLException: FATAL: password authentication failed for user &quot;foo&quot;</td></tr>\\\\n</table>\\\\n<h3>Caused by:</h3><pre>java.io.IOException\\\\n\\\\tat org.geoserver.catalog.ResourcePool.getDataStore(ResourcePool.java:667)\\\\n\\\\tat org.geoserver.catalog.impl.DataStoreInfoImpl.getDataStore(DataStoreInfoImpl.java:34)\\\\n\\\\tat jdk.internal.reflect.GeneratedMethodAccessor310.invoke(Unknown Source)\\\\n\\\\tat java.base/jdk.internal.reflect.DelegatingMethodAccessorImpl.invoke(DelegatingMethodAccessorImpl.java:43)\\\\n\\\\tat java.base/java.lang.reflect.Method.invoke(Method.java:566)\\\\n\\\\tat org.geoserver.catalog.impl.ModificationProxy.invoke(ModificationProxy.java:129)\\\\n\\\\tat com.sun.proxy.$Proxy31.getDataStore(Unknown Source)\\\\n\\\\tat org.geoserver.rest.catalog.FeatureTypeController.featureTypePost(FeatureTypeController.java:208)\\\\n\\\\tat java.base/jdk.internal.reflect.NativeMethodAccessorImpl.invoke0(Native Method)\\\\n\\\\tat java.base/jdk.internal.reflect.NativeMethodAccessorImpl.invoke(NativeMethodAccessorImpl.java:62)\\\\n\\\\tat java.base/jdk.internal.reflect.DelegatingMethodAccessorImpl.invoke(DelegatingMethodAccessorImpl.java:43)\\\\n\\\\tat java.base/java.lang.reflect.Method.invoke(Method.java:566)\\\\n\\\\tat org.springframework.web.method.support.InvocableHandlerMethod.doInvoke(InvocableHandlerMethod.java:190)\\\\n\\\\tat org.springframework.web.method.support.InvocableHandlerMethod.invokeForRequest(InvocableHandlerMethod.java:138)\\\\n\\\\tat org.springframework.web.servlet.mvc.method.annotation.ServletInvocableHandlerMethod.invokeAndHandle(ServletInvocableHandlerMethod.java:105)\\\\n\\\\tat org.springframework.web.servlet.mvc.method.annotation.RequestMappingHandlerAdapter.invokeHandlerMethod(RequestMappingHandlerAdapter.java:892)\\\\n\\\\tat org.springframework.web.servlet.mvc.method.annotation.RequestMappingHandlerAdapter.handleInternal(RequestMappingHandlerAdapter.java:797)\\\\n\\\\tat org.springframework.web.servlet.mvc.method.AbstractHandlerMethodAdapter.handle(AbstractHandlerMethodAdapter.java:87)\\\\n\\\\tat org.springframework.web.servlet.DispatcherServlet.doDispatch(DispatcherServlet.java:1040)\\\\n\\\\tat org.springframework.web.servlet.DispatcherServlet.doService(DispatcherServlet.java:943)\\\\n\\\\tat org.springframework.web.servlet.FrameworkServlet.processRequest(FrameworkServlet.java:1006)\\\\n\\\\tat org.springframework.web.servlet.FrameworkServlet.doPost(FrameworkServlet.java:909)\\\\n\\\\tat javax.servlet.http.HttpServlet.service(HttpServlet.java:707)\\\\n\\\\tat org.springframework.web.servlet.FrameworkServlet.service(FrameworkServlet.java:883)\\\\n\\\\tat javax.servlet.http.HttpServlet.service(HttpServlet.java:790)\\\\n\\\\tat org.eclipse.jetty.servlet.ServletHolder$NotAsync.service(ServletHolder.java:1452)\\\\n\\\\tat org.eclipse.jetty.servlet.ServletHolder.handle(ServletHolder.java:791)\\\\n\\\\tat org.eclipse.jetty.servlet.ServletHandler$ChainEnd.doFilter(ServletHandler.java:1626)\\\\n\\\\tat org.geoserver.filters.ThreadLocalsCleanupFilter.doFilter(ThreadLocalsCleanupFilter.java:28)\\\\n\\\\tat org.eclipse.jetty.servlet.FilterHolder.doFilter(FilterHolder.java:193)\\\\n\\\\tat org.eclipse.jetty.servlet.ServletHandler$Chain.doFilter(ServletHandler.java:1601)\\\\n\\\\tat org.geoserver.filters.SpringDelegatingFilter$Chain.doFilter(SpringDelegatingFilter.java:73)\\\\n\\\\tat org.geoserver.ows.HTTPHeadersCollector.doFilter(HTTPHeadersCollector.java:48)\\\\n\\\\tat org.geoserver.filters.SpringDelegatingFilter$Chain.doFilter(SpringDelegatingFilter.java:70)\\\\n\\\\tat org.geoserver.filters.SpringDelegatingFilter.doFilter(SpringDelegatingFilter.java:43)\\\\n\\\\tat org.eclipse.jetty.servlet.FilterHolder.doFilter(FilterHolder.java:193)\\\\n\\\\tat org.eclipse.jetty.servlet.ServletHandler$Chain.doFilter(ServletHandler.java:1601)\\\\n\\\\tat org.geoserver.platform.AdvancedDispatchFilter.doFilter(AdvancedDispatchFilter.java:39)\\\\n\\\\tat org.eclipse.jetty.servlet.FilterHolder.doFilter(FilterHolder.java:193)\\\\n\\\\tat org.eclipse.jetty.servlet.ServletHandler$Chain.doFilter(ServletHandler.java:1601)\\\\n\\\\tat org.springframework.security.web.FilterChainProxy$VirtualFilterChain.doFilter(FilterChainProxy.java:320)\\\\n\\\\tat org.geoserver.security.filter.GeoServerCompositeFilter$NestedFilterChain.doFilter(GeoServerCompositeFilter.java:71)\\\\n\\\\tat org.springframework.security.web.access.intercept.FilterSecurityInterceptor.invoke(FilterSecurityInterceptor.java:127)\\\\n\\\\tat org.springframework.security.web.access.intercept.FilterSecurityInterceptor.doFilter(FilterSecurityInterceptor.java:91)\\\\n\\\\tat org.geoserver.security.filter.GeoServerCompositeFilter$NestedFilterChain.doFilter(GeoServerCompositeFilter.java:75)\\\\n\\\\tat org.geoserver.security.filter.GeoServerCompositeFilter.doFilter(GeoServerCompositeFilter.java:92)\\\\n\\\\tat org.springframework.security.web.FilterChainProxy$VirtualFilterChain.doFilter(FilterChainProxy.java:334)\\\\n\\\\tat org.geoserver.security.filter.GeoServerCompositeFilter$NestedFilterChain.doFilter(GeoServerCompositeFilter.java:71)\\\\n\\\\tat org.springframework.security.web.access.ExceptionTranslationFilter.doFilter(ExceptionTranslationFilter.java:119)\\\\n\\\\tat org.geoserver.security.filter.GeoServerCompositeFilter$NestedFilterChain.doFilter(GeoServerCompositeFilter.java:75)\\\\n\\\\tat org.geoserver.security.filter.GeoServerCompositeFilter.doFilter(GeoServerCompositeFilter.java:92)\\\\n\\\\tat org.springframework.security.web.FilterChainProxy$VirtualFilterChain.doFilter(FilterChainProxy.java:334)\\\\n\\\\tat org.geoserver.security.filter.GeoServerAnonymousAuthenticationFilter.doFilter(GeoServerAnonymousAuthenticationFilter.java:53)\\\\n\\\\tat org.springframework.security.web.FilterChainProxy$VirtualFilterChain.doFilter(FilterChainProxy.java:334)\\\\n\\\\tat org.geoserver.security.filter.GeoServerCompositeFilter$NestedFilterChain.doFilter(GeoServerCompositeFilter.java:71)\\\\n\\\\tat org.springframework.security.web.authentication.www.BasicAuthenticationFilter.doFilterInternal(BasicAuthenticationFilter.java:215)\\\\n\\\\tat org.springframework.web.filter.OncePerRequestFilter.doFilter(OncePerRequestFilter.java:119)\\\\n\\\\tat org.geoserver.security.filter.GeoServerCompositeFilter$NestedFilterChain.doFilter(GeoServerCompositeFilter.java:75)\\\\n\\\\tat org.geoserver.security.filter.GeoServerCompositeFilter.doFilter(GeoServerCompositeFilter.java:92)\\\\n\\\\tat org.geoserver.security.filter.GeoServerBasicAuthenticationFilter.doFilter(GeoServerBasicAuthenticationFilter.java:81)\\\\n\\\\tat org.springframework.security.web.FilterChainProxy$VirtualFilterChain.doFilter(FilterChainProxy.java:334)\\\\n\\\\tat org.geoserver.security.filter.GeoServerCompositeFilter$NestedFilterChain.doFilter(GeoServerCompositeFilter.java:71)\\\\n\\\\tat org.springframework.security.web.context.SecurityContextPersistenceFilter.doFilter(SecurityContextPersistenceFilter.java:105)\\\\n\\\\tat org.geoserver.security.filter.GeoServerSecurityContextPersistenceFilter$1.doFilter(GeoServerSecurityContextPersistenceFilter.java:52)\\\\n\\\\tat org.geoserver.security.filter.GeoServerCompositeFilter$NestedFilterChain.doFilter(GeoServerCompositeFilter.java:75)\\\\n\\\\tat org.geoserver.security.filter.GeoServerCompositeFilter.doFilter(GeoServerCompositeFilter.java:92)\\\\n\\\\tat org.springframework.security.web.FilterChainProxy$VirtualFilterChain.doFilter(FilterChainProxy.java:334)\\\\n\\\\tat org.springframework.security.web.FilterChainProxy.doFilterInternal(FilterChainProxy.java:215)\\\\n\\\\tat org.springframework.security.web.FilterChainProxy.doFilter(FilterChainProxy.java:178)\\\\n\\\\tat org.geoserver.security.GeoServerSecurityFilterChainProxy.doFilter(GeoServerSecurityFilterChainProxy.java:142)\\\\n\\\\tat org.springframework.web.filter.DelegatingFilterProxy.invokeDelegate(DelegatingFilterProxy.java:358)\\\\n\\\\tat org.springframework.web.filter.DelegatingFilterProxy.doFilter(DelegatingFilterProxy.java:271)\\\\n\\\\tat org.eclipse.jetty.servlet.FilterHolder.doFilter(FilterHolder.java:193)\\\\n\\\\tat org.eclipse.jetty.servlet.ServletHandler$Chain.doFilter(ServletHandler.java:1601)\\\\n\\\\tat org.geoserver.filters.LoggingFilter.doFilter(LoggingFilter.java:102)\\\\n\\\\tat org.eclipse.jetty.servlet.FilterHolder.doFilter(FilterHolder.java:193)\\\\n\\\\tat org.eclipse.jetty.servlet.ServletHandler$Chain.doFilter(ServletHandler.java:1601)\\\\n\\\\tat org.geoserver.filters.XFrameOptionsFilter.doFilter(XFrameOptionsFilter.java:77)\\\\n\\\\tat org.eclipse.jetty.servlet.FilterHolder.doFilter(FilterHolder.java:193)\\\\n\\\\tat org.eclipse.jetty.servlet.ServletHandler$Chain.doFilter(ServletHandler.java:1601)\\\\n\\\\tat org.geoserver.filters.GZIPFilter.doFilter(GZIPFilter.java:48)\\\\n\\\\tat org.eclipse.jetty.servlet.FilterHolder.doFilter(FilterHolder.java:193)\\\\n\\\\tat org.eclipse.jetty.servlet.ServletHandler$Chain.doFilter(ServletHandler.java:1601)\\\\n\\\\tat org.geoserver.filters.SessionDebugFilter.doFilter(SessionDebugFilter.java:49)\\\\n\\\\tat org.eclipse.jetty.servlet.FilterHolder.doFilter(FilterHolder.java:193)\\\\n\\\\tat org.eclipse.jetty.servlet.ServletHandler$Chain.doFilter(ServletHandler.java:1601)\\\\n\\\\tat org.geoserver.filters.FlushSafeFilter.doFilter(FlushSafeFilter.java:42)\\\\n\\\\tat org.eclipse.jetty.servlet.FilterHolder.doFilter(FilterHolder.java:193)\\\\n\\\\tat org.eclipse.jetty.servlet.ServletHandler$Chain.doFilter(ServletHandler.java:1601)\\\\n\\\\tat org.springframework.web.filter.CharacterEncodingFilter.doFilterInternal(CharacterEncodingFilter.java:201)\\\\n\\\\tat org.springframework.web.filter.OncePerRequestFilter.doFilter(OncePerRequestFilter.java:119)\\\\n\\\\tat org.eclipse.jetty.servlet.FilterHolder.doFilter(FilterHolder.java:201)\\\\n\\\\tat org.eclipse.jetty.servlet.ServletHandler$Chain.doFilter(ServletHandler.java:1601)\\\\n\\\\tat org.eclipse.jetty.servlet.ServletHandler.doHandle(ServletHandler.java:548)\\\\n\\\\tat org.eclipse.jetty.server.handler.ScopedHandler.handle(ScopedHandler.java:143)\\\\n\\\\tat org.eclipse.jetty.security.SecurityHandler.handle(SecurityHandler.java:602)\\\\n\\\\tat org.eclipse.jetty.server.handler.HandlerWrapper.handle(HandlerWrapper.java:127)\\\\n\\\\tat org.eclipse.jetty.server.handler.ScopedHandler.nextHandle(ScopedHandler.java:235)\\\\n\\\\tat org.eclipse.jetty.server.session.SessionHandler.doHandle(SessionHandler.java:1624)\\\\n\\\\tat org.eclipse.jetty.server.handler.ScopedHandler.nextHandle(ScopedHandler.java:233)\\\\n\\\\tat org.eclipse.jetty.server.handler.ContextHandler.doHandle(ContextHandler.java:1435)\\\\n\\\\tat org.eclipse.jetty.server.handler.ScopedHandler.nextScope(ScopedHandler.java:188)\\\\n\\\\tat org.eclipse.jetty.servlet.ServletHandler.doScope(ServletHandler.java:501)\\\\n\\\\tat org.eclipse.jetty.server.session.SessionHandler.doScope(SessionHandler.java:1594)\\\\n\\\\tat org.eclipse.jetty.server.handler.ScopedHandler.nextScope(ScopedHandler.java:186)\\\\n\\\\tat org.eclipse.jetty.server.handler.ContextHandler.doScope(ContextHandler.java:1350)\\\\n\\\\tat org.eclipse.jetty.server.handler.ScopedHandler.handle(ScopedHandler.java:141)\\\\n\\\\tat org.eclipse.jetty.server.handler.ContextHandlerCollection.handle(ContextHandlerCollection.java:191)\\\\n\\\\tat org.eclipse.jetty.server.handler.HandlerCollection.handle(HandlerCollection.java:146)\\\\n\\\\tat org.eclipse.jetty.server.handler.HandlerWrapper.handle(HandlerWrapper.java:127)\\\\n\\\\tat org.eclipse.jetty.server.Server.handle(Server.java:516)\\\\n\\\\tat org.eclipse.jetty.server.HttpChannel.lambda$handle$1(HttpChannel.java:388)\\\\n\\\\tat org.eclipse.jetty.server.HttpChannel.dispatch(HttpChannel.java:633)\\\\n\\\\tat org.eclipse.jetty.server.HttpChannel.handle(HttpChannel.java:380)\\\\n\\\\tat org.eclipse.jetty.server.HttpConnection.onFillable(HttpConnection.java:273)\\\\n\\\\tat org.eclipse.jetty.io.AbstractConnection$ReadCallback.succeeded(AbstractConnection.java:311)\\\\n\\\\tat org.eclipse.jetty.io.FillInterest.fillable(FillInterest.java:105)\\\\n\\\\tat org.eclipse.jetty.io.ChannelEndPoint$1.run(ChannelEndPoint.java:104)\\\\n\\\\tat org.eclipse.jetty.util.thread.strategy.EatWhatYouKill.runTask(EatWhatYouKill.java:336)\\\\n\\\\tat org.eclipse.jetty.util.thread.strategy.EatWhatYouKill.doProduce(EatWhatYouKill.java:313)\\\\n\\\\tat org.eclipse.jetty.util.thread.strategy.EatWhatYouKill.tryProduce(EatWhatYouKill.java:171)\\\\n\\\\tat org.eclipse.jetty.util.thread.strategy.EatWhatYouKill.run(EatWhatYouKill.java:129)\\\\n\\\\tat org.eclipse.jetty.util.thread.ReservedThreadExecutor$ReservedThread.run(ReservedThreadExecutor.java:375)\\\\n\\\\tat org.eclipse.jetty.util.thread.QueuedThreadPool.runJob(QueuedThreadPool.java:773)\\\\n\\\\tat org.eclipse.jetty.util.thread.QueuedThreadPool$Runner.run(QueuedThreadPool.java:905)\\\\n\\\\tat java.base/java.lang.Thread.run(Thread.java:829)\\\\nCaused by: java.lang.RuntimeException: Unable to obtain connection: Cannot create PoolableConnectionFactory (FATAL: password authentication failed for user &quot;foo&quot;)\\\\n\\\\tat org.geotools.jdbc.JDBCDataStore.createConnection(JDBCDataStore.java:2147)\\\\n\\\\tat org.geotools.jdbc.JDBCDataStore.createTypeNames(JDBCDataStore.java:934)\\\\n\\\\tat org.geotools.data.store.ContentDataStore.getTypeNames(ContentDataStore.java:261)\\\\n\\\\tat org.vfny.geoserver.util.DataStoreUtils.getDataAccess(DataStoreUtils.java:73)\\\\n\\\\tat org.geoserver.catalog.ResourcePool.getDataStore(ResourcePool.java:626)\\\\n\\\\t... 125 more\\\\nCaused by: org.apache.commons.dbcp.SQLNestedException: Cannot create PoolableConnectionFactory (FATAL: password authentication failed for user &quot;foo&quot;)\\\\n\\\\tat org.apache.commons.dbcp.BasicDataSource.createPoolableConnectionFactory(BasicDataSource.java:1549)\\\\n\\\\tat org.apache.commons.dbcp.BasicDataSource.createDataSource(BasicDataSource.java:1388)\\\\n\\\\tat org.apache.commons.dbcp.BasicDataSource.getConnection(BasicDataSource.java:1044)\\\\n\\\\tat org.geotools.data.jdbc.datasource.AbstractManageableDataSource.getConnection(AbstractManageableDataSource.java:42)\\\\n\\\\tat org.geotools.jdbc.JDBCDataStore.createConnection(JDBCDataStore.java:2131)\\\\n\\\\t... 129 more\\\\nCaused by: org.postgresql.util.PSQLException: FATAL: password authentication failed for user &quot;foo&quot;\\\\n\\\\tat org.postgresql.core.v3.ConnectionFactoryImpl.doAuthentication(ConnectionFactoryImpl.java:613)\\\\n\\\\tat org.postgresql.core.v3.ConnectionFactoryImpl.tryConnect(ConnectionFactoryImpl.java:161)\\\\n\\\\tat org.postgresql.core.v3.ConnectionFactoryImpl.openConnectionImpl(ConnectionFactoryImpl.java:213)\\\\n\\\\tat org.postgresql.core.ConnectionFactory.openConnection(ConnectionFactory.java:51)\\\\n\\\\tat org.postgresql.jdbc.PgConnection.&lt;init&gt;(PgConnection.java:223)\\\\n\\\\tat org.postgresql.Driver.makeConnection(Driver.java:465)\\\\n\\\\tat org.postgresql.Driver.connect(Driver.java:264)\\\\n\\\\tat org.apache.commons.dbcp.DriverConnectionFactory.createConnection(DriverConnectionFactory.java:38)\\\\n\\\\tat org.apache.commons.dbcp.PoolableConnectionFactory.makeObject(PoolableConnectionFactory.java:582)\\\\n\\\\tat org.apache.commons.dbcp.BasicDataSource.validateConnectionFactory(BasicDataSource.java:1556)\\\\n\\\\tat org.apache.commons.dbcp.BasicDataSource.createPoolableConnectionFactory(BasicDataSource.java:1545)\\\\n\\\\t... 133 more\\\\n</pre>\\\\n<hr><a href=\"https://eclipse.org/jetty\">Powered by Jetty:// 9.4.36.v20210114</a><hr/>\\\\n\\\\n</body>\\\\n</html>\\\\n\\''"
      ]
     },
     "execution_count": 32,
     "metadata": {},
     "output_type": "execute_result"
    }
   ],
   "source": [
    "geo.create_featurestore(store_name='geo_data', workspace='demo', db='postgres', host='postgres', pg_user='foo',\n",
    "                        pg_password='fooBar')\n",
    "geo.publish_featurestore(workspace='demo', store_name='geo_data', pg_table='portugalpower.planet_osm_point')\n"
   ]
  },
  {
   "cell_type": "code",
   "execution_count": null,
   "id": "553e437e-ed03-4fd8-bbfa-dc17e93d067b",
   "metadata": {},
   "outputs": [],
   "source": []
  }
 ],
 "metadata": {
  "kernelspec": {
   "display_name": "Python 3 (ipykernel)",
   "language": "python",
   "name": "python3"
  },
  "language_info": {
   "codemirror_mode": {
    "name": "ipython",
    "version": 3
   },
   "file_extension": ".py",
   "mimetype": "text/x-python",
   "name": "python",
   "nbconvert_exporter": "python",
   "pygments_lexer": "ipython3",
   "version": "3.9.7"
  }
 },
 "nbformat": 4,
 "nbformat_minor": 5
}
