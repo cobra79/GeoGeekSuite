{
 "cells": [
  {
   "cell_type": "code",
   "execution_count": null,
   "id": "b02fcaa5-ad54-43b1-9bef-15131586562f",
   "metadata": {},
   "outputs": [],
   "source": [
    "import geopandas as gpd\n",
    "import cobra.postgres.interface as pgi\n",
    "import cobra.utils.filehandling as fh\n",
    "import cobra.utils.jobhandling as jh"
   ]
  },
  {
   "cell_type": "code",
   "execution_count": null,
   "id": "6e267796-d56d-47ee-b6ac-8f28921fc99a",
   "metadata": {},
   "outputs": [],
   "source": [
    "fileman = fh.Filemanager()\n",
    "jobman = jh.Jobmanager()"
   ]
  },
  {
   "cell_type": "code",
   "execution_count": null,
   "id": "6227fcd0-59a3-41ba-94e3-447c4de86781",
   "metadata": {},
   "outputs": [],
   "source": [
    "#fileman.download_shape_archive('https://download.geofabrik.de/europe/portugal-latest-free.shp.zip','Portugal')\n",
    "\n",
    "#fileman.download_shape_archive('https://download.geofabrik.de/europe/germany/nordrhein-westfalen/detmold-regbez-latest-free.shp.zip', 'Duesseldorf')"
   ]
  },
  {
   "cell_type": "code",
   "execution_count": null,
   "id": "6012aab0-0b22-4671-9fe8-eb53e55c4225",
   "metadata": {},
   "outputs": [],
   "source": [
    "fileman.get_data().head(15)"
   ]
  },
  {
   "cell_type": "code",
   "execution_count": null,
   "id": "7195a847-4f1f-4590-b6d3-cf4836673d6e",
   "metadata": {},
   "outputs": [],
   "source": [
    "datasets = fileman.get_data()\n",
    "ddorf_buildings = datasets.iloc[1]"
   ]
  },
  {
   "cell_type": "code",
   "execution_count": null,
   "id": "be203fd8-5958-4763-a9d1-7b10da04e6bb",
   "metadata": {},
   "outputs": [],
   "source": [
    "jobman.create_job_from_dataset(ddorf_buildings, schema='chaosdorf')"
   ]
  },
  {
   "cell_type": "code",
   "execution_count": null,
   "id": "d42a723d-ef76-4f4d-a1e1-17c7d1a7f2e5",
   "metadata": {},
   "outputs": [],
   "source": [
    "jobman.get_jobs(df=True)"
   ]
  },
  {
   "cell_type": "code",
   "execution_count": null,
   "id": "880e8341-c33c-4b3a-9044-75f667065feb",
   "metadata": {},
   "outputs": [],
   "source": [
    "pg_interface = pgi.PgInterface()\n",
    "conn = pg_interface.get_connection()"
   ]
  },
  {
   "cell_type": "code",
   "execution_count": null,
   "id": "ae8d5d7e-5ce4-436f-99df-8cfbc492c2d3",
   "metadata": {},
   "outputs": [],
   "source": [
    "sql = \"SELECT name, wkb_geometry as geom FROM chaosdorf.gis_osm_pois_free_1 WHERE fclass='pub'\""
   ]
  },
  {
   "cell_type": "code",
   "execution_count": null,
   "id": "5e272022-1941-4d74-87a0-534a9d1e0b00",
   "metadata": {},
   "outputs": [],
   "source": [
    "poi = gpd.GeoDataFrame.from_postgis(sql, conn)"
   ]
  },
  {
   "cell_type": "code",
   "execution_count": null,
   "id": "baba4b80-07a4-4734-a6ce-22423ba7cbc0",
   "metadata": {},
   "outputs": [],
   "source": [
    "poi.plot()"
   ]
  },
  {
   "cell_type": "code",
   "execution_count": null,
   "id": "1d91f60f-b987-4a5a-ae8d-535ff38eab0b",
   "metadata": {},
   "outputs": [],
   "source": []
  }
 ],
 "metadata": {
  "kernelspec": {
   "display_name": "Python 3 (ipykernel)",
   "language": "python",
   "name": "python3"
  },
  "language_info": {
   "codemirror_mode": {
    "name": "ipython",
    "version": 3
   },
   "file_extension": ".py",
   "mimetype": "text/x-python",
   "name": "python",
   "nbconvert_exporter": "python",
   "pygments_lexer": "ipython3",
   "version": "3.9.7"
  }
 },
 "nbformat": 4,
 "nbformat_minor": 5
}
