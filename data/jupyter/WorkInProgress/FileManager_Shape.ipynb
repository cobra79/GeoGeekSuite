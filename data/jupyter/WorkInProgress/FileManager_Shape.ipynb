{
 "cells": [
  {
   "cell_type": "code",
   "execution_count": 1,
   "id": "b02fcaa5-ad54-43b1-9bef-15131586562f",
   "metadata": {},
   "outputs": [],
   "source": [
    "import cobra.utils.filehandling as fh\n",
    "import cobra.utils.jobhandling as jh"
   ]
  },
  {
   "cell_type": "code",
   "execution_count": 2,
   "id": "6e267796-d56d-47ee-b6ac-8f28921fc99a",
   "metadata": {},
   "outputs": [],
   "source": [
    "fileman = fh.Filemanager()\n",
    "jobman = jh.Jobmanager()"
   ]
  },
  {
   "cell_type": "code",
   "execution_count": null,
   "id": "6227fcd0-59a3-41ba-94e3-447c4de86781",
   "metadata": {},
   "outputs": [],
   "source": [
    "#fileman.download_shape_archive('https://download.geofabrik.de/europe/portugal-latest-free.shp.zip','Portugal')\n",
    "\n",
    "#fileman.download_shape_archive('https://download.geofabrik.de/europe/germany/nordrhein-westfalen/detmold-regbez-latest-free.shp.zip', 'Duesseldorf')"
   ]
  },
  {
   "cell_type": "code",
   "execution_count": 3,
   "id": "6012aab0-0b22-4671-9fe8-eb53e55c4225",
   "metadata": {},
   "outputs": [
    {
     "data": {
      "text/html": [
       "<div>\n",
       "<style scoped>\n",
       "    .dataframe tbody tr th:only-of-type {\n",
       "        vertical-align: middle;\n",
       "    }\n",
       "\n",
       "    .dataframe tbody tr th {\n",
       "        vertical-align: top;\n",
       "    }\n",
       "\n",
       "    .dataframe thead th {\n",
       "        text-align: right;\n",
       "    }\n",
       "</style>\n",
       "<table border=\"1\" class=\"dataframe\">\n",
       "  <thead>\n",
       "    <tr style=\"text-align: right;\">\n",
       "      <th></th>\n",
       "      <th>Type</th>\n",
       "      <th>Dataset</th>\n",
       "      <th>File</th>\n",
       "      <th>Path</th>\n",
       "      <th>Size (MB)</th>\n",
       "    </tr>\n",
       "  </thead>\n",
       "  <tbody>\n",
       "    <tr>\n",
       "      <th>0</th>\n",
       "      <td>Shape</td>\n",
       "      <td>Duesseldorf</td>\n",
       "      <td>gis_osm_buildings_a_free_1.shp</td>\n",
       "      <td>/download/Duesseldorf</td>\n",
       "      <td>357.60</td>\n",
       "    </tr>\n",
       "    <tr>\n",
       "      <th>1</th>\n",
       "      <td>Shape</td>\n",
       "      <td>Duesseldorf</td>\n",
       "      <td>gis_osm_pois_free_1.shp</td>\n",
       "      <td>/download/Duesseldorf</td>\n",
       "      <td>10.24</td>\n",
       "    </tr>\n",
       "    <tr>\n",
       "      <th>2</th>\n",
       "      <td>Shape</td>\n",
       "      <td>Duesseldorf</td>\n",
       "      <td>gis_osm_natural_a_free_1.shp</td>\n",
       "      <td>/download/Duesseldorf</td>\n",
       "      <td>0.03</td>\n",
       "    </tr>\n",
       "    <tr>\n",
       "      <th>3</th>\n",
       "      <td>Shape</td>\n",
       "      <td>Duesseldorf</td>\n",
       "      <td>gis_osm_transport_free_1.shp</td>\n",
       "      <td>/download/Duesseldorf</td>\n",
       "      <td>2.06</td>\n",
       "    </tr>\n",
       "    <tr>\n",
       "      <th>4</th>\n",
       "      <td>Shape</td>\n",
       "      <td>Duesseldorf</td>\n",
       "      <td>gis_osm_traffic_a_free_1.shp</td>\n",
       "      <td>/download/Duesseldorf</td>\n",
       "      <td>5.22</td>\n",
       "    </tr>\n",
       "  </tbody>\n",
       "</table>\n",
       "</div>"
      ],
      "text/plain": [
       "    Type      Dataset                            File                   Path  \\\n",
       "0  Shape  Duesseldorf  gis_osm_buildings_a_free_1.shp  /download/Duesseldorf   \n",
       "1  Shape  Duesseldorf         gis_osm_pois_free_1.shp  /download/Duesseldorf   \n",
       "2  Shape  Duesseldorf    gis_osm_natural_a_free_1.shp  /download/Duesseldorf   \n",
       "3  Shape  Duesseldorf    gis_osm_transport_free_1.shp  /download/Duesseldorf   \n",
       "4  Shape  Duesseldorf    gis_osm_traffic_a_free_1.shp  /download/Duesseldorf   \n",
       "\n",
       "   Size (MB)  \n",
       "0     357.60  \n",
       "1      10.24  \n",
       "2       0.03  \n",
       "3       2.06  \n",
       "4       5.22  "
      ]
     },
     "execution_count": 3,
     "metadata": {},
     "output_type": "execute_result"
    }
   ],
   "source": [
    "fileman.get_data().head()"
   ]
  },
  {
   "cell_type": "code",
   "execution_count": 13,
   "id": "7195a847-4f1f-4590-b6d3-cf4836673d6e",
   "metadata": {},
   "outputs": [],
   "source": [
    "datasets = fileman.get_data()\n",
    "ddorf_buildings = datasets.iloc[1]"
   ]
  },
  {
   "cell_type": "code",
   "execution_count": 14,
   "id": "be203fd8-5958-4763-a9d1-7b10da04e6bb",
   "metadata": {},
   "outputs": [],
   "source": [
    "jobman.create_job_from_dataset(ddorf_buildings)"
   ]
  },
  {
   "cell_type": "code",
   "execution_count": 15,
   "id": "d42a723d-ef76-4f4d-a1e1-17c7d1a7f2e5",
   "metadata": {},
   "outputs": [
    {
     "data": {
      "text/html": [
       "<div>\n",
       "<style scoped>\n",
       "    .dataframe tbody tr th:only-of-type {\n",
       "        vertical-align: middle;\n",
       "    }\n",
       "\n",
       "    .dataframe tbody tr th {\n",
       "        vertical-align: top;\n",
       "    }\n",
       "\n",
       "    .dataframe thead th {\n",
       "        text-align: right;\n",
       "    }\n",
       "</style>\n",
       "<table border=\"1\" class=\"dataframe\">\n",
       "  <thead>\n",
       "    <tr style=\"text-align: right;\">\n",
       "      <th></th>\n",
       "      <th>UUID</th>\n",
       "      <th>Name</th>\n",
       "      <th>Job Type</th>\n",
       "      <th>Date created</th>\n",
       "      <th>Date started</th>\n",
       "      <th>Date finished</th>\n",
       "      <th>Priority</th>\n",
       "      <th>Status</th>\n",
       "    </tr>\n",
       "  </thead>\n",
       "  <tbody>\n",
       "    <tr>\n",
       "      <th>0</th>\n",
       "      <td>a5e43d11-65d0-486a-8b0b-eea86a46b621</td>\n",
       "      <td>Load shape from Duesseldorf</td>\n",
       "      <td>shape2pg</td>\n",
       "      <td>Mon, 27 Dec 2021 16:46:49 GMT</td>\n",
       "      <td>Mon, 27 Dec 2021 17:37:21 GMT</td>\n",
       "      <td>None</td>\n",
       "      <td>42</td>\n",
       "      <td>Failed</td>\n",
       "    </tr>\n",
       "    <tr>\n",
       "      <th>1</th>\n",
       "      <td>604f162f-78d8-48a0-ae82-ef0cbadb2514</td>\n",
       "      <td>Load shape from Duesseldorf</td>\n",
       "      <td>shape2pg</td>\n",
       "      <td>Mon, 27 Dec 2021 18:03:15 GMT</td>\n",
       "      <td>Mon, 27 Dec 2021 18:25:51 GMT</td>\n",
       "      <td>Mon, 27 Dec 2021 18:25:51 GMT</td>\n",
       "      <td>42</td>\n",
       "      <td>Finished</td>\n",
       "    </tr>\n",
       "    <tr>\n",
       "      <th>2</th>\n",
       "      <td>cfd652ec-beb4-4a70-aec5-395f0c500acb</td>\n",
       "      <td>Load shape from Duesseldorf</td>\n",
       "      <td>shape2pg</td>\n",
       "      <td>Mon, 27 Dec 2021 18:40:48 GMT</td>\n",
       "      <td>None</td>\n",
       "      <td>None</td>\n",
       "      <td>42</td>\n",
       "      <td>Waiting</td>\n",
       "    </tr>\n",
       "  </tbody>\n",
       "</table>\n",
       "</div>"
      ],
      "text/plain": [
       "                                   UUID                         Name  \\\n",
       "0  a5e43d11-65d0-486a-8b0b-eea86a46b621  Load shape from Duesseldorf   \n",
       "1  604f162f-78d8-48a0-ae82-ef0cbadb2514  Load shape from Duesseldorf   \n",
       "2  cfd652ec-beb4-4a70-aec5-395f0c500acb  Load shape from Duesseldorf   \n",
       "\n",
       "   Job Type                   Date created                   Date started  \\\n",
       "0  shape2pg  Mon, 27 Dec 2021 16:46:49 GMT  Mon, 27 Dec 2021 17:37:21 GMT   \n",
       "1  shape2pg  Mon, 27 Dec 2021 18:03:15 GMT  Mon, 27 Dec 2021 18:25:51 GMT   \n",
       "2  shape2pg  Mon, 27 Dec 2021 18:40:48 GMT                           None   \n",
       "\n",
       "                   Date finished  Priority    Status  \n",
       "0                           None        42    Failed  \n",
       "1  Mon, 27 Dec 2021 18:25:51 GMT        42  Finished  \n",
       "2                           None        42   Waiting  "
      ]
     },
     "execution_count": 15,
     "metadata": {},
     "output_type": "execute_result"
    }
   ],
   "source": [
    "jobman.get_jobs(df=True)"
   ]
  },
  {
   "cell_type": "code",
   "execution_count": null,
   "id": "17724e56-50bf-4b70-b635-8e26a2c2b712",
   "metadata": {},
   "outputs": [],
   "source": []
  },
  {
   "cell_type": "code",
   "execution_count": null,
   "id": "e21f6a00-7553-4e5c-9338-44fc842dc162",
   "metadata": {},
   "outputs": [],
   "source": []
  }
 ],
 "metadata": {
  "kernelspec": {
   "display_name": "Python 3 (ipykernel)",
   "language": "python",
   "name": "python3"
  },
  "language_info": {
   "codemirror_mode": {
    "name": "ipython",
    "version": 3
   },
   "file_extension": ".py",
   "mimetype": "text/x-python",
   "name": "python",
   "nbconvert_exporter": "python",
   "pygments_lexer": "ipython3",
   "version": "3.9.7"
  }
 },
 "nbformat": 4,
 "nbformat_minor": 5
}
