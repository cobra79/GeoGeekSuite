{
 "cells": [
  {
   "cell_type": "code",
   "execution_count": 5,
   "id": "00a912dc-541e-42be-84fd-9e8cf740d381",
   "metadata": {},
   "outputs": [],
   "source": [
    "import cobra_logging\n",
    "import cobra_postgres as pg\n",
    "import cobra_datamodelfabric\n",
    "import os"
   ]
  },
  {
   "cell_type": "code",
   "execution_count": 2,
   "id": "7e6ffc16-c1fd-44b5-8ff0-caba756ec889",
   "metadata": {},
   "outputs": [],
   "source": [
    "dinos_dm_dict = {\n",
    "    'name': 'dinos',\n",
    "    'tables':[\n",
    "        {\n",
    "            'tablename':'trex',\n",
    "            'fields':[\n",
    "                {'name':'size','type':'numeric'},\n",
    "                {'name':'name', 'type':'VARCHAR(50)'}\n",
    "            ]\n",
    "        }\n",
    "    ]\n",
    "}"
   ]
  },
  {
   "cell_type": "code",
   "execution_count": 6,
   "id": "5c6c8b1b-b0a5-47d2-a082-1433846c2f7d",
   "metadata": {},
   "outputs": [],
   "source": [
    "dmf = cobra_datamodelfabric.DataModelFabric()"
   ]
  },
  {
   "cell_type": "code",
   "execution_count": 7,
   "id": "e9f9a208-f89b-4c99-b8a6-0dcee46006a1",
   "metadata": {},
   "outputs": [],
   "source": [
    "dinos_dm = dmf.create_from_dict(dinos_dm_dict)"
   ]
  },
  {
   "cell_type": "code",
   "execution_count": 8,
   "id": "d4dbffce-7a52-4694-a2de-630db0a70cd8",
   "metadata": {},
   "outputs": [],
   "source": [
    "dm_man = pg.DataModelManager()"
   ]
  },
  {
   "cell_type": "code",
   "execution_count": 9,
   "id": "24a4e428-2a14-4cc1-a15c-b3c198a36a8d",
   "metadata": {},
   "outputs": [],
   "source": [
    "dm_man.add_datamodel(dinos_dm)"
   ]
  },
  {
   "cell_type": "code",
   "execution_count": 10,
   "id": "4299afa4-a6f4-44bd-8868-f1d0eaec5150",
   "metadata": {},
   "outputs": [
    {
     "name": "stdout",
     "output_type": "stream",
     "text": [
      "None\n"
     ]
    }
   ],
   "source": [
    "dm_man.apply_datamodel('dinos')"
   ]
  },
  {
   "cell_type": "code",
   "execution_count": 11,
   "id": "41af7deb-8201-435c-a4a5-8ab304c5a2b4",
   "metadata": {},
   "outputs": [],
   "source": [
    "#dm_man.remove_datamodel('dinos')"
   ]
  },
  {
   "cell_type": "code",
   "execution_count": null,
   "id": "3b4ee3aa-1b61-4bee-ad65-500c56dfc951",
   "metadata": {},
   "outputs": [],
   "source": []
  }
 ],
 "metadata": {
  "kernelspec": {
   "display_name": "Python 3 (ipykernel)",
   "language": "python",
   "name": "python3"
  },
  "language_info": {
   "codemirror_mode": {
    "name": "ipython",
    "version": 3
   },
   "file_extension": ".py",
   "mimetype": "text/x-python",
   "name": "python",
   "nbconvert_exporter": "python",
   "pygments_lexer": "ipython3",
   "version": "3.9.7"
  }
 },
 "nbformat": 4,
 "nbformat_minor": 5
}
