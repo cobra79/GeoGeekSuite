{
 "cells": [
  {
   "cell_type": "code",
   "execution_count": 1,
   "id": "1321e022-4408-417b-ab70-9b88a1e9f30c",
   "metadata": {},
   "outputs": [],
   "source": [
    "import geopandas as gpd\n",
    "import cobra.postgres.interface as pgi\n",
    "import cobra.utils.filehandling as fh\n",
    "import cobra.utils.jobhandling as jh\n",
    "import geopandas as gpd\n",
    "import cobra.utils.geodatahandling as gdh"
   ]
  },
  {
   "cell_type": "code",
   "execution_count": 2,
   "id": "aeb72a73-bac3-465d-979c-928c079f36d3",
   "metadata": {},
   "outputs": [],
   "source": [
    "fileman = fh.Filemanager()\n",
    "jobman = jh.Jobmanager()"
   ]
  },
  {
   "cell_type": "code",
   "execution_count": 3,
   "id": "576f16d1-d6e4-4190-8af0-e52541463491",
   "metadata": {},
   "outputs": [
    {
     "data": {
      "text/html": [
       "<div>\n",
       "<style scoped>\n",
       "    .dataframe tbody tr th:only-of-type {\n",
       "        vertical-align: middle;\n",
       "    }\n",
       "\n",
       "    .dataframe tbody tr th {\n",
       "        vertical-align: top;\n",
       "    }\n",
       "\n",
       "    .dataframe thead th {\n",
       "        text-align: right;\n",
       "    }\n",
       "</style>\n",
       "<table border=\"1\" class=\"dataframe\">\n",
       "  <thead>\n",
       "    <tr style=\"text-align: right;\">\n",
       "      <th></th>\n",
       "      <th>Type</th>\n",
       "      <th>Dataset</th>\n",
       "      <th>File</th>\n",
       "      <th>Path</th>\n",
       "      <th>Size (MB)</th>\n",
       "    </tr>\n",
       "  </thead>\n",
       "  <tbody>\n",
       "    <tr>\n",
       "      <th>41</th>\n",
       "      <td>OSM PBF</td>\n",
       "      <td>Norway</td>\n",
       "      <td>norway-latest.osm.pbf</td>\n",
       "      <td>/download/Norway</td>\n",
       "      <td>1032.52</td>\n",
       "    </tr>\n",
       "    <tr>\n",
       "      <th>42</th>\n",
       "      <td>OSM PBF</td>\n",
       "      <td>rbzddorf</td>\n",
       "      <td>duesseldorf-regbez-latest.osm.pbf</td>\n",
       "      <td>/download/rbzddorf</td>\n",
       "      <td>171.87</td>\n",
       "    </tr>\n",
       "    <tr>\n",
       "      <th>43</th>\n",
       "      <td>OSM PBF</td>\n",
       "      <td>Faroe</td>\n",
       "      <td>faroe-islands-latest.osm.pbf</td>\n",
       "      <td>/download/Faroe</td>\n",
       "      <td>4.59</td>\n",
       "    </tr>\n",
       "  </tbody>\n",
       "</table>\n",
       "</div>"
      ],
      "text/plain": [
       "       Type   Dataset                               File                Path  \\\n",
       "41  OSM PBF    Norway              norway-latest.osm.pbf    /download/Norway   \n",
       "42  OSM PBF  rbzddorf  duesseldorf-regbez-latest.osm.pbf  /download/rbzddorf   \n",
       "43  OSM PBF     Faroe       faroe-islands-latest.osm.pbf     /download/Faroe   \n",
       "\n",
       "    Size (MB)  \n",
       "41    1032.52  \n",
       "42     171.87  \n",
       "43       4.59  "
      ]
     },
     "execution_count": 3,
     "metadata": {},
     "output_type": "execute_result"
    }
   ],
   "source": [
    "datasets = fileman.get_data(datatype='OSM PBF')\n",
    "datasets.head()"
   ]
  },
  {
   "cell_type": "code",
   "execution_count": 5,
   "id": "1affc7af-6019-4194-9d60-62ca24ceab5c",
   "metadata": {},
   "outputs": [],
   "source": [
    "rbzddorf = datasets.iloc[1]"
   ]
  },
  {
   "cell_type": "code",
   "execution_count": 6,
   "id": "0cd8bd5a-7e50-4d30-8079-be0132b166e9",
   "metadata": {},
   "outputs": [
    {
     "data": {
      "text/plain": [
       "Type                                   OSM PBF\n",
       "Dataset                               rbzddorf\n",
       "File         duesseldorf-regbez-latest.osm.pbf\n",
       "Path                        /download/rbzddorf\n",
       "Size (MB)                               171.87\n",
       "Name: 42, dtype: object"
      ]
     },
     "execution_count": 6,
     "metadata": {},
     "output_type": "execute_result"
    }
   ],
   "source": [
    "rbzddorf"
   ]
  },
  {
   "cell_type": "code",
   "execution_count": 14,
   "id": "22b734bb-b900-4b0d-914d-7431aa8d428c",
   "metadata": {},
   "outputs": [],
   "source": [
    "jobman.create_import_job_from_dataset(rbzddorf, 'rbzddorfpower', style='/styles/power.style')"
   ]
  },
  {
   "cell_type": "code",
   "execution_count": 16,
   "id": "c0f237d3-0127-4796-8cbc-2918cbdb65a5",
   "metadata": {},
   "outputs": [
    {
     "data": {
      "text/html": [
       "<div>\n",
       "<style scoped>\n",
       "    .dataframe tbody tr th:only-of-type {\n",
       "        vertical-align: middle;\n",
       "    }\n",
       "\n",
       "    .dataframe tbody tr th {\n",
       "        vertical-align: top;\n",
       "    }\n",
       "\n",
       "    .dataframe thead th {\n",
       "        text-align: right;\n",
       "    }\n",
       "</style>\n",
       "<table border=\"1\" class=\"dataframe\">\n",
       "  <thead>\n",
       "    <tr style=\"text-align: right;\">\n",
       "      <th></th>\n",
       "      <th>UUID</th>\n",
       "      <th>Name</th>\n",
       "      <th>Job Type</th>\n",
       "      <th>Date created</th>\n",
       "      <th>Date started</th>\n",
       "      <th>Date finished</th>\n",
       "      <th>Priority</th>\n",
       "      <th>Status</th>\n",
       "    </tr>\n",
       "  </thead>\n",
       "  <tbody>\n",
       "    <tr>\n",
       "      <th>0</th>\n",
       "      <td>185f0d0f-ba2a-48b2-ae10-50aaaa755670</td>\n",
       "      <td>Load OSM from Norway</td>\n",
       "      <td>osm2pg</td>\n",
       "      <td>Tue, 18 Jan 2022 21:43:55 GMT</td>\n",
       "      <td>None</td>\n",
       "      <td>None</td>\n",
       "      <td>42</td>\n",
       "      <td>Failed</td>\n",
       "    </tr>\n",
       "    <tr>\n",
       "      <th>1</th>\n",
       "      <td>ab15a4e3-b0a3-4b48-9698-05fbc822f0e0</td>\n",
       "      <td>Load OSM from rbzddorf</td>\n",
       "      <td>osm2pg</td>\n",
       "      <td>Tue, 18 Jan 2022 21:50:44 GMT</td>\n",
       "      <td>None</td>\n",
       "      <td>None</td>\n",
       "      <td>42</td>\n",
       "      <td>Failed</td>\n",
       "    </tr>\n",
       "    <tr>\n",
       "      <th>2</th>\n",
       "      <td>dcfcc3d3-306a-44bb-adea-2b7d3468fde6</td>\n",
       "      <td>Load OSM from rbzddorf</td>\n",
       "      <td>osm2pg</td>\n",
       "      <td>Tue, 18 Jan 2022 21:52:38 GMT</td>\n",
       "      <td>None</td>\n",
       "      <td>None</td>\n",
       "      <td>42</td>\n",
       "      <td>Failed</td>\n",
       "    </tr>\n",
       "  </tbody>\n",
       "</table>\n",
       "</div>"
      ],
      "text/plain": [
       "                                   UUID                    Name Job Type  \\\n",
       "0  185f0d0f-ba2a-48b2-ae10-50aaaa755670    Load OSM from Norway   osm2pg   \n",
       "1  ab15a4e3-b0a3-4b48-9698-05fbc822f0e0  Load OSM from rbzddorf   osm2pg   \n",
       "2  dcfcc3d3-306a-44bb-adea-2b7d3468fde6  Load OSM from rbzddorf   osm2pg   \n",
       "\n",
       "                    Date created Date started Date finished  Priority  Status  \n",
       "0  Tue, 18 Jan 2022 21:43:55 GMT         None          None        42  Failed  \n",
       "1  Tue, 18 Jan 2022 21:50:44 GMT         None          None        42  Failed  \n",
       "2  Tue, 18 Jan 2022 21:52:38 GMT         None          None        42  Failed  "
      ]
     },
     "execution_count": 16,
     "metadata": {},
     "output_type": "execute_result"
    }
   ],
   "source": [
    "jobman.get_jobs(df=True)"
   ]
  },
  {
   "cell_type": "code",
   "execution_count": null,
   "id": "04270dd0-8982-4fab-8fed-9dbf17fa1e7e",
   "metadata": {},
   "outputs": [],
   "source": [
    "sql = 'SELECT osm.way AS geom, osm.* FROM rbzddorfpower.planet_osm_line osm WHERE power IS NOT NULL'"
   ]
  },
  {
   "cell_type": "code",
   "execution_count": null,
   "id": "f65c4690-cb4a-4dcb-99b8-2dde610464b9",
   "metadata": {},
   "outputs": [],
   "source": [
    "pg_interface = pgi.PgInterface()\n",
    "conn = pg_interface.get_connection()\n",
    "powerlines = gpd.GeoDataFrame.from_postgis(sql, conn)"
   ]
  },
  {
   "cell_type": "code",
   "execution_count": null,
   "id": "68407f09-1bc6-41b5-a7f3-d7a36edb18c2",
   "metadata": {},
   "outputs": [],
   "source": [
    "powerlines.head()"
   ]
  },
  {
   "cell_type": "code",
   "execution_count": null,
   "id": "611b1e1a-8380-4c4a-b8e1-f551dad5cdf4",
   "metadata": {},
   "outputs": [],
   "source": [
    "powerlines.plot(figsize=(16, 16))"
   ]
  },
  {
   "cell_type": "code",
   "execution_count": null,
   "id": "03191606-8001-4133-81aa-013d21a8d5d2",
   "metadata": {},
   "outputs": [],
   "source": []
  }
 ],
 "metadata": {
  "kernelspec": {
   "display_name": "Python 3 (ipykernel)",
   "language": "python",
   "name": "python3"
  },
  "language_info": {
   "codemirror_mode": {
    "name": "ipython",
    "version": 3
   },
   "file_extension": ".py",
   "mimetype": "text/x-python",
   "name": "python",
   "nbconvert_exporter": "python",
   "pygments_lexer": "ipython3",
   "version": "3.9.7"
  }
 },
 "nbformat": 4,
 "nbformat_minor": 5
}
