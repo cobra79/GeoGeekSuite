{
 "cells": [
  {
   "cell_type": "code",
   "execution_count": 1,
   "id": "93bececf-6d71-47c7-9a9f-86ac9ea131ec",
   "metadata": {},
   "outputs": [],
   "source": [
    "from cobra.postgres.interface import PgInterface\n",
    "from cobra.utils.osmiq import OsmIq"
   ]
  },
  {
   "cell_type": "code",
   "execution_count": 2,
   "id": "b61f98c5-41c3-445c-8b60-e2dec6d53124",
   "metadata": {},
   "outputs": [],
   "source": [
    "osmiq = OsmIq()"
   ]
  },
  {
   "cell_type": "code",
   "execution_count": 3,
   "id": "bf57c5a8-47c0-49ad-b94f-201738518673",
   "metadata": {},
   "outputs": [
    {
     "data": {
      "text/plain": [
       "{'point': 319, 'line': 1088, 'polygon': 11, 'roads': 0}"
      ]
     },
     "execution_count": 3,
     "metadata": {},
     "output_type": "execute_result"
    }
   ],
   "source": [
    "osmiq.osm_tag_stats(key='power',value='substation', schema='portugalpower')"
   ]
  },
  {
   "cell_type": "code",
   "execution_count": 4,
   "id": "76ede4ed-2b38-411a-ba9c-faf2d4d34e1e",
   "metadata": {},
   "outputs": [],
   "source": [
    "from matplotlib import pyplot as plt"
   ]
  },
  {
   "cell_type": "code",
   "execution_count": 5,
   "id": "18790c77-c896-4e92-af16-b254da39df24",
   "metadata": {},
   "outputs": [],
   "source": [
    "def create_jointed_point_feature(key, value, schema):\n",
    "    \n",
    "    i = PgInterface()\n",
    "    sql = f\"SELECT way AS geom, osm_id, substation, ST_Centroid(way) FROM portugalpower.planet_osm_point WHERE {key} = '{value}'\"\n",
    "    point_df = i.get_gdf(sql)\n",
    "    sql = f\"SELECT way AS geom, osm_id, substation, ST_Centroid(way) FROM portugalpower.planet_osm_line WHERE {key} = '{value}'\"\n",
    "    line_df = i.get_gdf(sql)\n",
    "    sql = f\"SELECT way AS geom, osm_id, substation, ST_Centroid(way) FROM portugalpower.planet_osm_polygon WHERE {key} = '{value}'\"\n",
    "    polygon_df = i.get_gdf(sql)\n",
    "    \n",
    "    ax = point_df.plot()\n",
    "    line_df.plot(ax=ax)\n",
    "    polygon_df.plot(ax=ax)\n",
    "\n",
    "    plt.show()\n",
    "    "
   ]
  },
  {
   "cell_type": "code",
   "execution_count": 6,
   "id": "696545d9-bbb6-4349-86ef-7bf0174c86c4",
   "metadata": {},
   "outputs": [
    {
     "data": {
      "image/png": "[encoded data removed]",
      "text/plain": [
       "<Figure size 432x288 with 1 Axes>"
      ]
     },
     "metadata": {
      "needs_background": "light"
     },
     "output_type": "display_data"
    },
    {
     "ename": "AttributeError",
     "evalue": "'NoneType' object has no attribute 'plot'",
     "output_type": "error",
     "traceback": [
      "\u001b[0;31m---------------------------------------------------------------------------\u001b[0m",
      "\u001b[0;31mAttributeError\u001b[0m                            Traceback (most recent call last)",
      "\u001b[0;32m/tmp/ipykernel_345/949605127.py\u001b[0m in \u001b[0;36m<module>\u001b[0;34m\u001b[0m\n\u001b[0;32m----> 1\u001b[0;31m \u001b[0mcreate_jointed_point_feature\u001b[0m\u001b[0;34m(\u001b[0m\u001b[0mkey\u001b[0m\u001b[0;34m=\u001b[0m\u001b[0;34m'power'\u001b[0m\u001b[0;34m,\u001b[0m \u001b[0mvalue\u001b[0m\u001b[0;34m=\u001b[0m\u001b[0;34m'substation'\u001b[0m\u001b[0;34m,\u001b[0m \u001b[0mschema\u001b[0m\u001b[0;34m=\u001b[0m\u001b[0;34m'portugalpower'\u001b[0m\u001b[0;34m)\u001b[0m\u001b[0;34m.\u001b[0m\u001b[0mplot\u001b[0m\u001b[0;34m(\u001b[0m\u001b[0mfigsize\u001b[0m\u001b[0;34m=\u001b[0m\u001b[0;34m(\u001b[0m\u001b[0;36m16\u001b[0m\u001b[0;34m,\u001b[0m \u001b[0;36m16\u001b[0m\u001b[0;34m)\u001b[0m\u001b[0;34m)\u001b[0m\u001b[0;34m\u001b[0m\u001b[0;34m\u001b[0m\u001b[0m\n\u001b[0m",
      "\u001b[0;31mAttributeError\u001b[0m: 'NoneType' object has no attribute 'plot'"
     ]
    }
   ],
   "source": [
    "create_jointed_point_feature(key='power', value='substation', schema='portugalpower').plot(figsize=(16, 16))"
   ]
  },
  {
   "cell_type": "code",
   "execution_count": null,
   "id": "424cec28-b829-4f83-a8b2-4a931049b971",
   "metadata": {},
   "outputs": [],
   "source": [
    "# SELECT osm_id, substation, way, location, operator, name FROM portugalpower.planet_osm_point WHERE power = 'substation'"
   ]
  },
  {
   "cell_type": "code",
   "execution_count": 7,
   "id": "9ec11dce-685c-4c23-868c-e59db16781d7",
   "metadata": {},
   "outputs": [],
   "source": [
    "datamodel = {\n",
    "    'osm_id': 'bigint',\n",
    "    'substation':'text',\n",
    "    'way':'geometry',\n",
    "    'location':'text',\n",
    "    'operator':'text',\n",
    "    'name':'text'\n",
    "}"
   ]
  },
  {
   "cell_type": "code",
   "execution_count": null,
   "id": "6c2cd4c9-b334-4976-9f1d-338ca2c0f376",
   "metadata": {},
   "outputs": [],
   "source": []
  }
 ],
 "metadata": {
  "kernelspec": {
   "display_name": "Python 3 (ipykernel)",
   "language": "python",
   "name": "python3"
  },
  "language_info": {
   "codemirror_mode": {
    "name": "ipython",
    "version": 3
   },
   "file_extension": ".py",
   "mimetype": "text/x-python",
   "name": "python",
   "nbconvert_exporter": "python",
   "pygments_lexer": "ipython3",
   "version": "3.9.7"
  }
 },
 "nbformat": 4,
 "nbformat_minor": 5
}
