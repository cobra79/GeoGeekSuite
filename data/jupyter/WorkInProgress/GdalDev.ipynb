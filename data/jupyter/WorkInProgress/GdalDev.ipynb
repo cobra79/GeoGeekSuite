{
 "cells": [
  {
   "cell_type": "code",
   "execution_count": 1,
   "id": "9da3fe94-ec23-4dcd-ade0-b352fdf695bf",
   "metadata": {},
   "outputs": [],
   "source": [
    "import cobra_postgres\n",
    "import cobra_datamodelfabric\n",
    "import uuid\n",
    "import time\n",
    "import cobra_jobregistry\n",
    "import cobra_gdal"
   ]
  },
  {
   "cell_type": "code",
   "execution_count": 2,
   "id": "6d2e3907-88c2-4ce2-ae81-2bf5c10d6ee0",
   "metadata": {},
   "outputs": [],
   "source": [
    "reg = cobra_jobregistry.cobra_jobregistry()"
   ]
  },
  {
   "cell_type": "code",
   "execution_count": null,
   "id": "5c5ab9b7-ee12-4ba5-96c8-6296a4474d07",
   "metadata": {},
   "outputs": [],
   "source": [
    "files = ['gis_osm_buildings_a_free_1.shp',\n",
    "'gis_osm_landuse_a_free_1.shp',\n",
    "'gis_osm_natural_a_free_1.shp',\n",
    "'gis_osm_natural_free_1.shp',\n",
    "'gis_osm_places_a_free_1.shp',\n",
    "'gis_osm_places_free_1.shp',\n",
    "'gis_osm_pofw_a_free_1.shp',\n",
    "'gis_osm_pofw_free_1.shp',\n",
    "'gis_osm_pois_a_free_1.shp',\n",
    "'gis_osm_pois_free_1.shp',\n",
    "'gis_osm_railways_free_1.shp',\n",
    "'gis_osm_roads_free_1.shp',\n",
    "'gis_osm_traffic_a_free_1.shp',\n",
    "'gis_osm_traffic_free_1.shp',\n",
    "'gis_osm_transport_a_free_1.shp',\n",
    "'gis_osm_transport_free_1.shp',\n",
    "'gis_osm_water_a_free_1.shp',\n",
    "'gis_osm_waterways_free_1.shp']"
   ]
  },
  {
   "cell_type": "code",
   "execution_count": 3,
   "id": "7234f4c4-37cb-403a-b39e-bab1d7e6b735",
   "metadata": {},
   "outputs": [],
   "source": [
    "reg.create_shape2pg_job(f'/download/gis_osm_water_a_free_1.shp', job_name='Water2')"
   ]
  },
  {
   "cell_type": "code",
   "execution_count": null,
   "id": "3b80523e-a1b2-4601-9010-0d74cc52b433",
   "metadata": {},
   "outputs": [],
   "source": [
    "for a_file in files:\n",
    "    reg.create_shape2pg_job(f'/download/{a_file}')"
   ]
  },
  {
   "cell_type": "code",
   "execution_count": 4,
   "id": "dec2507c-2977-4fb3-81a4-6c9ff35232a9",
   "metadata": {},
   "outputs": [
    {
     "name": "stdout",
     "output_type": "stream",
     "text": [
      "Start main loop\n"
     ]
    },
    {
     "name": "stderr",
     "output_type": "stream",
     "text": [
      "Warning 1: Geometry to be inserted is of type Multi Polygon, whereas the layer geometry type is Polygon.\n",
      "Insertion is likely to fail\n",
      "ERROR 1: COPY statement failed.\n",
      "ERROR:  Geometry type (MultiPolygon) does not match column type (Polygon)\n",
      "CONTEXT:  COPY gis_osm_water_a_free_1, line 852, column wkb_geometry: \"0106000020E6100000110000000103000000010000004A000000A922CB38FC341BC0C7FBCCB458EE4E4010E03EBCF8341BC0...\"\n",
      "\n"
     ]
    },
    {
     "name": "stdout",
     "output_type": "stream",
     "text": [
      "Start main loop\n"
     ]
    },
    {
     "ename": "UnboundLocalError",
     "evalue": "local variable 'job_type' referenced before assignment",
     "output_type": "error",
     "traceback": [
      "\u001b[0;31m---------------------------------------------------------------------------\u001b[0m",
      "\u001b[0;31mUnboundLocalError\u001b[0m                         Traceback (most recent call last)",
      "\u001b[0;32m/tmp/ipykernel_297/1224075988.py\u001b[0m in \u001b[0;36m<module>\u001b[0;34m\u001b[0m\n\u001b[0;32m----> 1\u001b[0;31m \u001b[0mgdal\u001b[0m \u001b[0;34m=\u001b[0m \u001b[0mcobra_gdal\u001b[0m\u001b[0;34m.\u001b[0m\u001b[0mcobra_gdal\u001b[0m\u001b[0;34m(\u001b[0m\u001b[0mschema\u001b[0m\u001b[0;34m=\u001b[0m\u001b[0;34m'osm'\u001b[0m\u001b[0;34m,\u001b[0m \u001b[0mrun_in_loop\u001b[0m\u001b[0;34m=\u001b[0m\u001b[0;32mTrue\u001b[0m\u001b[0;34m)\u001b[0m\u001b[0;34m\u001b[0m\u001b[0;34m\u001b[0m\u001b[0m\n\u001b[0m",
      "\u001b[0;32m/opt/cobra-python-packages/cobra_gdal.py\u001b[0m in \u001b[0;36m__init__\u001b[0;34m(self, download_folder, host, database, user, password, schema, run_in_loop)\u001b[0m\n\u001b[1;32m     26\u001b[0m         \u001b[0mself\u001b[0m\u001b[0;34m.\u001b[0m\u001b[0mbusy\u001b[0m \u001b[0;34m=\u001b[0m \u001b[0;32mFalse\u001b[0m\u001b[0;34m\u001b[0m\u001b[0;34m\u001b[0m\u001b[0m\n\u001b[1;32m     27\u001b[0m         \u001b[0;32mif\u001b[0m \u001b[0mrun_in_loop\u001b[0m\u001b[0;34m:\u001b[0m\u001b[0;34m\u001b[0m\u001b[0;34m\u001b[0m\u001b[0m\n\u001b[0;32m---> 28\u001b[0;31m             \u001b[0mself\u001b[0m\u001b[0;34m.\u001b[0m\u001b[0m_mainloop_\u001b[0m\u001b[0;34m(\u001b[0m\u001b[0;34m)\u001b[0m\u001b[0;34m\u001b[0m\u001b[0;34m\u001b[0m\u001b[0m\n\u001b[0m\u001b[1;32m     29\u001b[0m \u001b[0;34m\u001b[0m\u001b[0m\n\u001b[1;32m     30\u001b[0m     \u001b[0;32mdef\u001b[0m \u001b[0m__repr__\u001b[0m\u001b[0;34m(\u001b[0m\u001b[0mself\u001b[0m\u001b[0;34m)\u001b[0m\u001b[0;34m:\u001b[0m\u001b[0;34m\u001b[0m\u001b[0;34m\u001b[0m\u001b[0m\n",
      "\u001b[0;32m/opt/cobra-python-packages/cobra_gdal.py\u001b[0m in \u001b[0;36m_mainloop_\u001b[0;34m(self)\u001b[0m\n\u001b[1;32m     37\u001b[0m         \u001b[0;32mwhile\u001b[0m \u001b[0;32mTrue\u001b[0m\u001b[0;34m:\u001b[0m\u001b[0;34m\u001b[0m\u001b[0;34m\u001b[0m\u001b[0m\n\u001b[1;32m     38\u001b[0m             \u001b[0mprint\u001b[0m\u001b[0;34m(\u001b[0m\u001b[0;34m'Start main loop'\u001b[0m\u001b[0;34m)\u001b[0m\u001b[0;34m\u001b[0m\u001b[0;34m\u001b[0m\u001b[0m\n\u001b[0;32m---> 39\u001b[0;31m             \u001b[0mself\u001b[0m\u001b[0;34m.\u001b[0m\u001b[0mpick_a_job_when_not_busy\u001b[0m\u001b[0;34m(\u001b[0m\u001b[0;34m)\u001b[0m\u001b[0;34m\u001b[0m\u001b[0;34m\u001b[0m\u001b[0m\n\u001b[0m\u001b[1;32m     40\u001b[0m             \u001b[0mtime\u001b[0m\u001b[0;34m.\u001b[0m\u001b[0msleep\u001b[0m\u001b[0;34m(\u001b[0m\u001b[0;36m5\u001b[0m\u001b[0;34m)\u001b[0m\u001b[0;34m\u001b[0m\u001b[0;34m\u001b[0m\u001b[0m\n\u001b[1;32m     41\u001b[0m \u001b[0;34m\u001b[0m\u001b[0m\n",
      "\u001b[0;32m/opt/cobra-python-packages/cobra_gdal.py\u001b[0m in \u001b[0;36mpick_a_job_when_not_busy\u001b[0;34m(self)\u001b[0m\n\u001b[1;32m     45\u001b[0m         \u001b[0mself\u001b[0m\u001b[0;34m.\u001b[0m\u001b[0ml\u001b[0m\u001b[0;34m.\u001b[0m\u001b[0mdebug\u001b[0m\u001b[0;34m(\u001b[0m\u001b[0;34m'pick_a_job_when_not_busy'\u001b[0m\u001b[0;34m)\u001b[0m\u001b[0;34m\u001b[0m\u001b[0;34m\u001b[0m\u001b[0m\n\u001b[1;32m     46\u001b[0m         \u001b[0;32mif\u001b[0m \u001b[0mself\u001b[0m\u001b[0;34m.\u001b[0m\u001b[0mbusy\u001b[0m \u001b[0;34m==\u001b[0m \u001b[0;32mFalse\u001b[0m\u001b[0;34m:\u001b[0m\u001b[0;34m\u001b[0m\u001b[0;34m\u001b[0m\u001b[0m\n\u001b[0;32m---> 47\u001b[0;31m             \u001b[0mself\u001b[0m\u001b[0;34m.\u001b[0m\u001b[0mpick_a_job\u001b[0m\u001b[0;34m(\u001b[0m\u001b[0;34m)\u001b[0m\u001b[0;34m\u001b[0m\u001b[0;34m\u001b[0m\u001b[0m\n\u001b[0m\u001b[1;32m     48\u001b[0m \u001b[0;34m\u001b[0m\u001b[0m\n\u001b[1;32m     49\u001b[0m     \u001b[0;32mdef\u001b[0m \u001b[0mpick_a_job\u001b[0m\u001b[0;34m(\u001b[0m\u001b[0mself\u001b[0m\u001b[0;34m)\u001b[0m\u001b[0;34m:\u001b[0m\u001b[0;34m\u001b[0m\u001b[0;34m\u001b[0m\u001b[0m\n",
      "\u001b[0;32m/opt/cobra-python-packages/cobra_gdal.py\u001b[0m in \u001b[0;36mpick_a_job\u001b[0;34m(self)\u001b[0m\n\u001b[1;32m     59\u001b[0m                     \u001b[0mjob_type\u001b[0m \u001b[0;34m=\u001b[0m \u001b[0mresult\u001b[0m\u001b[0;34m[\u001b[0m\u001b[0;36m1\u001b[0m\u001b[0;34m]\u001b[0m\u001b[0;34m\u001b[0m\u001b[0;34m\u001b[0m\u001b[0m\n\u001b[1;32m     60\u001b[0m \u001b[0;34m\u001b[0m\u001b[0m\n\u001b[0;32m---> 61\u001b[0;31m                 \u001b[0;32mif\u001b[0m \u001b[0mjob_type\u001b[0m \u001b[0;34m==\u001b[0m \u001b[0;34m'shape2pg'\u001b[0m\u001b[0;34m:\u001b[0m\u001b[0;34m\u001b[0m\u001b[0;34m\u001b[0m\u001b[0m\n\u001b[0m\u001b[1;32m     62\u001b[0m                     \u001b[0mcurs\u001b[0m\u001b[0;34m.\u001b[0m\u001b[0mexecute\u001b[0m\u001b[0;34m(\u001b[0m\u001b[0;34mf\"SELECT path_to_shape, skip_failures FROM gdal.shape2pg WHERE id = '{job_id}'\"\u001b[0m\u001b[0;34m)\u001b[0m\u001b[0;34m\u001b[0m\u001b[0;34m\u001b[0m\u001b[0m\n\u001b[1;32m     63\u001b[0m                     \u001b[0mresult\u001b[0m \u001b[0;34m=\u001b[0m \u001b[0mcurs\u001b[0m\u001b[0;34m.\u001b[0m\u001b[0mfetchone\u001b[0m\u001b[0;34m(\u001b[0m\u001b[0;34m)\u001b[0m\u001b[0;34m\u001b[0m\u001b[0;34m\u001b[0m\u001b[0m\n",
      "\u001b[0;31mUnboundLocalError\u001b[0m: local variable 'job_type' referenced before assignment"
     ]
    }
   ],
   "source": [
    "gdal = cobra_gdal.cobra_gdal(schema='osm', run_in_loop=True)"
   ]
  },
  {
   "cell_type": "code",
   "execution_count": null,
   "id": "c8db3609-0bc2-464b-9ce8-5c3772cb5026",
   "metadata": {},
   "outputs": [],
   "source": [
    "gdal.execute_shape2pg('/download/gis_osm_water_a_free_1.shp', '2c78cc5a-82b4-42a1-a6af-68094bccd807')"
   ]
  },
  {
   "cell_type": "code",
   "execution_count": null,
   "id": "bb2289ce-b72f-4b51-a489-45cc8eae298e",
   "metadata": {},
   "outputs": [],
   "source": []
  }
 ],
 "metadata": {
  "kernelspec": {
   "display_name": "Python 3 (ipykernel)",
   "language": "python",
   "name": "python3"
  },
  "language_info": {
   "codemirror_mode": {
    "name": "ipython",
    "version": 3
   },
   "file_extension": ".py",
   "mimetype": "text/x-python",
   "name": "python",
   "nbconvert_exporter": "python",
   "pygments_lexer": "ipython3",
   "version": "3.9.7"
  }
 },
 "nbformat": 4,
 "nbformat_minor": 5
}
