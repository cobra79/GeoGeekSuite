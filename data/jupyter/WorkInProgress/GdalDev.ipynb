{
 "cells": [
  {
   "cell_type": "code",
   "execution_count": 1,
   "id": "9da3fe94-ec23-4dcd-ade0-b352fdf695bf",
   "metadata": {},
   "outputs": [],
   "source": [
    "import cobra_postgres\n",
    "import cobra_datamodelfabric\n",
    "import uuid\n",
    "import time\n",
    "import cobra_jobregistry\n",
    "import cobra_gdal"
   ]
  },
  {
   "cell_type": "code",
   "execution_count": 2,
   "id": "6d2e3907-88c2-4ce2-ae81-2bf5c10d6ee0",
   "metadata": {},
   "outputs": [],
   "source": [
    "reg = cobra_jobregistry.cobra_jobregistry()"
   ]
  },
  {
   "cell_type": "code",
   "execution_count": 3,
   "id": "5c5ab9b7-ee12-4ba5-96c8-6296a4474d07",
   "metadata": {},
   "outputs": [],
   "source": [
    "files = ['gis_osm_buildings_a_free_1.shp',\n",
    "'gis_osm_landuse_a_free_1.shp',\n",
    "'gis_osm_natural_a_free_1.shp',\n",
    "'gis_osm_natural_free_1.shp',\n",
    "'gis_osm_places_a_free_1.shp',\n",
    "'gis_osm_places_free_1.shp',\n",
    "'gis_osm_pofw_a_free_1.shp',\n",
    "'gis_osm_pofw_free_1.shp',\n",
    "'gis_osm_pois_a_free_1.shp',\n",
    "'gis_osm_pois_free_1.shp',\n",
    "'gis_osm_railways_free_1.shp',\n",
    "'gis_osm_roads_free_1.shp',\n",
    "'gis_osm_traffic_a_free_1.shp',\n",
    "'gis_osm_traffic_free_1.shp',\n",
    "'gis_osm_transport_a_free_1.shp',\n",
    "'gis_osm_transport_free_1.shp',\n",
    "'gis_osm_water_a_free_1.shp',\n",
    "'gis_osm_waterways_free_1.shp']"
   ]
  },
  {
   "cell_type": "code",
   "execution_count": 4,
   "id": "3b80523e-a1b2-4601-9010-0d74cc52b433",
   "metadata": {},
   "outputs": [],
   "source": [
    "for a_file in files:\n",
    "    reg.create_shape2pg_job(f'/download/{a_file}')"
   ]
  },
  {
   "cell_type": "code",
   "execution_count": null,
   "id": "dec2507c-2977-4fb3-81a4-6c9ff35232a9",
   "metadata": {},
   "outputs": [
    {
     "name": "stderr",
     "output_type": "stream",
     "text": [
      "Warning 1: Geometry to be inserted is of type Multi Polygon, whereas the layer geometry type is Polygon.\n",
      "Insertion is likely to fail\n",
      "ERROR 1: COPY statement failed.\n",
      "ERROR:  Geometry type (MultiPolygon) does not match column type (Polygon)\n",
      "CONTEXT:  COPY gis_osm_landuse_a_free_1, line 255, column wkb_geometry: \"0106000020E610000002000000010300000001000000580000002E36525B8FFF1AC0906EDFFEB7134F4091E6D9F687FF1AC0...\"\n",
      "\n",
      "Warning 1: Geometry to be inserted is of type Multi Polygon, whereas the layer geometry type is Polygon.\n",
      "Insertion is likely to fail\n",
      "ERROR 1: COPY statement failed.\n",
      "ERROR:  Geometry type (MultiPolygon) does not match column type (Polygon)\n",
      "CONTEXT:  COPY gis_osm_natural_a_free_1, line 118, column wkb_geometry: \"0106000020E61000000200000001030000000100000011000000DA4CCF053F2B1CC0FAA69F26E91C4F403A7FC97CF62A1CC0...\"\n",
      "\n"
     ]
    }
   ],
   "source": [
    "gdal = cobra_gdal.cobra_gdal(schema='osm', run_in_loop=True)"
   ]
  },
  {
   "cell_type": "code",
   "execution_count": null,
   "id": "bb2289ce-b72f-4b51-a489-45cc8eae298e",
   "metadata": {},
   "outputs": [],
   "source": []
  }
 ],
 "metadata": {
  "kernelspec": {
   "display_name": "Python 3 (ipykernel)",
   "language": "python",
   "name": "python3"
  },
  "language_info": {
   "codemirror_mode": {
    "name": "ipython",
    "version": 3
   },
   "file_extension": ".py",
   "mimetype": "text/x-python",
   "name": "python",
   "nbconvert_exporter": "python",
   "pygments_lexer": "ipython3",
   "version": "3.9.7"
  }
 },
 "nbformat": 4,
 "nbformat_minor": 5
}
