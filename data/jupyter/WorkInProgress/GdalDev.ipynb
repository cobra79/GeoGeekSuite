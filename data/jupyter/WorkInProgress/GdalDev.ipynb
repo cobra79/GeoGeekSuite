{
 "cells": [
  {
   "cell_type": "code",
   "execution_count": 19,
   "id": "9da3fe94-ec23-4dcd-ade0-b352fdf695bf",
   "metadata": {},
   "outputs": [],
   "source": [
    "import cobra_postgres\n",
    "import cobra_datamodelfabric\n",
    "import uuid\n",
    "import time\n",
    "import cobra_jobregistry\n",
    "import cobra_gdal\n",
    "import json"
   ]
  },
  {
   "cell_type": "code",
   "execution_count": null,
   "id": "6d2e3907-88c2-4ce2-ae81-2bf5c10d6ee0",
   "metadata": {},
   "outputs": [],
   "source": [
    "reg = cobra_jobregistry.cobra_jobregistry()"
   ]
  },
  {
   "cell_type": "code",
   "execution_count": 20,
   "id": "5c5ab9b7-ee12-4ba5-96c8-6296a4474d07",
   "metadata": {},
   "outputs": [],
   "source": [
    "files = ['gis_osm_buildings_a_free_1.shp',\n",
    "'gis_osm_landuse_a_free_1.shp',\n",
    "'gis_osm_natural_a_free_1.shp',\n",
    "'gis_osm_natural_free_1.shp',\n",
    "'gis_osm_places_a_free_1.shp',\n",
    "'gis_osm_places_free_1.shp',\n",
    "'gis_osm_pofw_a_free_1.shp',\n",
    "'gis_osm_pofw_free_1.shp',\n",
    "'gis_osm_pois_a_free_1.shp',\n",
    "'gis_osm_pois_free_1.shp',\n",
    "'gis_osm_railways_free_1.shp',\n",
    "'gis_osm_roads_free_1.shp',\n",
    "'gis_osm_traffic_a_free_1.shp',\n",
    "'gis_osm_traffic_free_1.shp',\n",
    "'gis_osm_transport_a_free_1.shp',\n",
    "'gis_osm_transport_free_1.shp',\n",
    "'gis_osm_water_a_free_1.shp',\n",
    "'gis_osm_waterways_free_1.shp']"
   ]
  },
  {
   "cell_type": "code",
   "execution_count": null,
   "id": "3b80523e-a1b2-4601-9010-0d74cc52b433",
   "metadata": {},
   "outputs": [],
   "source": [
    "for a_file in files:\n",
    "    reg.create_shape2pg_job(f'/download/{a_file}')"
   ]
  },
  {
   "cell_type": "code",
   "execution_count": 22,
   "id": "bc57e405-e434-472e-9ac1-153e490f632e",
   "metadata": {},
   "outputs": [],
   "source": [
    "for a_file in files:\n",
    "    body = {'path':f'/download/{a_file}'}\n",
    "    r = requests.post('http://jobregistry:5000/job', json=body)\n",
    "    r.text"
   ]
  },
  {
   "cell_type": "code",
   "execution_count": null,
   "id": "dec2507c-2977-4fb3-81a4-6c9ff35232a9",
   "metadata": {},
   "outputs": [],
   "source": [
    "gdal = cobra_gdal.cobra_gdal(schema='osm', run_in_loop=True)"
   ]
  },
  {
   "cell_type": "code",
   "execution_count": 1,
   "id": "bb2289ce-b72f-4b51-a489-45cc8eae298e",
   "metadata": {},
   "outputs": [],
   "source": [
    "import requests"
   ]
  },
  {
   "cell_type": "code",
   "execution_count": 6,
   "id": "fe22aaf7-a950-4300-a93e-9161266ec16a",
   "metadata": {},
   "outputs": [
    {
     "data": {
      "text/plain": [
       "'Hello, Docker!'"
      ]
     },
     "execution_count": 6,
     "metadata": {},
     "output_type": "execute_result"
    }
   ],
   "source": [
    "r = requests.get('http://jobregistry:5000/')\n",
    "r.text"
   ]
  },
  {
   "cell_type": "code",
   "execution_count": 17,
   "id": "e5886fa7-6055-4f04-bfcc-ef9c80f828ed",
   "metadata": {},
   "outputs": [
    {
     "data": {
      "text/plain": [
       "'{\\n  \"job_name\": \"HOmberg\", \\n  \"path\": \"/highway/to/homber\", \\n  \"priority\": 27, \\n  \"skip_failures\": \"False\"\\n}\\n'"
      ]
     },
     "execution_count": 17,
     "metadata": {},
     "output_type": "execute_result"
    }
   ],
   "source": [
    "body = {'path':'/highway/to/homber','job_name':'HOmberg', 'skip_failures':'False','priority':27}\n",
    "r = requests.post('http://jobregistry:5000/job', json=body)\n",
    "r.text"
   ]
  },
  {
   "cell_type": "code",
   "execution_count": null,
   "id": "09144d17-18e0-40a5-9426-e59247488060",
   "metadata": {},
   "outputs": [],
   "source": []
  }
 ],
 "metadata": {
  "kernelspec": {
   "display_name": "Python 3 (ipykernel)",
   "language": "python",
   "name": "python3"
  },
  "language_info": {
   "codemirror_mode": {
    "name": "ipython",
    "version": 3
   },
   "file_extension": ".py",
   "mimetype": "text/x-python",
   "name": "python",
   "nbconvert_exporter": "python",
   "pygments_lexer": "ipython3",
   "version": "3.9.7"
  }
 },
 "nbformat": 4,
 "nbformat_minor": 5
}
