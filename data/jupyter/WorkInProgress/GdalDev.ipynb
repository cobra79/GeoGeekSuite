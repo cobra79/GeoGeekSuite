{
 "cells": [
  {
   "cell_type": "code",
   "execution_count": 1,
   "id": "9da3fe94-ec23-4dcd-ade0-b352fdf695bf",
   "metadata": {},
   "outputs": [],
   "source": [
    "import cobra_postgres\n",
    "import cobra_datamodelfabric\n",
    "import uuid\n",
    "import time"
   ]
  },
  {
   "cell_type": "code",
   "execution_count": 6,
   "id": "3886bc61-3164-4f8c-b113-939606460cd1",
   "metadata": {},
   "outputs": [],
   "source": [
    "pg = cobra_postgres.PgInterface()"
   ]
  },
  {
   "cell_type": "code",
   "execution_count": 7,
   "id": "784c764f-c6be-4bd2-8502-6bc2175df7c9",
   "metadata": {},
   "outputs": [],
   "source": [
    "pg.create_schema('gdal', True)"
   ]
  },
  {
   "cell_type": "code",
   "execution_count": 8,
   "id": "6d2e3907-88c2-4ce2-ae81-2bf5c10d6ee0",
   "metadata": {},
   "outputs": [],
   "source": [
    "import cobra_gdal"
   ]
  },
  {
   "cell_type": "code",
   "execution_count": 9,
   "id": "9f853e7a-c203-4416-b7ad-30d1da3293d2",
   "metadata": {},
   "outputs": [],
   "source": [
    "gdal = cobra_gdal.cobra_gdal()"
   ]
  },
  {
   "cell_type": "code",
   "execution_count": 10,
   "id": "9beb8c4b-01c2-42ac-8455-c9d2de083313",
   "metadata": {},
   "outputs": [],
   "source": [
    "gdal.init_database_structure()"
   ]
  },
  {
   "cell_type": "code",
   "execution_count": 11,
   "id": "5c5ab9b7-ee12-4ba5-96c8-6296a4474d07",
   "metadata": {},
   "outputs": [],
   "source": [
    "files = ['gis_osm_buildings_a_free_1.shp',\n",
    "'gis_osm_landuse_a_free_1.shp',\n",
    "'gis_osm_natural_a_free_1.shp',\n",
    "'gis_osm_natural_free_1.shp',\n",
    "'gis_osm_places_a_free_1.shp',\n",
    "'gis_osm_places_free_1.shp',\n",
    "'gis_osm_pofw_a_free_1.shp',\n",
    "'gis_osm_pofw_free_1.shp',\n",
    "'gis_osm_pois_a_free_1.shp',\n",
    "'gis_osm_pois_free_1.shp',\n",
    "'gis_osm_railways_free_1.shp',\n",
    "'gis_osm_roads_free_1.shp',\n",
    "'gis_osm_traffic_a_free_1.shp',\n",
    "'gis_osm_traffic_free_1.shp',\n",
    "'gis_osm_transport_a_free_1.shp',\n",
    "'gis_osm_transport_free_1.shp',\n",
    "'gis_osm_water_a_free_1.shp',\n",
    "'gis_osm_waterways_free_1.shp']"
   ]
  },
  {
   "cell_type": "code",
   "execution_count": 12,
   "id": "3b80523e-a1b2-4601-9010-0d74cc52b433",
   "metadata": {},
   "outputs": [
    {
     "name": "stdout",
     "output_type": "stream",
     "text": [
      "gis_osm_buildings_a_free_1.shp\n",
      "gis_osm_landuse_a_free_1.shp\n",
      "gis_osm_natural_a_free_1.shp\n",
      "gis_osm_natural_free_1.shp\n",
      "gis_osm_places_a_free_1.shp\n",
      "gis_osm_places_free_1.shp\n",
      "gis_osm_pofw_a_free_1.shp\n",
      "gis_osm_pofw_free_1.shp\n",
      "gis_osm_pois_a_free_1.shp\n",
      "gis_osm_pois_free_1.shp\n",
      "gis_osm_railways_free_1.shp\n",
      "gis_osm_roads_free_1.shp\n",
      "gis_osm_traffic_a_free_1.shp\n",
      "gis_osm_traffic_free_1.shp\n",
      "gis_osm_transport_a_free_1.shp\n",
      "gis_osm_transport_free_1.shp\n",
      "gis_osm_water_a_free_1.shp\n",
      "gis_osm_waterways_free_1.shp\n"
     ]
    }
   ],
   "source": [
    "for a_file in files:\n",
    "    print(a_file)\n",
    "    gdal.create_shape2pg_job(f'/download/{a_file}')"
   ]
  },
  {
   "cell_type": "code",
   "execution_count": 18,
   "id": "4fb79b2c-393a-48c3-bdab-3c07a2ea0d4e",
   "metadata": {},
   "outputs": [],
   "source": [
    "gdal.pick_a_job_when_not_busy()"
   ]
  },
  {
   "cell_type": "code",
   "execution_count": 19,
   "id": "93d2c84d-c87e-4f73-b228-18e2f045dece",
   "metadata": {},
   "outputs": [
    {
     "ename": "KeyboardInterrupt",
     "evalue": "",
     "output_type": "error",
     "traceback": [
      "\u001b[0;31m---------------------------------------------------------------------------\u001b[0m",
      "\u001b[0;31mKeyboardInterrupt\u001b[0m                         Traceback (most recent call last)",
      "\u001b[0;32m/tmp/ipykernel_47/2918545723.py\u001b[0m in \u001b[0;36m<module>\u001b[0;34m\u001b[0m\n\u001b[1;32m      1\u001b[0m \u001b[0;32mfor\u001b[0m \u001b[0mi\u001b[0m \u001b[0;32min\u001b[0m \u001b[0mrange\u001b[0m\u001b[0;34m(\u001b[0m\u001b[0;36m20\u001b[0m\u001b[0;34m)\u001b[0m\u001b[0;34m:\u001b[0m\u001b[0;34m\u001b[0m\u001b[0;34m\u001b[0m\u001b[0m\n\u001b[0;32m----> 2\u001b[0;31m     \u001b[0mtime\u001b[0m\u001b[0;34m.\u001b[0m\u001b[0msleep\u001b[0m\u001b[0;34m(\u001b[0m\u001b[0;36m30\u001b[0m\u001b[0;34m)\u001b[0m\u001b[0;34m\u001b[0m\u001b[0;34m\u001b[0m\u001b[0m\n\u001b[0m\u001b[1;32m      3\u001b[0m     \u001b[0mgdal\u001b[0m\u001b[0;34m.\u001b[0m\u001b[0mpick_a_job_when_not_busy\u001b[0m\u001b[0;34m(\u001b[0m\u001b[0;34m)\u001b[0m\u001b[0;34m\u001b[0m\u001b[0;34m\u001b[0m\u001b[0m\n",
      "\u001b[0;31mKeyboardInterrupt\u001b[0m: "
     ]
    }
   ],
   "source": [
    "for i in range(20):\n",
    "    time.sleep(30)\n",
    "    gdal.pick_a_job_when_not_busy()"
   ]
  },
  {
   "cell_type": "code",
   "execution_count": null,
   "id": "b89a784e-232c-4a0d-b586-425948bb40e7",
   "metadata": {},
   "outputs": [],
   "source": []
  }
 ],
 "metadata": {
  "kernelspec": {
   "display_name": "Python 3 (ipykernel)",
   "language": "python",
   "name": "python3"
  },
  "language_info": {
   "codemirror_mode": {
    "name": "ipython",
    "version": 3
   },
   "file_extension": ".py",
   "mimetype": "text/x-python",
   "name": "python",
   "nbconvert_exporter": "python",
   "pygments_lexer": "ipython3",
   "version": "3.9.7"
  }
 },
 "nbformat": 4,
 "nbformat_minor": 5
}
