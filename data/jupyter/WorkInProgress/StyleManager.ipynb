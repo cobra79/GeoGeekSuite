{
 "cells": [
  {
   "cell_type": "code",
   "execution_count": 2,
   "id": "b1e6aa55-c8f3-4879-93be-5761c560c86c",
   "metadata": {},
   "outputs": [],
   "source": [
    "import cobra.utils.filehandling as fh"
   ]
  },
  {
   "cell_type": "code",
   "execution_count": 3,
   "id": "eecfc32d-c861-491f-aad7-2d7d580e1716",
   "metadata": {},
   "outputs": [],
   "source": [
    "fileman = fh.Filemanager()"
   ]
  },
  {
   "cell_type": "code",
   "execution_count": 4,
   "id": "61860ab4-f831-46df-8202-abca5a7e7c99",
   "metadata": {},
   "outputs": [],
   "source": [
    "fileman.download_plain_file('https://download.geofabrik.de/europe/germany/nordrhein-westfalen/duesseldorf-regbez-latest.osm.pbf','rbzddorf')"
   ]
  },
  {
   "cell_type": "code",
   "execution_count": null,
   "id": "cb756e6b-3b0f-483b-be33-7cfca53354da",
   "metadata": {},
   "outputs": [],
   "source": []
  }
 ],
 "metadata": {
  "kernelspec": {
   "display_name": "Python 3 (ipykernel)",
   "language": "python",
   "name": "python3"
  },
  "language_info": {
   "codemirror_mode": {
    "name": "ipython",
    "version": 3
   },
   "file_extension": ".py",
   "mimetype": "text/x-python",
   "name": "python",
   "nbconvert_exporter": "python",
   "pygments_lexer": "ipython3",
   "version": "3.9.7"
  }
 },
 "nbformat": 4,
 "nbformat_minor": 5
}
