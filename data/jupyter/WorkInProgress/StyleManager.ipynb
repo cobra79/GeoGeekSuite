{
 "cells": [
  {
   "cell_type": "code",
   "execution_count": 3,
   "id": "b1e6aa55-c8f3-4879-93be-5761c560c86c",
   "metadata": {},
   "outputs": [],
   "source": [
    "import cobra.utils.filehandling as fh\n",
    "import cobra.utils.stylehandling as sh"
   ]
  },
  {
   "cell_type": "code",
   "execution_count": 4,
   "id": "eecfc32d-c861-491f-aad7-2d7d580e1716",
   "metadata": {},
   "outputs": [],
   "source": [
    "fileman = fh.Filemanager()\n",
    "styleman = sh.Stylecreator()"
   ]
  },
  {
   "cell_type": "code",
   "execution_count": null,
   "id": "61860ab4-f831-46df-8202-abca5a7e7c99",
   "metadata": {},
   "outputs": [],
   "source": [
    "fileman.download_plain_file('https://download.geofabrik.de/europe/germany/nordrhein-westfalen/duesseldorf-regbez-latest.osm.pbf','rbzddorf')"
   ]
  },
  {
   "cell_type": "code",
   "execution_count": 5,
   "id": "8018a37b-dd18-4df6-82be-9726bdcf3355",
   "metadata": {},
   "outputs": [],
   "source": [
    "attributes_of_interest = ['power','voltage','cables','circuits','operator','wires','frequency','name','ref','line']"
   ]
  },
  {
   "cell_type": "code",
   "execution_count": 8,
   "id": "3df4886d-ac55-40d5-a525-2d191d4a6f05",
   "metadata": {},
   "outputs": [],
   "source": [
    "styleman.create_style_from_attribute_list('power', attributes_of_interest)"
   ]
  },
  {
   "cell_type": "code",
   "execution_count": 9,
   "id": "9fc26657-e2d9-4655-a06a-1bdfe6b73fd2",
   "metadata": {},
   "outputs": [
    {
     "name": "stdout",
     "output_type": "stream",
     "text": [
      "default.style  power.style\n"
     ]
    }
   ],
   "source": [
    "! ls /styles"
   ]
  },
  {
   "cell_type": "code",
   "execution_count": null,
   "id": "14fb4e53-3ac4-4259-9062-ce77b31455d6",
   "metadata": {},
   "outputs": [],
   "source": []
  }
 ],
 "metadata": {
  "kernelspec": {
   "display_name": "Python 3 (ipykernel)",
   "language": "python",
   "name": "python3"
  },
  "language_info": {
   "codemirror_mode": {
    "name": "ipython",
    "version": 3
   },
   "file_extension": ".py",
   "mimetype": "text/x-python",
   "name": "python",
   "nbconvert_exporter": "python",
   "pygments_lexer": "ipython3",
   "version": "3.9.7"
  }
 },
 "nbformat": 4,
 "nbformat_minor": 5
}
