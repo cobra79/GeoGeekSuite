{
 "cells": [
  {
   "cell_type": "code",
   "execution_count": 1,
   "id": "9221badf-9400-4daa-b769-0ab2593a966e",
   "metadata": {},
   "outputs": [],
   "source": [
    "import os"
   ]
  },
  {
   "cell_type": "code",
   "execution_count": null,
   "id": "7275ff56-3dec-4f91-a69a-743c42680490",
   "metadata": {},
   "outputs": [],
   "source": [
    "url = \"http://download.geofabrik.de/europe/portugal-latest-free.shp.zip\""
   ]
  },
  {
   "cell_type": "code",
   "execution_count": null,
   "id": "e36eb270-5eb0-4126-bdfb-75cc182c834e",
   "metadata": {},
   "outputs": [],
   "source": [
    "! wget http://download.geofabrik.de/europe/portugal-latest-free.shp.zip"
   ]
  },
  {
   "cell_type": "code",
   "execution_count": null,
   "id": "f6a41fce-8632-4ab6-92ca-2ea3847de021",
   "metadata": {},
   "outputs": [],
   "source": [
    "! mkdir data"
   ]
  },
  {
   "cell_type": "code",
   "execution_count": null,
   "id": "9d841963-5cc9-4a67-a3cb-b1833e7624fa",
   "metadata": {},
   "outputs": [],
   "source": [
    "os.mkdir('mdata')"
   ]
  },
  {
   "cell_type": "code",
   "execution_count": null,
   "id": "ce4f147e-bc50-46aa-8983-d048e5d0e558",
   "metadata": {},
   "outputs": [],
   "source": [
    "os.system('unzip portugal-latest-free.shp.zip -d ./mdata')"
   ]
  },
  {
   "cell_type": "code",
   "execution_count": null,
   "id": "77c37647-b668-4493-aee9-efcd789e6fc9",
   "metadata": {},
   "outputs": [],
   "source": [
    "cmd = 'ogr2ogr -f \"PostgreSQL\" PG:\"host=postgres dbname=postgres user=postgres password=marco\" \"./mdata/gis_osm_roads_free_1.shp\" -skip-failures'"
   ]
  },
  {
   "cell_type": "code",
   "execution_count": null,
   "id": "25e9d6cd-5c14-4554-a63f-a32e55533505",
   "metadata": {},
   "outputs": [],
   "source": [
    "os.system(cmd)"
   ]
  },
  {
   "cell_type": "markdown",
   "id": "dc396749-97f0-4d6a-a1fd-788f7e060f61",
   "metadata": {},
   "source": [
    "ogr2ogr.exe -f \"PostgreSQL\" PG:\"dbname=my_database user=postgres\" \"source_data.shp\" -skip-failures"
   ]
  }
 ],
 "metadata": {
  "kernelspec": {
   "display_name": "Python 3 (ipykernel)",
   "language": "python",
   "name": "python3"
  },
  "language_info": {
   "codemirror_mode": {
    "name": "ipython",
    "version": 3
   },
   "file_extension": ".py",
   "mimetype": "text/x-python",
   "name": "python",
   "nbconvert_exporter": "python",
   "pygments_lexer": "ipython3",
   "version": "3.9.7"
  }
 },
 "nbformat": 4,
 "nbformat_minor": 5
}
