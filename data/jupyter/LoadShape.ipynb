{
 "cells": [
  {
   "cell_type": "code",
   "execution_count": 6,
   "id": "9221badf-9400-4daa-b769-0ab2593a966e",
   "metadata": {},
   "outputs": [],
   "source": [
    "import os"
   ]
  },
  {
   "cell_type": "code",
   "execution_count": 2,
   "id": "7275ff56-3dec-4f91-a69a-743c42680490",
   "metadata": {},
   "outputs": [],
   "source": [
    "url = \"http://download.geofabrik.de/europe/portugal-latest-free.shp.zip\""
   ]
  },
  {
   "cell_type": "code",
   "execution_count": 3,
   "id": "e36eb270-5eb0-4126-bdfb-75cc182c834e",
   "metadata": {},
   "outputs": [
    {
     "name": "stdout",
     "output_type": "stream",
     "text": [
      "--2021-12-02 21:22:42--  http://download.geofabrik.de/europe/portugal-latest-free.shp.zip\n",
      "Resolving download.geofabrik.de (download.geofabrik.de)... 116.202.112.212, 95.216.115.119\n",
      "Connecting to download.geofabrik.de (download.geofabrik.de)|116.202.112.212|:80... connected.\n",
      "HTTP request sent, awaiting response... 200 OK\n",
      "Length: 485018850 (463M) [application/zip]\n",
      "Saving to: ‘portugal-latest-free.shp.zip’\n",
      "\n",
      "portugal-latest-fre 100%[===================>] 462.55M  3.07MB/s    in 2m 34s  \n",
      "\n",
      "2021-12-02 21:25:16 (3.00 MB/s) - ‘portugal-latest-free.shp.zip’ saved [485018850/485018850]\n",
      "\n"
     ]
    }
   ],
   "source": [
    "! wget http://download.geofabrik.de/europe/portugal-latest-free.shp.zip"
   ]
  },
  {
   "cell_type": "code",
   "execution_count": 2,
   "id": "f6a41fce-8632-4ab6-92ca-2ea3847de021",
   "metadata": {},
   "outputs": [],
   "source": [
    "! mkdir data"
   ]
  },
  {
   "cell_type": "code",
   "execution_count": 7,
   "id": "9d841963-5cc9-4a67-a3cb-b1833e7624fa",
   "metadata": {},
   "outputs": [],
   "source": [
    "os.mkdir('mdata')"
   ]
  },
  {
   "cell_type": "code",
   "execution_count": 9,
   "id": "ce4f147e-bc50-46aa-8983-d048e5d0e558",
   "metadata": {},
   "outputs": [
    {
     "name": "stdout",
     "output_type": "stream",
     "text": [
      "Archive:  portugal-latest-free.shp.zip\n",
      "  inflating: ./mdata/README          \n",
      " extracting: ./mdata/gis_osm_buildings_a_free_1.cpg  \n",
      "  inflating: ./mdata/gis_osm_buildings_a_free_1.dbf  \n",
      "  inflating: ./mdata/gis_osm_buildings_a_free_1.prj  \n",
      "  inflating: ./mdata/gis_osm_buildings_a_free_1.shp  \n",
      "  inflating: ./mdata/gis_osm_buildings_a_free_1.shx  \n",
      " extracting: ./mdata/gis_osm_landuse_a_free_1.cpg  \n",
      "  inflating: ./mdata/gis_osm_landuse_a_free_1.dbf  \n",
      "  inflating: ./mdata/gis_osm_landuse_a_free_1.prj  \n",
      "  inflating: ./mdata/gis_osm_landuse_a_free_1.shp  \n",
      "  inflating: ./mdata/gis_osm_landuse_a_free_1.shx  \n",
      " extracting: ./mdata/gis_osm_natural_a_free_1.cpg  \n",
      "  inflating: ./mdata/gis_osm_natural_a_free_1.dbf  \n",
      "  inflating: ./mdata/gis_osm_natural_a_free_1.prj  \n",
      "  inflating: ./mdata/gis_osm_natural_a_free_1.shp  \n",
      "  inflating: ./mdata/gis_osm_natural_a_free_1.shx  \n",
      " extracting: ./mdata/gis_osm_natural_free_1.cpg  \n",
      "  inflating: ./mdata/gis_osm_natural_free_1.dbf  \n",
      "  inflating: ./mdata/gis_osm_natural_free_1.prj  \n",
      "  inflating: ./mdata/gis_osm_natural_free_1.shp  \n",
      "  inflating: ./mdata/gis_osm_natural_free_1.shx  \n",
      " extracting: ./mdata/gis_osm_places_a_free_1.cpg  \n",
      "  inflating: ./mdata/gis_osm_places_a_free_1.dbf  \n",
      "  inflating: ./mdata/gis_osm_places_a_free_1.prj  \n",
      "  inflating: ./mdata/gis_osm_places_a_free_1.shp  \n",
      "  inflating: ./mdata/gis_osm_places_a_free_1.shx  \n",
      " extracting: ./mdata/gis_osm_places_free_1.cpg  \n",
      "  inflating: ./mdata/gis_osm_places_free_1.dbf  \n",
      "  inflating: ./mdata/gis_osm_places_free_1.prj  \n",
      "  inflating: ./mdata/gis_osm_places_free_1.shp  \n",
      "  inflating: ./mdata/gis_osm_places_free_1.shx  \n",
      " extracting: ./mdata/gis_osm_pofw_a_free_1.cpg  \n",
      "  inflating: ./mdata/gis_osm_pofw_a_free_1.dbf  \n",
      "  inflating: ./mdata/gis_osm_pofw_a_free_1.prj  \n",
      "  inflating: ./mdata/gis_osm_pofw_a_free_1.shp  \n",
      "  inflating: ./mdata/gis_osm_pofw_a_free_1.shx  \n",
      " extracting: ./mdata/gis_osm_pofw_free_1.cpg  \n",
      "  inflating: ./mdata/gis_osm_pofw_free_1.dbf  \n",
      "  inflating: ./mdata/gis_osm_pofw_free_1.prj  \n",
      "  inflating: ./mdata/gis_osm_pofw_free_1.shp  \n",
      "  inflating: ./mdata/gis_osm_pofw_free_1.shx  \n",
      " extracting: ./mdata/gis_osm_pois_a_free_1.cpg  \n",
      "  inflating: ./mdata/gis_osm_pois_a_free_1.dbf  \n",
      "  inflating: ./mdata/gis_osm_pois_a_free_1.prj  \n",
      "  inflating: ./mdata/gis_osm_pois_a_free_1.shp  \n",
      "  inflating: ./mdata/gis_osm_pois_a_free_1.shx  \n",
      " extracting: ./mdata/gis_osm_pois_free_1.cpg  \n",
      "  inflating: ./mdata/gis_osm_pois_free_1.dbf  \n",
      "  inflating: ./mdata/gis_osm_pois_free_1.prj  \n",
      "  inflating: ./mdata/gis_osm_pois_free_1.shp  \n",
      "  inflating: ./mdata/gis_osm_pois_free_1.shx  \n",
      " extracting: ./mdata/gis_osm_railways_free_1.cpg  \n",
      "  inflating: ./mdata/gis_osm_railways_free_1.dbf  \n",
      "  inflating: ./mdata/gis_osm_railways_free_1.prj  \n",
      "  inflating: ./mdata/gis_osm_railways_free_1.shp  \n",
      "  inflating: ./mdata/gis_osm_railways_free_1.shx  \n",
      " extracting: ./mdata/gis_osm_roads_free_1.cpg  \n",
      "  inflating: ./mdata/gis_osm_roads_free_1.dbf  \n",
      "  inflating: ./mdata/gis_osm_roads_free_1.prj  \n",
      "  inflating: ./mdata/gis_osm_roads_free_1.shp  \n",
      "  inflating: ./mdata/gis_osm_roads_free_1.shx  \n",
      " extracting: ./mdata/gis_osm_traffic_a_free_1.cpg  \n",
      "  inflating: ./mdata/gis_osm_traffic_a_free_1.dbf  \n",
      "  inflating: ./mdata/gis_osm_traffic_a_free_1.prj  \n",
      "  inflating: ./mdata/gis_osm_traffic_a_free_1.shp  \n",
      "  inflating: ./mdata/gis_osm_traffic_a_free_1.shx  \n",
      " extracting: ./mdata/gis_osm_traffic_free_1.cpg  \n",
      "  inflating: ./mdata/gis_osm_traffic_free_1.dbf  \n",
      "  inflating: ./mdata/gis_osm_traffic_free_1.prj  \n",
      "  inflating: ./mdata/gis_osm_traffic_free_1.shp  \n",
      "  inflating: ./mdata/gis_osm_traffic_free_1.shx  \n",
      " extracting: ./mdata/gis_osm_transport_a_free_1.cpg  \n",
      "  inflating: ./mdata/gis_osm_transport_a_free_1.dbf  \n",
      "  inflating: ./mdata/gis_osm_transport_a_free_1.prj  \n",
      "  inflating: ./mdata/gis_osm_transport_a_free_1.shp  \n",
      "  inflating: ./mdata/gis_osm_transport_a_free_1.shx  \n",
      " extracting: ./mdata/gis_osm_transport_free_1.cpg  \n",
      "  inflating: ./mdata/gis_osm_transport_free_1.dbf  \n",
      "  inflating: ./mdata/gis_osm_transport_free_1.prj  \n",
      "  inflating: ./mdata/gis_osm_transport_free_1.shp  \n",
      "  inflating: ./mdata/gis_osm_transport_free_1.shx  \n",
      " extracting: ./mdata/gis_osm_water_a_free_1.cpg  \n",
      "  inflating: ./mdata/gis_osm_water_a_free_1.dbf  \n",
      "  inflating: ./mdata/gis_osm_water_a_free_1.prj  \n",
      "  inflating: ./mdata/gis_osm_water_a_free_1.shp  \n",
      "  inflating: ./mdata/gis_osm_water_a_free_1.shx  \n",
      " extracting: ./mdata/gis_osm_waterways_free_1.cpg  \n",
      "  inflating: ./mdata/gis_osm_waterways_free_1.dbf  \n",
      "  inflating: ./mdata/gis_osm_waterways_free_1.prj  \n",
      "  inflating: ./mdata/gis_osm_waterways_free_1.shp  \n",
      "  inflating: ./mdata/gis_osm_waterways_free_1.shx  \n"
     ]
    },
    {
     "data": {
      "text/plain": [
       "0"
      ]
     },
     "execution_count": 9,
     "metadata": {},
     "output_type": "execute_result"
    }
   ],
   "source": [
    "os.system('unzip portugal-latest-free.shp.zip -d ./mdata')"
   ]
  },
  {
   "cell_type": "code",
   "execution_count": 17,
   "id": "77c37647-b668-4493-aee9-efcd789e6fc9",
   "metadata": {},
   "outputs": [],
   "source": [
    "cmd = 'ogr2ogr -f \"PostgreSQL\" PG:\"host=postgres dbname=postgres user=postgres password=marco\" \"./mdata/gis_osm_roads_free_1.shp\" -skip-failures'"
   ]
  },
  {
   "cell_type": "code",
   "execution_count": 18,
   "id": "25e9d6cd-5c14-4554-a63f-a32e55533505",
   "metadata": {},
   "outputs": [
    {
     "data": {
      "text/plain": [
       "2"
      ]
     },
     "execution_count": 18,
     "metadata": {},
     "output_type": "execute_result"
    }
   ],
   "source": [
    "os.system(cmd)"
   ]
  },
  {
   "cell_type": "markdown",
   "id": "dc396749-97f0-4d6a-a1fd-788f7e060f61",
   "metadata": {},
   "source": [
    "ogr2ogr.exe -f \"PostgreSQL\" PG:\"dbname=my_database user=postgres\" \"source_data.shp\" -skip-failures"
   ]
  }
 ],
 "metadata": {
  "kernelspec": {
   "display_name": "Python 3 (ipykernel)",
   "language": "python",
   "name": "python3"
  },
  "language_info": {
   "codemirror_mode": {
    "name": "ipython",
    "version": 3
   },
   "file_extension": ".py",
   "mimetype": "text/x-python",
   "name": "python",
   "nbconvert_exporter": "python",
   "pygments_lexer": "ipython3",
   "version": "3.9.7"
  }
 },
 "nbformat": 4,
 "nbformat_minor": 5
}
