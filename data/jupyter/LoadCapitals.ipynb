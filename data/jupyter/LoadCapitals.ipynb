{
 "cells": [
  {
   "cell_type": "code",
   "execution_count": null,
   "id": "d8da42f1-013e-4802-8ebc-b33a1826e40e",
   "metadata": {},
   "outputs": [],
   "source": [
    "import pandas as pd\n",
    "import json"
   ]
  },
  {
   "cell_type": "code",
   "execution_count": null,
   "id": "ba3e0ac2-1925-4df6-82bd-908a94dd6580",
   "metadata": {},
   "outputs": [],
   "source": [
    "! wget https://raw.githubusercontent.com/Ginden/capitals/master/europe.json"
   ]
  },
  {
   "cell_type": "code",
   "execution_count": null,
   "id": "466fff09-8973-4eb7-a947-fdca8f88d8c4",
   "metadata": {},
   "outputs": [],
   "source": [
    "with open('europe.json') as f:\n",
    "    data = json.load(f)\n",
    "    for a_capital in data:\n",
    "        capital_name = a_capital['properties']['capital']\n",
    "        lat = a_capital['geometry']['coordinates'][0]\n",
    "        lon = a_capital['geometry']['coordinates'][1]\n",
    "        print(f'{capital_name} {lat} {lon}')"
   ]
  },
  {
   "cell_type": "code",
   "execution_count": null,
   "id": "81063e50-3099-441b-94c0-b7c2935f4115",
   "metadata": {},
   "outputs": [],
   "source": []
  }
 ],
 "metadata": {
  "kernelspec": {
   "display_name": "Python 3 (ipykernel)",
   "language": "python",
   "name": "python3"
  },
  "language_info": {
   "codemirror_mode": {
    "name": "ipython",
    "version": 3
   },
   "file_extension": ".py",
   "mimetype": "text/x-python",
   "name": "python",
   "nbconvert_exporter": "python",
   "pygments_lexer": "ipython3",
   "version": "3.9.7"
  }
 },
 "nbformat": 4,
 "nbformat_minor": 5
}
