{
 "cells": [
  {
   "cell_type": "code",
   "execution_count": null,
   "id": "d8da42f1-013e-4802-8ebc-b33a1826e40e",
   "metadata": {},
   "outputs": [],
   "source": [
    "import pandas as pd\n",
    "import json\n",
    "import os\n",
    "import psycopg2"
   ]
  },
  {
   "cell_type": "code",
   "execution_count": null,
   "id": "ba3e0ac2-1925-4df6-82bd-908a94dd6580",
   "metadata": {},
   "outputs": [],
   "source": [
    "! wget https://raw.githubusercontent.com/Ginden/capitals/master/europe.json"
   ]
  },
  {
   "cell_type": "code",
   "execution_count": null,
   "id": "c4dc2e64-8607-4c02-9c73-a4ad19b33261",
   "metadata": {},
   "outputs": [],
   "source": [
    "host = 'postgres'\n",
    "database = 'postgres'\n",
    "user = 'postgres'\n",
    "password = os.environ['POSTGRES_PASSWORD']\n",
    "connection_string = f'host={host} dbname={database} user={user} password={password}'"
   ]
  },
  {
   "cell_type": "code",
   "execution_count": null,
   "id": "7d8ff8da-20c7-4597-a941-6d21ec40d5e1",
   "metadata": {},
   "outputs": [],
   "source": [
    "def execute_simple_sql(sql, fetch='None'):\n",
    "    with psycopg2.connect(connection_string) as conn:\n",
    "        with conn.cursor() as curs:\n",
    "            if fetch=='None':\n",
    "                curs.execute(sql)\n",
    "            elif fetch=='One':\n",
    "                curs.execute(sql)\n",
    "                result = curs.fetchone();\n",
    "                return result"
   ]
  },
  {
   "cell_type": "code",
   "execution_count": null,
   "id": "e76e0111-3c8c-4e01-bb1c-e48fb9c95c32",
   "metadata": {},
   "outputs": [],
   "source": [
    "sql='CREATE TABLE capitals(gid serial PRIMARY KEY, name TEXT, point geography(POINT,4326) );'\n",
    "execute_simple_sql(sql)"
   ]
  },
  {
   "cell_type": "code",
   "execution_count": null,
   "id": "466fff09-8973-4eb7-a947-fdca8f88d8c4",
   "metadata": {},
   "outputs": [],
   "source": [
    "with open('europe.json') as f:\n",
    "    data = json.load(f)\n",
    "    for a_capital in data:\n",
    "        capital_name = a_capital['properties']['capital']\n",
    "        lon = a_capital['geometry']['coordinates'][0]\n",
    "        lat = a_capital['geometry']['coordinates'][1]\n",
    "        sql = f\"INSERT INTO capitals (name, point) VALUES ('{capital_name}', 'SRID=4326;POINT({lon} {lat})');\"\n",
    "        #Please do not use the following function in a loop over a larger dataset\n",
    "        execute_simple_sql(sql)"
   ]
  },
  {
   "cell_type": "code",
   "execution_count": null,
   "id": "81063e50-3099-441b-94c0-b7c2935f4115",
   "metadata": {},
   "outputs": [],
   "source": []
  }
 ],
 "metadata": {
  "kernelspec": {
   "display_name": "Python 3 (ipykernel)",
   "language": "python",
   "name": "python3"
  },
  "language_info": {
   "codemirror_mode": {
    "name": "ipython",
    "version": 3
   },
   "file_extension": ".py",
   "mimetype": "text/x-python",
   "name": "python",
   "nbconvert_exporter": "python",
   "pygments_lexer": "ipython3",
   "version": "3.9.7"
  }
 },
 "nbformat": 4,
 "nbformat_minor": 5
}
