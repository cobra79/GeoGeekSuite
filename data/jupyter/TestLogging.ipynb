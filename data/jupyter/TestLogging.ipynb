{
 "cells": [
  {
   "cell_type": "code",
   "execution_count": 1,
   "id": "c07a86fb-4144-425d-b2b7-305db8b58df5",
   "metadata": {},
   "outputs": [],
   "source": [
    "import cobra_logging"
   ]
  },
  {
   "cell_type": "code",
   "execution_count": 3,
   "id": "b87909db-9af4-46e0-a103-29d6faa1f6ca",
   "metadata": {},
   "outputs": [],
   "source": [
    "l = cobra_logging.Logger('Jupyter')"
   ]
  },
  {
   "cell_type": "code",
   "execution_count": 4,
   "id": "955dc876-bafe-487b-9633-0badbb70cca5",
   "metadata": {},
   "outputs": [
    {
     "name": "stdout",
     "output_type": "stream",
     "text": [
      "DEBUG [Jupyter] Test\n"
     ]
    }
   ],
   "source": [
    "l.debug(\"Test\")"
   ]
  },
  {
   "cell_type": "code",
   "execution_count": null,
   "id": "22667767-9f79-444b-ac39-7e159f6153d1",
   "metadata": {},
   "outputs": [],
   "source": []
  }
 ],
 "metadata": {
  "kernelspec": {
   "display_name": "Python 3 (ipykernel)",
   "language": "python",
   "name": "python3"
  },
  "language_info": {
   "codemirror_mode": {
    "name": "ipython",
    "version": 3
   },
   "file_extension": ".py",
   "mimetype": "text/x-python",
   "name": "python",
   "nbconvert_exporter": "python",
   "pygments_lexer": "ipython3",
   "version": "3.9.7"
  }
 },
 "nbformat": 4,
 "nbformat_minor": 5
}
